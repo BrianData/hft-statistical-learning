{
 "cells": [
  {
   "cell_type": "markdown",
   "metadata": {},
   "source": [
    "### Dataset source :\n",
    "##### https://www.drivendata.org/competitions/7/pump-it-up-data-mining-the-water-table/\n",
    "\n",
    "#### Notebook tested with : Python 2.7 and 3.5, Conda environment"
   ]
  },
  {
   "cell_type": "code",
   "execution_count": 1,
   "metadata": {
    "collapsed": false
   },
   "outputs": [],
   "source": [
    "#%matplotlib inline"
   ]
  },
  {
   "cell_type": "code",
   "execution_count": 2,
   "metadata": {
    "collapsed": true
   },
   "outputs": [],
   "source": [
    "from __future__ import print_function # for Python 2.7"
   ]
  },
  {
   "cell_type": "code",
   "execution_count": 3,
   "metadata": {
    "collapsed": true
   },
   "outputs": [],
   "source": [
    "from IPython.display import display, HTML"
   ]
  },
  {
   "cell_type": "code",
   "execution_count": 4,
   "metadata": {
    "collapsed": true
   },
   "outputs": [],
   "source": [
    "def display_pd(some_df):\n",
    "    display(HTML(some_df.to_html()))"
   ]
  },
  {
   "cell_type": "code",
   "execution_count": 5,
   "metadata": {
    "collapsed": true
   },
   "outputs": [],
   "source": [
    "import operator\n",
    "import math\n",
    "import pandas as pd\n",
    "import numpy as np\n",
    "import scipy.stats as ss"
   ]
  },
  {
   "cell_type": "code",
   "execution_count": 6,
   "metadata": {
    "collapsed": true
   },
   "outputs": [],
   "source": [
    "from sklearn.linear_model import LogisticRegression\n",
    "from sklearn.ensemble import RandomForestClassifier\n",
    "\n",
    "import xgboost as xgb # INFO : conda install -c aterrel xgboost=0.4.0.c4fa2f"
   ]
  },
  {
   "cell_type": "code",
   "execution_count": 7,
   "metadata": {
    "collapsed": true
   },
   "outputs": [],
   "source": [
    "# see thread : https://stackoverflow.com/questions/20892799/using-pandas-calculate-cram%C3%A9rs-coefficient-matrix\n",
    "def cramers_corrected_stat(confusion_matrix):\n",
    "    \"\"\" calculate Cramers V statistic for categorial-categorial association.\n",
    "        uses correction from Bergsma and Wicher, \n",
    "        Journal of the Korean Statistical Society 42 (2013): 323-328\n",
    "    \"\"\"\n",
    "    chi2 = float(ss.chi2_contingency(confusion_matrix)[0])\n",
    "    n = float(confusion_matrix.sum())\n",
    "    phi2 = chi2/n\n",
    "    r,k = confusion_matrix.shape\n",
    "    phi2corr = max(0, phi2 - ((k-1)*(r-1))/(n-1))    \n",
    "    rcorr = r - ((r-1)**2)/(n-1)\n",
    "    kcorr = k - ((k-1)**2)/(n-1)\n",
    "    return np.sqrt(phi2corr / min( (kcorr-1), (rcorr-1)))\n",
    "\n",
    "\n",
    "def cramers_stat(confusion_matrix):\n",
    "    chi2 = ss.chi2_contingency(confusion_matrix)[0]\n",
    "    n = confusion_matrix.sum()\n",
    "    return np.sqrt(chi2 / (n*(min(confusion_matrix.shape)-1)))"
   ]
  },
  {
   "cell_type": "markdown",
   "metadata": {},
   "source": [
    "## Load datasets"
   ]
  },
  {
   "cell_type": "code",
   "execution_count": 8,
   "metadata": {
    "collapsed": true
   },
   "outputs": [],
   "source": [
    "dfX = pd.read_csv('PUMP_training_set_values.csv')\n",
    "dfY = pd.read_csv('PUMP_training_set_labels.csv')"
   ]
  },
  {
   "cell_type": "code",
   "execution_count": 9,
   "metadata": {
    "collapsed": false
   },
   "outputs": [
    {
     "data": {
      "text/plain": [
       "(59400, 40, 2)"
      ]
     },
     "execution_count": 9,
     "metadata": {},
     "output_type": "execute_result"
    }
   ],
   "source": [
    "assert(dfX.shape[0] == dfY.shape[0])\n",
    "\n",
    "dfX.shape[0], dfX.shape[1], dfY.shape[1] # The size of the dataset : some models/algos require large datasets"
   ]
  },
  {
   "cell_type": "code",
   "execution_count": 10,
   "metadata": {
    "collapsed": false
   },
   "outputs": [
    {
     "data": {
      "text/html": [
       "<table border=\"1\" class=\"dataframe\">\n",
       "  <thead>\n",
       "    <tr style=\"text-align: right;\">\n",
       "      <th></th>\n",
       "      <th>id</th>\n",
       "      <th>amount_tsh</th>\n",
       "      <th>date_recorded</th>\n",
       "      <th>funder</th>\n",
       "      <th>gps_height</th>\n",
       "      <th>installer</th>\n",
       "      <th>longitude</th>\n",
       "      <th>latitude</th>\n",
       "      <th>wpt_name</th>\n",
       "      <th>num_private</th>\n",
       "      <th>basin</th>\n",
       "      <th>subvillage</th>\n",
       "      <th>region</th>\n",
       "      <th>region_code</th>\n",
       "      <th>district_code</th>\n",
       "      <th>lga</th>\n",
       "      <th>ward</th>\n",
       "      <th>population</th>\n",
       "      <th>public_meeting</th>\n",
       "      <th>recorded_by</th>\n",
       "      <th>scheme_management</th>\n",
       "      <th>scheme_name</th>\n",
       "      <th>permit</th>\n",
       "      <th>construction_year</th>\n",
       "      <th>extraction_type</th>\n",
       "      <th>extraction_type_group</th>\n",
       "      <th>extraction_type_class</th>\n",
       "      <th>management</th>\n",
       "      <th>management_group</th>\n",
       "      <th>payment</th>\n",
       "      <th>payment_type</th>\n",
       "      <th>water_quality</th>\n",
       "      <th>quality_group</th>\n",
       "      <th>quantity</th>\n",
       "      <th>quantity_group</th>\n",
       "      <th>source</th>\n",
       "      <th>source_type</th>\n",
       "      <th>source_class</th>\n",
       "      <th>waterpoint_type</th>\n",
       "      <th>waterpoint_type_group</th>\n",
       "    </tr>\n",
       "  </thead>\n",
       "  <tbody>\n",
       "    <tr>\n",
       "      <th>0</th>\n",
       "      <td>69572</td>\n",
       "      <td>6000.0</td>\n",
       "      <td>2011-03-14</td>\n",
       "      <td>Roman</td>\n",
       "      <td>1390</td>\n",
       "      <td>Roman</td>\n",
       "      <td>34.938093</td>\n",
       "      <td>-9.856322</td>\n",
       "      <td>none</td>\n",
       "      <td>0</td>\n",
       "      <td>Lake Nyasa</td>\n",
       "      <td>Mnyusi B</td>\n",
       "      <td>Iringa</td>\n",
       "      <td>11</td>\n",
       "      <td>5</td>\n",
       "      <td>Ludewa</td>\n",
       "      <td>Mundindi</td>\n",
       "      <td>109</td>\n",
       "      <td>True</td>\n",
       "      <td>GeoData Consultants Ltd</td>\n",
       "      <td>VWC</td>\n",
       "      <td>Roman</td>\n",
       "      <td>False</td>\n",
       "      <td>1999</td>\n",
       "      <td>gravity</td>\n",
       "      <td>gravity</td>\n",
       "      <td>gravity</td>\n",
       "      <td>vwc</td>\n",
       "      <td>user-group</td>\n",
       "      <td>pay annually</td>\n",
       "      <td>annually</td>\n",
       "      <td>soft</td>\n",
       "      <td>good</td>\n",
       "      <td>enough</td>\n",
       "      <td>enough</td>\n",
       "      <td>spring</td>\n",
       "      <td>spring</td>\n",
       "      <td>groundwater</td>\n",
       "      <td>communal standpipe</td>\n",
       "      <td>communal standpipe</td>\n",
       "    </tr>\n",
       "    <tr>\n",
       "      <th>1</th>\n",
       "      <td>8776</td>\n",
       "      <td>0.0</td>\n",
       "      <td>2013-03-06</td>\n",
       "      <td>Grumeti</td>\n",
       "      <td>1399</td>\n",
       "      <td>GRUMETI</td>\n",
       "      <td>34.698766</td>\n",
       "      <td>-2.147466</td>\n",
       "      <td>Zahanati</td>\n",
       "      <td>0</td>\n",
       "      <td>Lake Victoria</td>\n",
       "      <td>Nyamara</td>\n",
       "      <td>Mara</td>\n",
       "      <td>20</td>\n",
       "      <td>2</td>\n",
       "      <td>Serengeti</td>\n",
       "      <td>Natta</td>\n",
       "      <td>280</td>\n",
       "      <td>NaN</td>\n",
       "      <td>GeoData Consultants Ltd</td>\n",
       "      <td>Other</td>\n",
       "      <td>NaN</td>\n",
       "      <td>True</td>\n",
       "      <td>2010</td>\n",
       "      <td>gravity</td>\n",
       "      <td>gravity</td>\n",
       "      <td>gravity</td>\n",
       "      <td>wug</td>\n",
       "      <td>user-group</td>\n",
       "      <td>never pay</td>\n",
       "      <td>never pay</td>\n",
       "      <td>soft</td>\n",
       "      <td>good</td>\n",
       "      <td>insufficient</td>\n",
       "      <td>insufficient</td>\n",
       "      <td>rainwater harvesting</td>\n",
       "      <td>rainwater harvesting</td>\n",
       "      <td>surface</td>\n",
       "      <td>communal standpipe</td>\n",
       "      <td>communal standpipe</td>\n",
       "    </tr>\n",
       "    <tr>\n",
       "      <th>2</th>\n",
       "      <td>34310</td>\n",
       "      <td>25.0</td>\n",
       "      <td>2013-02-25</td>\n",
       "      <td>Lottery Club</td>\n",
       "      <td>686</td>\n",
       "      <td>World vision</td>\n",
       "      <td>37.460664</td>\n",
       "      <td>-3.821329</td>\n",
       "      <td>Kwa Mahundi</td>\n",
       "      <td>0</td>\n",
       "      <td>Pangani</td>\n",
       "      <td>Majengo</td>\n",
       "      <td>Manyara</td>\n",
       "      <td>21</td>\n",
       "      <td>4</td>\n",
       "      <td>Simanjiro</td>\n",
       "      <td>Ngorika</td>\n",
       "      <td>250</td>\n",
       "      <td>True</td>\n",
       "      <td>GeoData Consultants Ltd</td>\n",
       "      <td>VWC</td>\n",
       "      <td>Nyumba ya mungu pipe scheme</td>\n",
       "      <td>True</td>\n",
       "      <td>2009</td>\n",
       "      <td>gravity</td>\n",
       "      <td>gravity</td>\n",
       "      <td>gravity</td>\n",
       "      <td>vwc</td>\n",
       "      <td>user-group</td>\n",
       "      <td>pay per bucket</td>\n",
       "      <td>per bucket</td>\n",
       "      <td>soft</td>\n",
       "      <td>good</td>\n",
       "      <td>enough</td>\n",
       "      <td>enough</td>\n",
       "      <td>dam</td>\n",
       "      <td>dam</td>\n",
       "      <td>surface</td>\n",
       "      <td>communal standpipe multiple</td>\n",
       "      <td>communal standpipe</td>\n",
       "    </tr>\n",
       "    <tr>\n",
       "      <th>3</th>\n",
       "      <td>67743</td>\n",
       "      <td>0.0</td>\n",
       "      <td>2013-01-28</td>\n",
       "      <td>Unicef</td>\n",
       "      <td>263</td>\n",
       "      <td>UNICEF</td>\n",
       "      <td>38.486161</td>\n",
       "      <td>-11.155298</td>\n",
       "      <td>Zahanati Ya Nanyumbu</td>\n",
       "      <td>0</td>\n",
       "      <td>Ruvuma / Southern Coast</td>\n",
       "      <td>Mahakamani</td>\n",
       "      <td>Mtwara</td>\n",
       "      <td>90</td>\n",
       "      <td>63</td>\n",
       "      <td>Nanyumbu</td>\n",
       "      <td>Nanyumbu</td>\n",
       "      <td>58</td>\n",
       "      <td>True</td>\n",
       "      <td>GeoData Consultants Ltd</td>\n",
       "      <td>VWC</td>\n",
       "      <td>NaN</td>\n",
       "      <td>True</td>\n",
       "      <td>1986</td>\n",
       "      <td>submersible</td>\n",
       "      <td>submersible</td>\n",
       "      <td>submersible</td>\n",
       "      <td>vwc</td>\n",
       "      <td>user-group</td>\n",
       "      <td>never pay</td>\n",
       "      <td>never pay</td>\n",
       "      <td>soft</td>\n",
       "      <td>good</td>\n",
       "      <td>dry</td>\n",
       "      <td>dry</td>\n",
       "      <td>machine dbh</td>\n",
       "      <td>borehole</td>\n",
       "      <td>groundwater</td>\n",
       "      <td>communal standpipe multiple</td>\n",
       "      <td>communal standpipe</td>\n",
       "    </tr>\n",
       "    <tr>\n",
       "      <th>4</th>\n",
       "      <td>19728</td>\n",
       "      <td>0.0</td>\n",
       "      <td>2011-07-13</td>\n",
       "      <td>Action In A</td>\n",
       "      <td>0</td>\n",
       "      <td>Artisan</td>\n",
       "      <td>31.130847</td>\n",
       "      <td>-1.825359</td>\n",
       "      <td>Shuleni</td>\n",
       "      <td>0</td>\n",
       "      <td>Lake Victoria</td>\n",
       "      <td>Kyanyamisa</td>\n",
       "      <td>Kagera</td>\n",
       "      <td>18</td>\n",
       "      <td>1</td>\n",
       "      <td>Karagwe</td>\n",
       "      <td>Nyakasimbi</td>\n",
       "      <td>0</td>\n",
       "      <td>True</td>\n",
       "      <td>GeoData Consultants Ltd</td>\n",
       "      <td>NaN</td>\n",
       "      <td>NaN</td>\n",
       "      <td>True</td>\n",
       "      <td>0</td>\n",
       "      <td>gravity</td>\n",
       "      <td>gravity</td>\n",
       "      <td>gravity</td>\n",
       "      <td>other</td>\n",
       "      <td>other</td>\n",
       "      <td>never pay</td>\n",
       "      <td>never pay</td>\n",
       "      <td>soft</td>\n",
       "      <td>good</td>\n",
       "      <td>seasonal</td>\n",
       "      <td>seasonal</td>\n",
       "      <td>rainwater harvesting</td>\n",
       "      <td>rainwater harvesting</td>\n",
       "      <td>surface</td>\n",
       "      <td>communal standpipe</td>\n",
       "      <td>communal standpipe</td>\n",
       "    </tr>\n",
       "  </tbody>\n",
       "</table>"
      ],
      "text/plain": [
       "<IPython.core.display.HTML object>"
      ]
     },
     "metadata": {},
     "output_type": "display_data"
    }
   ],
   "source": [
    "display_pd(dfX.head(5)) # special display to see all columns"
   ]
  },
  {
   "cell_type": "code",
   "execution_count": 11,
   "metadata": {
    "collapsed": false
   },
   "outputs": [
    {
     "data": {
      "text/html": [
       "<div>\n",
       "<table border=\"1\" class=\"dataframe\">\n",
       "  <thead>\n",
       "    <tr style=\"text-align: right;\">\n",
       "      <th></th>\n",
       "      <th>id</th>\n",
       "      <th>status_group</th>\n",
       "    </tr>\n",
       "  </thead>\n",
       "  <tbody>\n",
       "    <tr>\n",
       "      <th>0</th>\n",
       "      <td>69572</td>\n",
       "      <td>functional</td>\n",
       "    </tr>\n",
       "    <tr>\n",
       "      <th>1</th>\n",
       "      <td>8776</td>\n",
       "      <td>functional</td>\n",
       "    </tr>\n",
       "    <tr>\n",
       "      <th>2</th>\n",
       "      <td>34310</td>\n",
       "      <td>functional</td>\n",
       "    </tr>\n",
       "    <tr>\n",
       "      <th>3</th>\n",
       "      <td>67743</td>\n",
       "      <td>non functional</td>\n",
       "    </tr>\n",
       "    <tr>\n",
       "      <th>4</th>\n",
       "      <td>19728</td>\n",
       "      <td>functional</td>\n",
       "    </tr>\n",
       "  </tbody>\n",
       "</table>\n",
       "</div>"
      ],
      "text/plain": [
       "      id    status_group\n",
       "0  69572      functional\n",
       "1   8776      functional\n",
       "2  34310      functional\n",
       "3  67743  non functional\n",
       "4  19728      functional"
      ]
     },
     "execution_count": 11,
     "metadata": {},
     "output_type": "execute_result"
    }
   ],
   "source": [
    "dfY.head(5) # this shows us the target variable i.e. what we will predict"
   ]
  },
  {
   "cell_type": "markdown",
   "metadata": {},
   "source": [
    "## Handling of Null data"
   ]
  },
  {
   "cell_type": "code",
   "execution_count": 12,
   "metadata": {
    "collapsed": false
   },
   "outputs": [
    {
     "name": "stdout",
     "output_type": "stream",
     "text": [
      "funder 3635 <type 'str'>\n",
      "installer 3655 <type 'str'>\n",
      "subvillage 371 <type 'str'>\n",
      "public_meeting 3334 <type 'bool'>\n",
      "scheme_management 3877 <type 'str'>\n",
      "scheme_name 28166 <type 'str'>\n",
      "permit 3056 <type 'bool'>\n"
     ]
    }
   ],
   "source": [
    "# Find columns with Null values\n",
    "nullcols = []\n",
    "for col in dfX.columns:\n",
    "    nbnull = (dfX[col].isnull()*1).sum()\n",
    "    if ( nbnull > 0 ):\n",
    "        t = type(dfX[dfX[col].notnull()][col].iat[0]) # type of first non null value\n",
    "        nullcols.append([col, t])\n",
    "        print(col, nbnull, t)"
   ]
  },
  {
   "cell_type": "code",
   "execution_count": 13,
   "metadata": {
    "collapsed": false
   },
   "outputs": [],
   "source": [
    "# Fill Null values in string columns with \"MISSING\"\n",
    "for col, t in nullcols:\n",
    "    if (t == type('abc')):\n",
    "        dfX.loc[dfX[col].isnull(), col] = 'MISSING'\n",
    "        \n",
    "# For boolean (just a special case of categorie) : convert into string, then replace Null with \"MISSING\"\n",
    "for col, t in nullcols:\n",
    "    if (t == type(True)):\n",
    "        dfX.loc[dfX[col]==True, col] = 'TRUE'\n",
    "        dfX.loc[dfX[col]==False, col] = 'FALSE'\n",
    "        dfX.loc[dfX[col].isnull(), col] = 'MISSING'"
   ]
  },
  {
   "cell_type": "code",
   "execution_count": 14,
   "metadata": {
    "collapsed": false
   },
   "outputs": [
    {
     "data": {
      "text/plain": [
       "Index([u'id', u'amount_tsh', u'date_recorded', u'funder', u'gps_height',\n",
       "       u'installer', u'longitude', u'latitude', u'wpt_name', u'num_private',\n",
       "       u'basin', u'subvillage', u'region', u'region_code', u'district_code',\n",
       "       u'lga', u'ward', u'population', u'public_meeting', u'recorded_by',\n",
       "       u'scheme_management', u'scheme_name', u'permit', u'construction_year',\n",
       "       u'extraction_type', u'extraction_type_group', u'extraction_type_class',\n",
       "       u'management', u'management_group', u'payment', u'payment_type',\n",
       "       u'water_quality', u'quality_group', u'quantity', u'quantity_group',\n",
       "       u'source', u'source_type', u'source_class', u'waterpoint_type',\n",
       "       u'waterpoint_type_group'],\n",
       "      dtype='object')"
      ]
     },
     "execution_count": 14,
     "metadata": {},
     "output_type": "execute_result"
    }
   ],
   "source": [
    "dfX.columns"
   ]
  },
  {
   "cell_type": "code",
   "execution_count": 15,
   "metadata": {
    "collapsed": false
   },
   "outputs": [
    {
     "data": {
      "text/html": [
       "<table border=\"1\" class=\"dataframe\">\n",
       "  <thead>\n",
       "    <tr style=\"text-align: right;\">\n",
       "      <th></th>\n",
       "      <th>id</th>\n",
       "      <th>amount_tsh</th>\n",
       "      <th>gps_height</th>\n",
       "      <th>longitude</th>\n",
       "      <th>latitude</th>\n",
       "      <th>num_private</th>\n",
       "      <th>region_code</th>\n",
       "      <th>district_code</th>\n",
       "      <th>population</th>\n",
       "      <th>construction_year</th>\n",
       "    </tr>\n",
       "  </thead>\n",
       "  <tbody>\n",
       "    <tr>\n",
       "      <th>count</th>\n",
       "      <td>59400.000000</td>\n",
       "      <td>59400.000000</td>\n",
       "      <td>59400.000000</td>\n",
       "      <td>59400.000000</td>\n",
       "      <td>5.940000e+04</td>\n",
       "      <td>59400.000000</td>\n",
       "      <td>59400.000000</td>\n",
       "      <td>59400.000000</td>\n",
       "      <td>59400.000000</td>\n",
       "      <td>59400.000000</td>\n",
       "    </tr>\n",
       "    <tr>\n",
       "      <th>mean</th>\n",
       "      <td>37115.131768</td>\n",
       "      <td>317.650385</td>\n",
       "      <td>668.297239</td>\n",
       "      <td>34.077427</td>\n",
       "      <td>-5.706033e+00</td>\n",
       "      <td>0.474141</td>\n",
       "      <td>15.297003</td>\n",
       "      <td>5.629747</td>\n",
       "      <td>179.909983</td>\n",
       "      <td>1300.652475</td>\n",
       "    </tr>\n",
       "    <tr>\n",
       "      <th>std</th>\n",
       "      <td>21453.128371</td>\n",
       "      <td>2997.574558</td>\n",
       "      <td>693.116350</td>\n",
       "      <td>6.567432</td>\n",
       "      <td>2.946019e+00</td>\n",
       "      <td>12.236230</td>\n",
       "      <td>17.587406</td>\n",
       "      <td>9.633649</td>\n",
       "      <td>471.482176</td>\n",
       "      <td>951.620547</td>\n",
       "    </tr>\n",
       "    <tr>\n",
       "      <th>min</th>\n",
       "      <td>0.000000</td>\n",
       "      <td>0.000000</td>\n",
       "      <td>-90.000000</td>\n",
       "      <td>0.000000</td>\n",
       "      <td>-1.164944e+01</td>\n",
       "      <td>0.000000</td>\n",
       "      <td>1.000000</td>\n",
       "      <td>0.000000</td>\n",
       "      <td>0.000000</td>\n",
       "      <td>0.000000</td>\n",
       "    </tr>\n",
       "    <tr>\n",
       "      <th>25%</th>\n",
       "      <td>18519.750000</td>\n",
       "      <td>0.000000</td>\n",
       "      <td>0.000000</td>\n",
       "      <td>33.090347</td>\n",
       "      <td>-8.540621e+00</td>\n",
       "      <td>0.000000</td>\n",
       "      <td>5.000000</td>\n",
       "      <td>2.000000</td>\n",
       "      <td>0.000000</td>\n",
       "      <td>0.000000</td>\n",
       "    </tr>\n",
       "    <tr>\n",
       "      <th>50%</th>\n",
       "      <td>37061.500000</td>\n",
       "      <td>0.000000</td>\n",
       "      <td>369.000000</td>\n",
       "      <td>34.908743</td>\n",
       "      <td>-5.021597e+00</td>\n",
       "      <td>0.000000</td>\n",
       "      <td>12.000000</td>\n",
       "      <td>3.000000</td>\n",
       "      <td>25.000000</td>\n",
       "      <td>1986.000000</td>\n",
       "    </tr>\n",
       "    <tr>\n",
       "      <th>75%</th>\n",
       "      <td>55656.500000</td>\n",
       "      <td>20.000000</td>\n",
       "      <td>1319.250000</td>\n",
       "      <td>37.178387</td>\n",
       "      <td>-3.326156e+00</td>\n",
       "      <td>0.000000</td>\n",
       "      <td>17.000000</td>\n",
       "      <td>5.000000</td>\n",
       "      <td>215.000000</td>\n",
       "      <td>2004.000000</td>\n",
       "    </tr>\n",
       "    <tr>\n",
       "      <th>max</th>\n",
       "      <td>74247.000000</td>\n",
       "      <td>350000.000000</td>\n",
       "      <td>2770.000000</td>\n",
       "      <td>40.345193</td>\n",
       "      <td>-2.000000e-08</td>\n",
       "      <td>1776.000000</td>\n",
       "      <td>99.000000</td>\n",
       "      <td>80.000000</td>\n",
       "      <td>30500.000000</td>\n",
       "      <td>2013.000000</td>\n",
       "    </tr>\n",
       "  </tbody>\n",
       "</table>"
      ],
      "text/plain": [
       "<IPython.core.display.HTML object>"
      ]
     },
     "metadata": {},
     "output_type": "display_data"
    }
   ],
   "source": [
    "display_pd(dfX.describe())"
   ]
  },
  {
   "cell_type": "markdown",
   "metadata": {},
   "source": [
    "## Target variable"
   ]
  },
  {
   "cell_type": "code",
   "execution_count": 16,
   "metadata": {
    "collapsed": true
   },
   "outputs": [],
   "source": [
    "# Numerical encoding of the target variable as it is categorical\n",
    "\n",
    "catenc = pd.factorize(dfY['status_group'])\n",
    "dfY['status_group_enc'] = catenc[0]\n",
    "dfY['status_group_enc'] = dfY['status_group_enc'] - dfY['status_group_enc'].min() # offset to base 0\n",
    "\n",
    "dfY['label'] = (dfY['status_group'] == 'functional')*1"
   ]
  },
  {
   "cell_type": "code",
   "execution_count": 17,
   "metadata": {
    "collapsed": false
   },
   "outputs": [
    {
     "data": {
      "text/html": [
       "<div>\n",
       "<table border=\"1\" class=\"dataframe\">\n",
       "  <thead>\n",
       "    <tr style=\"text-align: right;\">\n",
       "      <th></th>\n",
       "      <th>id</th>\n",
       "      <th>status_group</th>\n",
       "      <th>status_group_enc</th>\n",
       "      <th>label</th>\n",
       "    </tr>\n",
       "  </thead>\n",
       "  <tbody>\n",
       "    <tr>\n",
       "      <th>0</th>\n",
       "      <td>69572</td>\n",
       "      <td>functional</td>\n",
       "      <td>0</td>\n",
       "      <td>1</td>\n",
       "    </tr>\n",
       "    <tr>\n",
       "      <th>1</th>\n",
       "      <td>8776</td>\n",
       "      <td>functional</td>\n",
       "      <td>0</td>\n",
       "      <td>1</td>\n",
       "    </tr>\n",
       "    <tr>\n",
       "      <th>2</th>\n",
       "      <td>34310</td>\n",
       "      <td>functional</td>\n",
       "      <td>0</td>\n",
       "      <td>1</td>\n",
       "    </tr>\n",
       "    <tr>\n",
       "      <th>3</th>\n",
       "      <td>67743</td>\n",
       "      <td>non functional</td>\n",
       "      <td>1</td>\n",
       "      <td>0</td>\n",
       "    </tr>\n",
       "    <tr>\n",
       "      <th>4</th>\n",
       "      <td>19728</td>\n",
       "      <td>functional</td>\n",
       "      <td>0</td>\n",
       "      <td>1</td>\n",
       "    </tr>\n",
       "    <tr>\n",
       "      <th>5</th>\n",
       "      <td>9944</td>\n",
       "      <td>functional</td>\n",
       "      <td>0</td>\n",
       "      <td>1</td>\n",
       "    </tr>\n",
       "    <tr>\n",
       "      <th>6</th>\n",
       "      <td>19816</td>\n",
       "      <td>non functional</td>\n",
       "      <td>1</td>\n",
       "      <td>0</td>\n",
       "    </tr>\n",
       "    <tr>\n",
       "      <th>7</th>\n",
       "      <td>54551</td>\n",
       "      <td>non functional</td>\n",
       "      <td>1</td>\n",
       "      <td>0</td>\n",
       "    </tr>\n",
       "    <tr>\n",
       "      <th>8</th>\n",
       "      <td>53934</td>\n",
       "      <td>non functional</td>\n",
       "      <td>1</td>\n",
       "      <td>0</td>\n",
       "    </tr>\n",
       "    <tr>\n",
       "      <th>9</th>\n",
       "      <td>46144</td>\n",
       "      <td>functional</td>\n",
       "      <td>0</td>\n",
       "      <td>1</td>\n",
       "    </tr>\n",
       "  </tbody>\n",
       "</table>\n",
       "</div>"
      ],
      "text/plain": [
       "      id    status_group  status_group_enc  label\n",
       "0  69572      functional                 0      1\n",
       "1   8776      functional                 0      1\n",
       "2  34310      functional                 0      1\n",
       "3  67743  non functional                 1      0\n",
       "4  19728      functional                 0      1\n",
       "5   9944      functional                 0      1\n",
       "6  19816  non functional                 1      0\n",
       "7  54551  non functional                 1      0\n",
       "8  53934  non functional                 1      0\n",
       "9  46144      functional                 0      1"
      ]
     },
     "execution_count": 17,
     "metadata": {},
     "output_type": "execute_result"
    }
   ],
   "source": [
    "dfY[['id','status_group','status_group_enc','label']].head(10)"
   ]
  },
  {
   "cell_type": "markdown",
   "metadata": {},
   "source": [
    "## Numerical variables"
   ]
  },
  {
   "cell_type": "code",
   "execution_count": 18,
   "metadata": {
    "collapsed": false
   },
   "outputs": [
    {
     "data": {
      "text/html": [
       "<div>\n",
       "<table border=\"1\" class=\"dataframe\">\n",
       "  <thead>\n",
       "    <tr style=\"text-align: right;\">\n",
       "      <th></th>\n",
       "      <th>amount_tsh</th>\n",
       "      <th>population</th>\n",
       "    </tr>\n",
       "  </thead>\n",
       "  <tbody>\n",
       "    <tr>\n",
       "      <th>0</th>\n",
       "      <td>6000.0</td>\n",
       "      <td>109</td>\n",
       "    </tr>\n",
       "    <tr>\n",
       "      <th>1</th>\n",
       "      <td>0.0</td>\n",
       "      <td>280</td>\n",
       "    </tr>\n",
       "    <tr>\n",
       "      <th>2</th>\n",
       "      <td>25.0</td>\n",
       "      <td>250</td>\n",
       "    </tr>\n",
       "    <tr>\n",
       "      <th>3</th>\n",
       "      <td>0.0</td>\n",
       "      <td>58</td>\n",
       "    </tr>\n",
       "    <tr>\n",
       "      <th>4</th>\n",
       "      <td>0.0</td>\n",
       "      <td>0</td>\n",
       "    </tr>\n",
       "    <tr>\n",
       "      <th>5</th>\n",
       "      <td>20.0</td>\n",
       "      <td>1</td>\n",
       "    </tr>\n",
       "    <tr>\n",
       "      <th>6</th>\n",
       "      <td>0.0</td>\n",
       "      <td>0</td>\n",
       "    </tr>\n",
       "    <tr>\n",
       "      <th>7</th>\n",
       "      <td>0.0</td>\n",
       "      <td>0</td>\n",
       "    </tr>\n",
       "  </tbody>\n",
       "</table>\n",
       "</div>"
      ],
      "text/plain": [
       "   amount_tsh  population\n",
       "0      6000.0         109\n",
       "1         0.0         280\n",
       "2        25.0         250\n",
       "3         0.0          58\n",
       "4         0.0           0\n",
       "5        20.0           1\n",
       "6         0.0           0\n",
       "7         0.0           0"
      ]
     },
     "execution_count": 18,
     "metadata": {},
     "output_type": "execute_result"
    }
   ],
   "source": [
    "numerics = ['amount_tsh', 'population']\n",
    "dfX[numerics].head(8)"
   ]
  },
  {
   "cell_type": "code",
   "execution_count": 19,
   "metadata": {
    "collapsed": false
   },
   "outputs": [
    {
     "data": {
      "text/html": [
       "<div>\n",
       "<table border=\"1\" class=\"dataframe\">\n",
       "  <thead>\n",
       "    <tr style=\"text-align: right;\">\n",
       "      <th></th>\n",
       "      <th>amount_tsh</th>\n",
       "      <th>population</th>\n",
       "    </tr>\n",
       "  </thead>\n",
       "  <tbody>\n",
       "    <tr>\n",
       "      <th>count</th>\n",
       "      <td>59400.000000</td>\n",
       "      <td>59400.000000</td>\n",
       "    </tr>\n",
       "    <tr>\n",
       "      <th>mean</th>\n",
       "      <td>317.650385</td>\n",
       "      <td>179.909983</td>\n",
       "    </tr>\n",
       "    <tr>\n",
       "      <th>std</th>\n",
       "      <td>2997.574558</td>\n",
       "      <td>471.482176</td>\n",
       "    </tr>\n",
       "    <tr>\n",
       "      <th>min</th>\n",
       "      <td>0.000000</td>\n",
       "      <td>0.000000</td>\n",
       "    </tr>\n",
       "    <tr>\n",
       "      <th>25%</th>\n",
       "      <td>0.000000</td>\n",
       "      <td>0.000000</td>\n",
       "    </tr>\n",
       "    <tr>\n",
       "      <th>50%</th>\n",
       "      <td>0.000000</td>\n",
       "      <td>25.000000</td>\n",
       "    </tr>\n",
       "    <tr>\n",
       "      <th>75%</th>\n",
       "      <td>20.000000</td>\n",
       "      <td>215.000000</td>\n",
       "    </tr>\n",
       "    <tr>\n",
       "      <th>max</th>\n",
       "      <td>350000.000000</td>\n",
       "      <td>30500.000000</td>\n",
       "    </tr>\n",
       "  </tbody>\n",
       "</table>\n",
       "</div>"
      ],
      "text/plain": [
       "          amount_tsh    population\n",
       "count   59400.000000  59400.000000\n",
       "mean      317.650385    179.909983\n",
       "std      2997.574558    471.482176\n",
       "min         0.000000      0.000000\n",
       "25%         0.000000      0.000000\n",
       "50%         0.000000     25.000000\n",
       "75%        20.000000    215.000000\n",
       "max    350000.000000  30500.000000"
      ]
     },
     "execution_count": 19,
     "metadata": {},
     "output_type": "execute_result"
    }
   ],
   "source": [
    "dfX[numerics].describe()"
   ]
  },
  {
   "cell_type": "code",
   "execution_count": 20,
   "metadata": {
    "collapsed": false
   },
   "outputs": [
    {
     "name": "stdout",
     "output_type": "stream",
     "text": [
      "amount_tsh 0.0 70.09\n",
      "amount_tsh 500.0 5.22\n",
      "amount_tsh 50.0 4.16\n",
      "amount_tsh 1000.0 2.5\n",
      "amount_tsh 20.0 2.46\n",
      "\n",
      "population 0 35.99\n",
      "population 1 11.82\n",
      "population 200 3.26\n",
      "population 150 3.18\n",
      "population 250 2.82\n",
      "\n"
     ]
    }
   ],
   "source": [
    "for col in numerics: # Check frequency of most common values\n",
    "    cs = dfX[col].value_counts(normalize=True, sort=True, ascending=False)\n",
    "    for k in cs.keys()[0:5]:\n",
    "        print( col, k, int(cs[k]*10000)/100. )\n",
    "    print('')\n",
    "    \n",
    "# WARNING : too many 0's (and 1's for population) so we create is_zero dummy variables\n",
    "dfX['amount_tsh_zero'] = (dfX['amount_tsh']==0)*1\n",
    "numerics.append( 'amount_tsh_zero' )\n",
    "\n",
    "dfX['population_zero'] = (dfX['population']==0)*1\n",
    "numerics.append( 'population_zero' )\n",
    "\n",
    "dfX['population_one'] = (dfX['population']==1)*1\n",
    "numerics.append( 'population_one' )"
   ]
  },
  {
   "cell_type": "markdown",
   "metadata": {},
   "source": [
    "## Date/Time variables"
   ]
  },
  {
   "cell_type": "code",
   "execution_count": 21,
   "metadata": {
    "collapsed": false
   },
   "outputs": [
    {
     "data": {
      "text/html": [
       "<div>\n",
       "<table border=\"1\" class=\"dataframe\">\n",
       "  <thead>\n",
       "    <tr style=\"text-align: right;\">\n",
       "      <th></th>\n",
       "      <th>date_recorded</th>\n",
       "      <th>construction_year</th>\n",
       "    </tr>\n",
       "  </thead>\n",
       "  <tbody>\n",
       "    <tr>\n",
       "      <th>0</th>\n",
       "      <td>2011-03-14</td>\n",
       "      <td>1999</td>\n",
       "    </tr>\n",
       "    <tr>\n",
       "      <th>1</th>\n",
       "      <td>2013-03-06</td>\n",
       "      <td>2010</td>\n",
       "    </tr>\n",
       "    <tr>\n",
       "      <th>2</th>\n",
       "      <td>2013-02-25</td>\n",
       "      <td>2009</td>\n",
       "    </tr>\n",
       "    <tr>\n",
       "      <th>3</th>\n",
       "      <td>2013-01-28</td>\n",
       "      <td>1986</td>\n",
       "    </tr>\n",
       "    <tr>\n",
       "      <th>4</th>\n",
       "      <td>2011-07-13</td>\n",
       "      <td>0</td>\n",
       "    </tr>\n",
       "    <tr>\n",
       "      <th>5</th>\n",
       "      <td>2011-03-13</td>\n",
       "      <td>2009</td>\n",
       "    </tr>\n",
       "    <tr>\n",
       "      <th>6</th>\n",
       "      <td>2012-10-01</td>\n",
       "      <td>0</td>\n",
       "    </tr>\n",
       "    <tr>\n",
       "      <th>7</th>\n",
       "      <td>2012-10-09</td>\n",
       "      <td>0</td>\n",
       "    </tr>\n",
       "  </tbody>\n",
       "</table>\n",
       "</div>"
      ],
      "text/plain": [
       "  date_recorded  construction_year\n",
       "0    2011-03-14               1999\n",
       "1    2013-03-06               2010\n",
       "2    2013-02-25               2009\n",
       "3    2013-01-28               1986\n",
       "4    2011-07-13                  0\n",
       "5    2011-03-13               2009\n",
       "6    2012-10-01                  0\n",
       "7    2012-10-09                  0"
      ]
     },
     "execution_count": 21,
     "metadata": {},
     "output_type": "execute_result"
    }
   ],
   "source": [
    "dates = ['date_recorded', 'construction_year']\n",
    "dfX[dates].head(8)"
   ]
  },
  {
   "cell_type": "code",
   "execution_count": 22,
   "metadata": {
    "collapsed": false
   },
   "outputs": [
    {
     "name": "stdout",
     "output_type": "stream",
     "text": [
      "date_recorded 2011-03-15 0.96\n",
      "date_recorded 2011-03-17 0.93\n",
      "date_recorded 2013-02-03 0.91\n",
      "date_recorded 2011-03-14 0.87\n",
      "date_recorded 2011-03-16 0.86\n",
      "\n",
      "construction_year 0 34.86\n",
      "construction_year 2010 4.45\n",
      "construction_year 2008 4.39\n",
      "construction_year 2009 4.26\n",
      "construction_year 2000 3.52\n",
      "\n"
     ]
    }
   ],
   "source": [
    "for col in dates: # Check frequency of most common values\n",
    "    cs = dfX[col].value_counts(normalize=True, sort=True, ascending=False)\n",
    "    for k in cs.keys()[0:5]:\n",
    "        print( col, k, int(cs[k]*10000)/100. )\n",
    "    print('')\n",
    "\n",
    "# WARNING : \"construction_year\" is 0 for one-third of the records"
   ]
  },
  {
   "cell_type": "code",
   "execution_count": 23,
   "metadata": {
    "collapsed": false
   },
   "outputs": [],
   "source": [
    "# Split date_recorded stamp (string) into year, month, day of month, day of week features\n",
    "from dateutil import parser\n",
    "\n",
    "dfX['date_recorded_year'] = dfX['date_recorded'].apply(lambda x: int(x.split('-')[0]))\n",
    "dates.append('date_recorded_year')\n",
    "\n",
    "dfX['date_recorded_month'] = dfX['date_recorded'].apply(lambda x: int(x.split('-')[1]))\n",
    "dates.append('date_recorded_month')\n",
    "\n",
    "# WARNING : probably not usefull for this dataset\n",
    "#dfX['date_recorded_day'] = dfX['date_recorded'].apply(lambda x: int(x.split('-')[2]))\n",
    "#dates.append('date_recorded_day')\n",
    "\n",
    "dfX['date_recorded_weekday'] = dfX['date_recorded'].apply(lambda x: str(parser.parse(x).weekday())) # category\n",
    "dates.append('date_recorded_weekday')\n",
    "\n",
    "dfX['date_recorded_isweekend'] = dfX['date_recorded'].apply(lambda x: int(parser.parse(x).weekday() in [5,6])) # binary\n",
    "dates.append('date_recorded_isweekend')"
   ]
  },
  {
   "cell_type": "code",
   "execution_count": 24,
   "metadata": {
    "collapsed": false
   },
   "outputs": [
    {
     "data": {
      "text/html": [
       "<div>\n",
       "<table border=\"1\" class=\"dataframe\">\n",
       "  <thead>\n",
       "    <tr style=\"text-align: right;\">\n",
       "      <th></th>\n",
       "      <th>construction_year</th>\n",
       "      <th>date_recorded_year</th>\n",
       "      <th>date_recorded_month</th>\n",
       "      <th>date_recorded_isweekend</th>\n",
       "    </tr>\n",
       "  </thead>\n",
       "  <tbody>\n",
       "    <tr>\n",
       "      <th>count</th>\n",
       "      <td>59400.000000</td>\n",
       "      <td>59400.000000</td>\n",
       "      <td>59400.000000</td>\n",
       "      <td>59400.000000</td>\n",
       "    </tr>\n",
       "    <tr>\n",
       "      <th>mean</th>\n",
       "      <td>1300.652475</td>\n",
       "      <td>2011.921667</td>\n",
       "      <td>4.375640</td>\n",
       "      <td>0.264141</td>\n",
       "    </tr>\n",
       "    <tr>\n",
       "      <th>std</th>\n",
       "      <td>951.620547</td>\n",
       "      <td>0.958758</td>\n",
       "      <td>3.029247</td>\n",
       "      <td>0.440879</td>\n",
       "    </tr>\n",
       "    <tr>\n",
       "      <th>min</th>\n",
       "      <td>0.000000</td>\n",
       "      <td>2002.000000</td>\n",
       "      <td>1.000000</td>\n",
       "      <td>0.000000</td>\n",
       "    </tr>\n",
       "    <tr>\n",
       "      <th>25%</th>\n",
       "      <td>0.000000</td>\n",
       "      <td>2011.000000</td>\n",
       "      <td>2.000000</td>\n",
       "      <td>0.000000</td>\n",
       "    </tr>\n",
       "    <tr>\n",
       "      <th>50%</th>\n",
       "      <td>1986.000000</td>\n",
       "      <td>2012.000000</td>\n",
       "      <td>3.000000</td>\n",
       "      <td>0.000000</td>\n",
       "    </tr>\n",
       "    <tr>\n",
       "      <th>75%</th>\n",
       "      <td>2004.000000</td>\n",
       "      <td>2013.000000</td>\n",
       "      <td>7.000000</td>\n",
       "      <td>1.000000</td>\n",
       "    </tr>\n",
       "    <tr>\n",
       "      <th>max</th>\n",
       "      <td>2013.000000</td>\n",
       "      <td>2013.000000</td>\n",
       "      <td>12.000000</td>\n",
       "      <td>1.000000</td>\n",
       "    </tr>\n",
       "  </tbody>\n",
       "</table>\n",
       "</div>"
      ],
      "text/plain": [
       "       construction_year  date_recorded_year  date_recorded_month  \\\n",
       "count       59400.000000        59400.000000         59400.000000   \n",
       "mean         1300.652475         2011.921667             4.375640   \n",
       "std           951.620547            0.958758             3.029247   \n",
       "min             0.000000         2002.000000             1.000000   \n",
       "25%             0.000000         2011.000000             2.000000   \n",
       "50%          1986.000000         2012.000000             3.000000   \n",
       "75%          2004.000000         2013.000000             7.000000   \n",
       "max          2013.000000         2013.000000            12.000000   \n",
       "\n",
       "       date_recorded_isweekend  \n",
       "count             59400.000000  \n",
       "mean                  0.264141  \n",
       "std                   0.440879  \n",
       "min                   0.000000  \n",
       "25%                   0.000000  \n",
       "50%                   0.000000  \n",
       "75%                   1.000000  \n",
       "max                   1.000000  "
      ]
     },
     "execution_count": 24,
     "metadata": {},
     "output_type": "execute_result"
    }
   ],
   "source": [
    "dfX[dates].describe() # WARNING : construction_year has a lot of \"0\" missing values"
   ]
  },
  {
   "cell_type": "code",
   "execution_count": 25,
   "metadata": {
    "collapsed": false
   },
   "outputs": [
    {
     "name": "stdout",
     "output_type": "stream",
     "text": [
      "1996.81468559\n"
     ]
    }
   ],
   "source": [
    "dfX['construction_year_missing'] = (dfX['construction_year']==0)*1 # before filling the null keep track of them\n",
    "dates.append( 'construction_year_missing' )\n",
    "\n",
    "mean_year = dfX[dfX['construction_year']>0]['construction_year'].mean() # WARNING : oldest ? median ? mean ?\n",
    "print(mean_year)\n",
    "\n",
    "dfX.loc[dfX['construction_year']==0, 'construction_year'] = mean_year"
   ]
  },
  {
   "cell_type": "code",
   "execution_count": 26,
   "metadata": {
    "collapsed": false
   },
   "outputs": [],
   "source": [
    "nbQs = 4 # WARNING : error messages with higher values\n",
    "dfX['construction_year_quantile'] = pd.qcut(dfX['construction_year'], nbQs, labels=False)/(nbQs-1.0)\n",
    "dates.append( 'construction_year_quantile' )"
   ]
  },
  {
   "cell_type": "markdown",
   "metadata": {},
   "source": [
    "## Geographical variables"
   ]
  },
  {
   "cell_type": "code",
   "execution_count": 27,
   "metadata": {
    "collapsed": false
   },
   "outputs": [
    {
     "data": {
      "text/html": [
       "<div>\n",
       "<table border=\"1\" class=\"dataframe\">\n",
       "  <thead>\n",
       "    <tr style=\"text-align: right;\">\n",
       "      <th></th>\n",
       "      <th>gps_height</th>\n",
       "      <th>longitude</th>\n",
       "      <th>latitude</th>\n",
       "      <th>basin</th>\n",
       "      <th>subvillage</th>\n",
       "      <th>region</th>\n",
       "      <th>region_code</th>\n",
       "      <th>district_code</th>\n",
       "      <th>lga</th>\n",
       "      <th>ward</th>\n",
       "    </tr>\n",
       "  </thead>\n",
       "  <tbody>\n",
       "    <tr>\n",
       "      <th>0</th>\n",
       "      <td>1390</td>\n",
       "      <td>34.938093</td>\n",
       "      <td>-9.856322</td>\n",
       "      <td>Lake Nyasa</td>\n",
       "      <td>Mnyusi B</td>\n",
       "      <td>Iringa</td>\n",
       "      <td>11</td>\n",
       "      <td>5</td>\n",
       "      <td>Ludewa</td>\n",
       "      <td>Mundindi</td>\n",
       "    </tr>\n",
       "    <tr>\n",
       "      <th>1</th>\n",
       "      <td>1399</td>\n",
       "      <td>34.698766</td>\n",
       "      <td>-2.147466</td>\n",
       "      <td>Lake Victoria</td>\n",
       "      <td>Nyamara</td>\n",
       "      <td>Mara</td>\n",
       "      <td>20</td>\n",
       "      <td>2</td>\n",
       "      <td>Serengeti</td>\n",
       "      <td>Natta</td>\n",
       "    </tr>\n",
       "    <tr>\n",
       "      <th>2</th>\n",
       "      <td>686</td>\n",
       "      <td>37.460664</td>\n",
       "      <td>-3.821329</td>\n",
       "      <td>Pangani</td>\n",
       "      <td>Majengo</td>\n",
       "      <td>Manyara</td>\n",
       "      <td>21</td>\n",
       "      <td>4</td>\n",
       "      <td>Simanjiro</td>\n",
       "      <td>Ngorika</td>\n",
       "    </tr>\n",
       "    <tr>\n",
       "      <th>3</th>\n",
       "      <td>263</td>\n",
       "      <td>38.486161</td>\n",
       "      <td>-11.155298</td>\n",
       "      <td>Ruvuma / Southern Coast</td>\n",
       "      <td>Mahakamani</td>\n",
       "      <td>Mtwara</td>\n",
       "      <td>90</td>\n",
       "      <td>63</td>\n",
       "      <td>Nanyumbu</td>\n",
       "      <td>Nanyumbu</td>\n",
       "    </tr>\n",
       "    <tr>\n",
       "      <th>4</th>\n",
       "      <td>0</td>\n",
       "      <td>31.130847</td>\n",
       "      <td>-1.825359</td>\n",
       "      <td>Lake Victoria</td>\n",
       "      <td>Kyanyamisa</td>\n",
       "      <td>Kagera</td>\n",
       "      <td>18</td>\n",
       "      <td>1</td>\n",
       "      <td>Karagwe</td>\n",
       "      <td>Nyakasimbi</td>\n",
       "    </tr>\n",
       "    <tr>\n",
       "      <th>5</th>\n",
       "      <td>0</td>\n",
       "      <td>39.172796</td>\n",
       "      <td>-4.765587</td>\n",
       "      <td>Pangani</td>\n",
       "      <td>Moa/Mwereme</td>\n",
       "      <td>Tanga</td>\n",
       "      <td>4</td>\n",
       "      <td>8</td>\n",
       "      <td>Mkinga</td>\n",
       "      <td>Moa</td>\n",
       "    </tr>\n",
       "    <tr>\n",
       "      <th>6</th>\n",
       "      <td>0</td>\n",
       "      <td>33.362410</td>\n",
       "      <td>-3.766365</td>\n",
       "      <td>Internal</td>\n",
       "      <td>Ishinabulandi</td>\n",
       "      <td>Shinyanga</td>\n",
       "      <td>17</td>\n",
       "      <td>3</td>\n",
       "      <td>Shinyanga Rural</td>\n",
       "      <td>Samuye</td>\n",
       "    </tr>\n",
       "    <tr>\n",
       "      <th>7</th>\n",
       "      <td>0</td>\n",
       "      <td>32.620617</td>\n",
       "      <td>-4.226198</td>\n",
       "      <td>Lake Tanganyika</td>\n",
       "      <td>Nyawishi Center</td>\n",
       "      <td>Shinyanga</td>\n",
       "      <td>17</td>\n",
       "      <td>3</td>\n",
       "      <td>Kahama</td>\n",
       "      <td>Chambo</td>\n",
       "    </tr>\n",
       "  </tbody>\n",
       "</table>\n",
       "</div>"
      ],
      "text/plain": [
       "   gps_height  longitude   latitude                    basin       subvillage  \\\n",
       "0        1390  34.938093  -9.856322               Lake Nyasa         Mnyusi B   \n",
       "1        1399  34.698766  -2.147466            Lake Victoria          Nyamara   \n",
       "2         686  37.460664  -3.821329                  Pangani          Majengo   \n",
       "3         263  38.486161 -11.155298  Ruvuma / Southern Coast       Mahakamani   \n",
       "4           0  31.130847  -1.825359            Lake Victoria       Kyanyamisa   \n",
       "5           0  39.172796  -4.765587                  Pangani      Moa/Mwereme   \n",
       "6           0  33.362410  -3.766365                 Internal    Ishinabulandi   \n",
       "7           0  32.620617  -4.226198          Lake Tanganyika  Nyawishi Center   \n",
       "\n",
       "      region  region_code  district_code              lga        ward  \n",
       "0     Iringa           11              5           Ludewa    Mundindi  \n",
       "1       Mara           20              2        Serengeti       Natta  \n",
       "2    Manyara           21              4        Simanjiro     Ngorika  \n",
       "3     Mtwara           90             63         Nanyumbu    Nanyumbu  \n",
       "4     Kagera           18              1          Karagwe  Nyakasimbi  \n",
       "5      Tanga            4              8           Mkinga         Moa  \n",
       "6  Shinyanga           17              3  Shinyanga Rural      Samuye  \n",
       "7  Shinyanga           17              3           Kahama      Chambo  "
      ]
     },
     "execution_count": 27,
     "metadata": {},
     "output_type": "execute_result"
    }
   ],
   "source": [
    "geos = ['gps_height','longitude','latitude','basin','subvillage','region','region_code','district_code','lga','ward']\n",
    "dfX[geos].head(8)\n",
    "\n",
    "# WARNING : in many cases we dont have HEIGHT but we could get it from (Lat,Long) coordinates"
   ]
  },
  {
   "cell_type": "code",
   "execution_count": 28,
   "metadata": {
    "collapsed": false
   },
   "outputs": [
    {
     "name": "stdout",
     "output_type": "stream",
     "text": [
      "gps_height 0 34.4\n",
      "gps_height -15 0.1\n",
      "gps_height -16 0.09\n",
      "gps_height -13 0.09\n",
      "gps_height -20 0.08\n",
      "\n",
      "longitude 0.0 3.05\n",
      "longitude 37.23632569 0.0\n",
      "longitude 32.9780624 0.0\n",
      "longitude 32.92488627 0.0\n",
      "longitude 38.34050134 0.0\n",
      "\n",
      "latitude -2e-08 3.05\n",
      "latitude -6.96356538 0.0\n",
      "latitude -2.49645868 0.0\n",
      "latitude -2.46524583 0.0\n",
      "latitude -7.10374232 0.0\n",
      "\n",
      "basin Lake Victoria 17.25\n",
      "basin Pangani 15.05\n",
      "basin Rufiji 13.42\n",
      "basin Internal 13.1\n",
      "basin Lake Tanganyika 10.82\n",
      "\n",
      "subvillage Madukani 0.85\n",
      "subvillage Shuleni 0.85\n",
      "subvillage Majengo 0.84\n",
      "subvillage Kati 0.62\n",
      "subvillage MISSING 0.62\n",
      "\n",
      "region Iringa 8.91\n",
      "region Shinyanga 8.38\n",
      "region Mbeya 7.8\n",
      "region Kilimanjaro 7.37\n",
      "region Morogoro 6.74\n",
      "\n",
      "region_code 11 8.92\n",
      "region_code 17 8.43\n",
      "region_code 12 7.8\n",
      "region_code 3 7.37\n",
      "region_code 5 6.8\n",
      "\n",
      "district_code 1 20.54\n",
      "district_code 2 18.8\n",
      "district_code 3 16.83\n",
      "district_code 4 15.14\n",
      "district_code 5 7.33\n",
      "\n",
      "lga Njombe 4.21\n",
      "lga Arusha Rural 2.1\n",
      "lga Moshi Rural 2.1\n",
      "lga Bariadi 1.98\n",
      "lga Rungwe 1.86\n",
      "\n",
      "ward Igosi 0.51\n",
      "ward Imalinyi 0.42\n",
      "ward Siha Kati 0.39\n",
      "ward Mdandu 0.38\n",
      "ward Nduruma 0.36\n",
      "\n"
     ]
    }
   ],
   "source": [
    "for col in geos: # Check frequency of most common values\n",
    "    cs = dfX[col].value_counts(normalize=True, sort=True, ascending=False)\n",
    "    for k in cs.keys()[0:5]:\n",
    "        print( col, k, int(cs[k]*10000)/100. )\n",
    "    print('')\n",
    "    \n",
    "# WARNING :\n",
    "# - check 0 gps_height very high frequency : fill from (lat,long) or mean of \"region\"/\"lga\"/\"ward\"\n",
    "# - check 0 lat/long as out of the country in 3% of the cases : replace with mean of \"region\"/\"lga\"/\"ward\"\n",
    "# - according to wikipedia the lowest point is at 0m : need to take absolute level ?"
   ]
  },
  {
   "cell_type": "code",
   "execution_count": 29,
   "metadata": {
    "collapsed": false
   },
   "outputs": [
    {
     "name": "stdout",
     "output_type": "stream",
     "text": [
      "1012\n"
     ]
    },
    {
     "data": {
      "text/html": [
       "<div>\n",
       "<table border=\"1\" class=\"dataframe\">\n",
       "  <thead>\n",
       "    <tr style=\"text-align: right;\">\n",
       "      <th></th>\n",
       "      <th>latitude</th>\n",
       "      <th>longitude</th>\n",
       "      <th>gps_height</th>\n",
       "    </tr>\n",
       "    <tr>\n",
       "      <th>basin</th>\n",
       "      <th></th>\n",
       "      <th></th>\n",
       "      <th></th>\n",
       "    </tr>\n",
       "  </thead>\n",
       "  <tbody>\n",
       "    <tr>\n",
       "      <th>Internal</th>\n",
       "      <td>-4.137060</td>\n",
       "      <td>35.471586</td>\n",
       "      <td>1474.550470</td>\n",
       "    </tr>\n",
       "    <tr>\n",
       "      <th>Lake Nyasa</th>\n",
       "      <td>-10.021460</td>\n",
       "      <td>34.772641</td>\n",
       "      <td>1524.654237</td>\n",
       "    </tr>\n",
       "    <tr>\n",
       "      <th>Lake Rukwa</th>\n",
       "      <td>-7.489675</td>\n",
       "      <td>31.500196</td>\n",
       "      <td>1415.137352</td>\n",
       "    </tr>\n",
       "    <tr>\n",
       "      <th>Lake Tanganyika</th>\n",
       "      <td>-4.938659</td>\n",
       "      <td>30.398291</td>\n",
       "      <td>1270.063242</td>\n",
       "    </tr>\n",
       "    <tr>\n",
       "      <th>Lake Victoria</th>\n",
       "      <td>-1.868478</td>\n",
       "      <td>34.004127</td>\n",
       "      <td>1329.265008</td>\n",
       "    </tr>\n",
       "    <tr>\n",
       "      <th>Pangani</th>\n",
       "      <td>-3.849383</td>\n",
       "      <td>37.546848</td>\n",
       "      <td>1102.257742</td>\n",
       "    </tr>\n",
       "    <tr>\n",
       "      <th>Rufiji</th>\n",
       "      <td>-8.483380</td>\n",
       "      <td>35.852000</td>\n",
       "      <td>1087.780631</td>\n",
       "    </tr>\n",
       "    <tr>\n",
       "      <th>Ruvuma / Southern Coast</th>\n",
       "      <td>-10.547087</td>\n",
       "      <td>38.156886</td>\n",
       "      <td>455.058376</td>\n",
       "    </tr>\n",
       "    <tr>\n",
       "      <th>Wami / Ruvu</th>\n",
       "      <td>-6.712766</td>\n",
       "      <td>38.170352</td>\n",
       "      <td>308.914208</td>\n",
       "    </tr>\n",
       "  </tbody>\n",
       "</table>\n",
       "</div>"
      ],
      "text/plain": [
       "                          latitude  longitude   gps_height\n",
       "basin                                                     \n",
       "Internal                 -4.137060  35.471586  1474.550470\n",
       "Lake Nyasa              -10.021460  34.772641  1524.654237\n",
       "Lake Rukwa               -7.489675  31.500196  1415.137352\n",
       "Lake Tanganyika          -4.938659  30.398291  1270.063242\n",
       "Lake Victoria            -1.868478  34.004127  1329.265008\n",
       "Pangani                  -3.849383  37.546848  1102.257742\n",
       "Rufiji                   -8.483380  35.852000  1087.780631\n",
       "Ruvuma / Southern Coast -10.547087  38.156886   455.058376\n",
       "Wami / Ruvu              -6.712766  38.170352   308.914208"
      ]
     },
     "execution_count": 29,
     "metadata": {},
     "output_type": "execute_result"
    }
   ],
   "source": [
    "bound_df = dfX[(dfX['latitude']<-0.5)&(dfX['longitude']>25)&(dfX['gps_height']>0)]\n",
    "print( bound_df.groupby(['basin',])['id'].count().min() ) # check enough data in each bucket\n",
    "\n",
    "mean_geo_df = bound_df.groupby(['basin',])['latitude','longitude','gps_height'].mean()\n",
    "\n",
    "assert(mean_geo_df.shape[0] == len(dfX['basin'].unique()))\n",
    "\n",
    "mean_geo_df"
   ]
  },
  {
   "cell_type": "code",
   "execution_count": 30,
   "metadata": {
    "collapsed": false
   },
   "outputs": [],
   "source": [
    "# WARNING :\n",
    "# - replace strange value with local mean\n",
    "# - an alternative would be to replace with local random sample to avoid over-weighting of any value\n",
    "\n",
    "# Before over-writing keep track of suspect rows with new binary columns\n",
    "dfX['gps_height_bad'] = (dfX['gps_height']<=0)*1\n",
    "geos.append('gps_height_bad')\n",
    "dfX['longitude_bad'] = (dfX['longitude']<25)*1\n",
    "geos.append('longitude_bad')\n",
    "dfX['latitude_bad'] = (dfX['latitude']>-0.5)*1\n",
    "geos.append('latitude_bad')\n",
    "\n",
    "# Exemple of query via index=basin : mean_geo_df.at['Lake Victoria','latitude']\n",
    "dfX.loc[dfX['gps_height']<=0, 'gps_height'] = dfX['basin'].apply(lambda x : mean_geo_df.at[x,'gps_height'])\n",
    "dfX.loc[dfX['longitude']<25, 'longitude'] = dfX['basin'].apply(lambda x : mean_geo_df.at[x,'longitude'])\n",
    "dfX.loc[dfX['latitude']>-0.5, 'latitude'] = dfX['basin'].apply(lambda x : mean_geo_df.at[x,'latitude'])"
   ]
  },
  {
   "cell_type": "code",
   "execution_count": 31,
   "metadata": {
    "collapsed": false
   },
   "outputs": [
    {
     "data": {
      "text/html": [
       "<div>\n",
       "<table border=\"1\" class=\"dataframe\">\n",
       "  <thead>\n",
       "    <tr style=\"text-align: right;\">\n",
       "      <th></th>\n",
       "      <th>gps_height</th>\n",
       "      <th>longitude</th>\n",
       "      <th>latitude</th>\n",
       "      <th>region_code</th>\n",
       "      <th>district_code</th>\n",
       "      <th>gps_height_bad</th>\n",
       "      <th>longitude_bad</th>\n",
       "      <th>latitude_bad</th>\n",
       "    </tr>\n",
       "  </thead>\n",
       "  <tbody>\n",
       "    <tr>\n",
       "      <th>count</th>\n",
       "      <td>59400.000000</td>\n",
       "      <td>59400.000000</td>\n",
       "      <td>59400.000000</td>\n",
       "      <td>59400.000000</td>\n",
       "      <td>59400.000000</td>\n",
       "      <td>59400.000000</td>\n",
       "      <td>59400.000000</td>\n",
       "      <td>59400.000000</td>\n",
       "    </tr>\n",
       "    <tr>\n",
       "      <th>mean</th>\n",
       "      <td>1126.611330</td>\n",
       "      <td>35.108715</td>\n",
       "      <td>-5.768148</td>\n",
       "      <td>15.297003</td>\n",
       "      <td>5.629747</td>\n",
       "      <td>0.369259</td>\n",
       "      <td>0.030505</td>\n",
       "      <td>0.030505</td>\n",
       "    </tr>\n",
       "    <tr>\n",
       "      <th>std</th>\n",
       "      <td>516.692645</td>\n",
       "      <td>2.581681</td>\n",
       "      <td>2.847390</td>\n",
       "      <td>17.587406</td>\n",
       "      <td>9.633649</td>\n",
       "      <td>0.482608</td>\n",
       "      <td>0.171974</td>\n",
       "      <td>0.171974</td>\n",
       "    </tr>\n",
       "    <tr>\n",
       "      <th>min</th>\n",
       "      <td>1.000000</td>\n",
       "      <td>29.607122</td>\n",
       "      <td>-11.649440</td>\n",
       "      <td>1.000000</td>\n",
       "      <td>0.000000</td>\n",
       "      <td>0.000000</td>\n",
       "      <td>0.000000</td>\n",
       "      <td>0.000000</td>\n",
       "    </tr>\n",
       "    <tr>\n",
       "      <th>25%</th>\n",
       "      <td>828.000000</td>\n",
       "      <td>33.341782</td>\n",
       "      <td>-8.540621</td>\n",
       "      <td>5.000000</td>\n",
       "      <td>2.000000</td>\n",
       "      <td>0.000000</td>\n",
       "      <td>0.000000</td>\n",
       "      <td>0.000000</td>\n",
       "    </tr>\n",
       "    <tr>\n",
       "      <th>50%</th>\n",
       "      <td>1315.000000</td>\n",
       "      <td>34.908743</td>\n",
       "      <td>-5.021597</td>\n",
       "      <td>12.000000</td>\n",
       "      <td>3.000000</td>\n",
       "      <td>0.000000</td>\n",
       "      <td>0.000000</td>\n",
       "      <td>0.000000</td>\n",
       "    </tr>\n",
       "    <tr>\n",
       "      <th>75%</th>\n",
       "      <td>1474.550470</td>\n",
       "      <td>37.178387</td>\n",
       "      <td>-3.328977</td>\n",
       "      <td>17.000000</td>\n",
       "      <td>5.000000</td>\n",
       "      <td>1.000000</td>\n",
       "      <td>0.000000</td>\n",
       "      <td>0.000000</td>\n",
       "    </tr>\n",
       "    <tr>\n",
       "      <th>max</th>\n",
       "      <td>2770.000000</td>\n",
       "      <td>40.345193</td>\n",
       "      <td>-0.998464</td>\n",
       "      <td>99.000000</td>\n",
       "      <td>80.000000</td>\n",
       "      <td>1.000000</td>\n",
       "      <td>1.000000</td>\n",
       "      <td>1.000000</td>\n",
       "    </tr>\n",
       "  </tbody>\n",
       "</table>\n",
       "</div>"
      ],
      "text/plain": [
       "         gps_height     longitude      latitude   region_code  district_code  \\\n",
       "count  59400.000000  59400.000000  59400.000000  59400.000000   59400.000000   \n",
       "mean    1126.611330     35.108715     -5.768148     15.297003       5.629747   \n",
       "std      516.692645      2.581681      2.847390     17.587406       9.633649   \n",
       "min        1.000000     29.607122    -11.649440      1.000000       0.000000   \n",
       "25%      828.000000     33.341782     -8.540621      5.000000       2.000000   \n",
       "50%     1315.000000     34.908743     -5.021597     12.000000       3.000000   \n",
       "75%     1474.550470     37.178387     -3.328977     17.000000       5.000000   \n",
       "max     2770.000000     40.345193     -0.998464     99.000000      80.000000   \n",
       "\n",
       "       gps_height_bad  longitude_bad  latitude_bad  \n",
       "count    59400.000000   59400.000000  59400.000000  \n",
       "mean         0.369259       0.030505      0.030505  \n",
       "std          0.482608       0.171974      0.171974  \n",
       "min          0.000000       0.000000      0.000000  \n",
       "25%          0.000000       0.000000      0.000000  \n",
       "50%          0.000000       0.000000      0.000000  \n",
       "75%          1.000000       0.000000      0.000000  \n",
       "max          1.000000       1.000000      1.000000  "
      ]
     },
     "execution_count": 31,
     "metadata": {},
     "output_type": "execute_result"
    }
   ],
   "source": [
    "dfX[geos].describe() # WARNING : region_code, district_code are categories"
   ]
  },
  {
   "cell_type": "code",
   "execution_count": 32,
   "metadata": {
    "collapsed": false
   },
   "outputs": [
    {
     "name": "stdout",
     "output_type": "stream",
     "text": [
      "basin 9 100.0\n",
      " \n",
      "subvillage 19288 15.0\n",
      " \n",
      "region 21 100.0\n",
      " \n",
      "region_code 27 100.0\n",
      " \n",
      "district_code 20 100.0\n",
      " \n",
      "lga 125 95.0\n",
      " \n",
      "ward 2092 20.0\n",
      " \n"
     ]
    }
   ],
   "source": [
    "for col in ['basin','subvillage','region','region_code','district_code','lga','ward']:\n",
    "    totalfreq_top100 = dfX[col].value_counts(normalize=True, sort=True, ascending=False)[0:100].sum()\n",
    "    print( col, len(dfX[col].unique()), round(totalfreq_top100*100) )\n",
    "    print(' ')\n",
    "    \n",
    "# WARNING :\n",
    "# probably a hierarchy here with **basin** at coarser level and **subvillage** at finer level\n",
    "# Documentation is vague but can check on Wikipedia some of the specific locations"
   ]
  },
  {
   "cell_type": "code",
   "execution_count": 33,
   "metadata": {
    "collapsed": true
   },
   "outputs": [],
   "source": [
    "# Remove fields with only low frequency values\n",
    "dfX = dfX.drop('subvillage', axis=1)\n",
    "geos.remove('subvillage')\n",
    "\n",
    "dfX = dfX.drop('ward', axis=1)\n",
    "geos.remove('ward')"
   ]
  },
  {
   "cell_type": "markdown",
   "metadata": {},
   "source": [
    "## Remaining categorical variables"
   ]
  },
  {
   "cell_type": "code",
   "execution_count": 34,
   "metadata": {
    "collapsed": false
   },
   "outputs": [],
   "source": [
    "categories = [col for col in list(dfX.columns) if not(col in geos) and not(col in dates) and not (col in numerics)]\n",
    "categories.remove('id')"
   ]
  },
  {
   "cell_type": "code",
   "execution_count": 35,
   "metadata": {
    "collapsed": false
   },
   "outputs": [
    {
     "name": "stdout",
     "output_type": "stream",
     "text": [
      "funder 1898\n",
      "installer 2146\n",
      "wpt_name 37400\n",
      "num_private 65\n",
      "public_meeting 3\n",
      "recorded_by 1\n",
      "scheme_management 13\n",
      "scheme_name 2697\n",
      "permit 3\n",
      "extraction_type 18\n",
      "extraction_type_group 13\n",
      "extraction_type_class 7\n",
      "management 12\n",
      "management_group 5\n",
      "payment 7\n",
      "payment_type 7\n",
      "water_quality 8\n",
      "quality_group 6\n",
      "quantity 5\n",
      "quantity_group 5\n",
      "source 10\n",
      "source_type 7\n",
      "source_class 3\n",
      "waterpoint_type 7\n",
      "waterpoint_type_group 6\n"
     ]
    }
   ],
   "source": [
    "for col in categories:\n",
    "    print(col, len(dfX[col].unique()))"
   ]
  },
  {
   "cell_type": "code",
   "execution_count": 36,
   "metadata": {
    "collapsed": true
   },
   "outputs": [],
   "source": [
    "# WARNING : we note that \"recorded_by\" only has 1 value so we discard this column\n",
    "dfX = dfX.drop('recorded_by', axis=1)\n",
    "categories.remove('recorded_by')"
   ]
  },
  {
   "cell_type": "code",
   "execution_count": 38,
   "metadata": {
    "collapsed": false
   },
   "outputs": [
    {
     "name": "stdout",
     "output_type": "stream",
     "text": [
      "funder 168 1898\n",
      "installer 164 2146\n",
      "wpt_name 56 37400\n",
      "num_private 6 65\n",
      "public_meeting 3 3\n",
      "scheme_management 12 13\n",
      "scheme_name 132 2697\n",
      "permit 3 3\n",
      "extraction_type 16 18\n",
      "extraction_type_group 13 13\n",
      "extraction_type_class 7 7\n",
      "management 12 12\n",
      "management_group 5 5\n",
      "payment 7 7\n",
      "payment_type 7 7\n",
      "water_quality 7 8\n",
      "quality_group 6 6\n",
      "quantity 5 5\n",
      "quantity_group 5 5\n",
      "source 10 10\n",
      "source_type 7 7\n",
      "source_class 3 3\n",
      "waterpoint_type 6 7\n",
      "waterpoint_type_group 5 6\n"
     ]
    }
   ],
   "source": [
    "for col in categories:\n",
    "    cs = dfX[col].value_counts(normalize=False, sort=True, ascending=False)\n",
    "    print( col, len([cs[k] for k in cs.keys() if cs[k]>=40]), len(dfX[col].unique()) )"
   ]
  },
  {
   "cell_type": "code",
   "execution_count": 39,
   "metadata": {
    "collapsed": false
   },
   "outputs": [
    {
     "name": "stdout",
     "output_type": "stream",
     "text": [
      "Trim values :  funder 1730\n",
      "Trim values :  installer 1982\n",
      "Trim values :  wpt_name 37344\n",
      "Trim values :  num_private 59\n",
      "Trim values :  scheme_management 1\n",
      "Trim values :  scheme_name 2565\n",
      "Trim values :  extraction_type 2\n",
      "Trim values :  water_quality 1\n",
      "Trim values :  waterpoint_type 1\n",
      "Trim values :  waterpoint_type_group 1\n"
     ]
    }
   ],
   "source": [
    "# WARNING :\n",
    "# Before one-hot-encoding we ***can*** try to replace all rare categories with a single \"rare\" value\n",
    "if True:\n",
    "    for col in categories:\n",
    "        cs = dfX[col].value_counts(normalize=False, sort=True, ascending=False)\n",
    "        rare_values = [k for k in cs.keys() if cs[k]<40]\n",
    "        if len(rare_values)>0:\n",
    "            print( 'Trim values : ', col, len(rare_values))\n",
    "            dfX.loc[dfX[col].isin(rare_values), col] = col+'_rare'"
   ]
  },
  {
   "cell_type": "markdown",
   "metadata": {},
   "source": [
    "## Interaction between X variables"
   ]
  },
  {
   "cell_type": "code",
   "execution_count": 40,
   "metadata": {
    "collapsed": false
   },
   "outputs": [
    {
     "name": "stdout",
     "output_type": "stream",
     "text": [
      "('region', 'region_code') 99\n",
      "('region', 'lga') 99\n",
      "('region_code', 'lga') 97\n",
      "('extraction_type', 'extraction_type_group') 99\n",
      "('extraction_type', 'extraction_type_class') 99\n",
      "('extraction_type_group', 'extraction_type_class') 99\n",
      "('management', 'management_group') 99\n",
      "('payment', 'payment_type') 100\n",
      "('water_quality', 'quality_group') 99\n",
      "('quantity', 'quantity_group') 100\n",
      "('source', 'source_type') 99\n",
      "('source', 'source_class') 99\n",
      "('source_type', 'source_class') 99\n",
      "('waterpoint_type', 'waterpoint_type_group') 99\n"
     ]
    }
   ],
   "source": [
    "# Search for variables that are very similar and remove \"near duplicates\"\n",
    "\n",
    "cols = ['basin','region','region_code','district_code','lga']+categories\n",
    "for i1, col1 in enumerate(cols):\n",
    "    for i2, col2 in enumerate(cols):\n",
    "        if (i1<i2):\n",
    "            cm12 = pd.crosstab(dfX[col1], dfX[col2]).values # confusion matrix\n",
    "            cv12 = cramers_corrected_stat(cm12) # WARNING : cramer V is a symetric stat ?\n",
    "            if (cv12 > 0.95):\n",
    "                print((col1, col2), int(cv12*100))"
   ]
  },
  {
   "cell_type": "code",
   "execution_count": 41,
   "metadata": {
    "collapsed": true
   },
   "outputs": [],
   "source": [
    "# We see that the following are very similar :\n",
    "#  ('region', 'region_code', 'lga')\n",
    "#  ('extraction_type', 'extraction_type_group', 'extraction_type_class')\n",
    "#  ('management', 'management_group')\n",
    "#  ('payment', 'payment_type')\n",
    "#  ('water_quality', 'quality_group')\n",
    "#  ('quantity', 'quantity_group')\n",
    "#  ('source', 'source_type', 'source_class')\n",
    "#  ('waterpoint_type', 'waterpoint_type_group')\n",
    "\n",
    "for col in ['region_code', 'lga']:\n",
    "    dfX = dfX.drop(col, axis=1)\n",
    "    geos.remove(col)\n",
    "    \n",
    "for col in ['extraction_type_group', 'extraction_type_class',\n",
    "            'management_group',\n",
    "            'payment_type',\n",
    "            'quality_group',\n",
    "            'quantity_group',\n",
    "            'source_type', 'source_class',\n",
    "            'waterpoint_type_group']:\n",
    "    dfX = dfX.drop(col, axis=1)\n",
    "    categories.remove(col)"
   ]
  },
  {
   "cell_type": "markdown",
   "metadata": {},
   "source": [
    "## Merge X and Y datasets"
   ]
  },
  {
   "cell_type": "code",
   "execution_count": 42,
   "metadata": {
    "collapsed": true
   },
   "outputs": [],
   "source": [
    "df = dfX.merge(dfY, left_on='id', right_on='id', how='inner')\n",
    "\n",
    "# To check merge is as expected\n",
    "L1 = df[dfX.columns.values].set_index('id', inplace=False).sort_index(axis=0)\n",
    "R1 = dfX.set_index('id', inplace=False).sort_index(axis=0)\n",
    "assert( L1.equals(R1) )\n",
    "\n",
    "L2 = df[dfY.columns.values].set_index('id', inplace=False).sort_index(axis=0)\n",
    "R2 = dfY.set_index('id', inplace=False).sort_index(axis=0)\n",
    "assert( L2.equals(R2) )\n",
    "\n",
    "df = df.sample(frac=1) # WARNING : Shuffle in case initial order was not random"
   ]
  },
  {
   "cell_type": "markdown",
   "metadata": {},
   "source": [
    "## Explanatory power of X variables on Y variable"
   ]
  },
  {
   "cell_type": "code",
   "execution_count": 43,
   "metadata": {
    "collapsed": false
   },
   "outputs": [
    {
     "name": "stdout",
     "output_type": "stream",
     "text": [
      "**Counts**\n",
      "status_group  False  True \n",
      "quantity                  \n",
      "dry            6089    157\n",
      "enough        11538  21648\n",
      "insufficient   7213   7916\n",
      "seasonal       1725   2325\n",
      "unknown         576    213\n",
      "\n",
      "**Ratios**\n",
      "quantity\n",
      "dry             0.025136\n",
      "enough          0.652323\n",
      "insufficient    0.523234\n",
      "seasonal        0.574074\n",
      "unknown         0.269962\n",
      "dtype: float64\n"
     ]
    }
   ],
   "source": [
    "# confusion matrix\n",
    "cm = pd.crosstab(df['quantity'], df['status_group']=='functional')\n",
    "\n",
    "print('**Counts**')\n",
    "print( cm )\n",
    "print('')\n",
    "\n",
    "print('**Ratios**')\n",
    "print( cm[True]/(cm[True]+cm[False]) )"
   ]
  },
  {
   "cell_type": "code",
   "execution_count": 44,
   "metadata": {
    "collapsed": false
   },
   "outputs": [
    {
     "name": "stdout",
     "output_type": "stream",
     "text": [
      "**Conditional Ratios**\n",
      "quantity\n",
      "dry             0.028947\n",
      "enough          0.626146\n",
      "insufficient    0.668667\n",
      "seasonal        0.657074\n",
      "unknown         0.195946\n",
      "dtype: float64\n"
     ]
    }
   ],
   "source": [
    "# conditional confusion matrix\n",
    "sdf = df[df['basin']=='Internal']\n",
    "cm = pd.crosstab(sdf['quantity'], sdf['status_group']=='functional')\n",
    "print('**Conditional Ratios**')\n",
    "print( cm[True]/(cm[True]+cm[False]) )"
   ]
  },
  {
   "cell_type": "code",
   "execution_count": 51,
   "metadata": {
    "collapsed": false
   },
   "outputs": [
    {
     "name": "stdout",
     "output_type": "stream",
     "text": [
      "SKIP (too many unique values to encode) : date_recorded\n",
      "construction_year 18\n",
      "construction_year_quantile 15\n",
      "SKIP (too many unique values to encode) : gps_height\n",
      "SKIP (too many unique values to encode) : longitude\n",
      "SKIP (too many unique values to encode) : latitude\n",
      "region 20\n",
      "funder 25\n",
      "installer 25\n",
      "scheme_name 20\n",
      "extraction_type 24\n",
      "payment 18\n",
      "quantity 30\n",
      "waterpoint_type 25\n"
     ]
    }
   ],
   "source": [
    "for col in dates+geos+categories:\n",
    "    if (len(df[col].unique())<250):\n",
    "        try:\n",
    "            cm = pd.crosstab(df[col], df['status_group']).values # confusion matrix\n",
    "            cv1 = cramers_corrected_stat(cm)\n",
    "            #cv2 = cramers_stat(cm)\n",
    "            if (cv1>0.15):\n",
    "                print(col, int(cv1*100))#, int(cv2*100))\n",
    "        except:\n",
    "            None\n",
    "    else:\n",
    "        print('SKIP (too many unique values to encode) :', col)"
   ]
  },
  {
   "cell_type": "code",
   "execution_count": 52,
   "metadata": {
    "collapsed": false
   },
   "outputs": [
    {
     "name": "stdout",
     "output_type": "stream",
     "text": [
      "('gps_height', '=', 1524.6542372881356) quantity 52 2430\n",
      "('gps_height', '=', 308.91420778576742) quantity 47 1954\n",
      "('longitude', '=', 34.004127042800185) extraction_type 47 1713\n",
      "('longitude', '=', 34.004127042800185) waterpoint_type 46 1713\n",
      "('latitude', '=', -1.8684783297432845) extraction_type 47 1713\n",
      "('latitude', '=', -1.8684783297432845) waterpoint_type 46 1713\n",
      "('basin', '=', 'Lake Nyasa') quantity 56 5085\n",
      "('region', '=', 'Iringa') quantity 47 5294\n",
      "('region', '=', 'Ruvuma') quantity 51 2640\n",
      "('region', '=', 'Dodoma') quantity 47 2201\n",
      "('longitude_bad', '=', 1) extraction_type 47 1812\n",
      "('longitude_bad', '=', 1) waterpoint_type 46 1812\n",
      "('latitude_bad', '=', 1) extraction_type 47 1812\n",
      "('latitude_bad', '=', 1) waterpoint_type 46 1812\n",
      "('funder', '=', 'Danida') quantity 50 3114\n",
      "('funder', '=', 'Unicef') quantity 50 1057\n",
      "('installer', '=', 'Commu') quantity 68 1060\n",
      "('wpt_name', '=', 'none') quantity 46 3563\n",
      "('scheme_management', '=', 'Company') funder 47 1061\n",
      "('scheme_management', '=', 'Company') installer 49 1061\n",
      "('extraction_type', '=', 'ksb') funder 61 1415\n",
      "('extraction_type', '=', 'ksb') installer 57 1415\n",
      "('extraction_type', '=', 'ksb') scheme_name 48 1415\n",
      "('extraction_type', '=', 'ksb') management 45 1415\n",
      "('payment', '=', 'other') funder 48 1054\n"
     ]
    }
   ],
   "source": [
    "for fcol in geos+categories:\n",
    "    \n",
    "    cs = df[fcol].value_counts(normalize=False, sort=True, ascending=False)\n",
    "    fkeys = [k for k in cs.keys() if cs[k]>=1000]\n",
    "    \n",
    "    for fv in fkeys:\n",
    "        sdf = df[df[fcol]==fv]\n",
    "        if (sdf.shape[0]>=1000):\n",
    "            for col in categories:\n",
    "                if not(col in [fcol,'id']):\n",
    "                    try:\n",
    "                        cm = pd.crosstab(sdf[col], sdf['status_group']).values # confusion matrix\n",
    "                        cv1 = cramers_corrected_stat(cm)\n",
    "                        #cv2 = cramers_stat(cm)\n",
    "                        if (cv1>0.45): # quite significant level to limit output\n",
    "                            print((fcol, '=', fv), col, int(cv1*100), sdf.shape[0])\n",
    "                    except:\n",
    "                        None"
   ]
  },
  {
   "cell_type": "code",
   "execution_count": 53,
   "metadata": {
    "collapsed": false
   },
   "outputs": [
    {
     "name": "stdout",
     "output_type": "stream",
     "text": [
      "amount_tsh_0.0 22 41639\n",
      "SKIP (too many unique values to encode) :  population\n",
      "amount_tsh_zero_0 22 17761\n",
      "amount_tsh_zero_1 22 41639\n",
      "SKIP (too many unique values to encode) :  date_recorded\n",
      "SKIP (too many unique values to encode) :  gps_height\n",
      "SKIP (too many unique values to encode) :  longitude\n",
      "SKIP (too many unique values to encode) :  latitude\n",
      "extraction_type_other 30 6430\n",
      "quantity_dry 41 6246\n",
      "quantity_enough 25 33186\n",
      "waterpoint_type_other 31 6380\n"
     ]
    }
   ],
   "source": [
    "for col in numerics+dates+geos+categories:\n",
    "    \n",
    "    if (len(df[col].unique())<250):\n",
    "    \n",
    "        one_hot = pd.get_dummies(df[col], prefix=col)\n",
    "        # drop column as it is now encoded\n",
    "        dfOHE = df.drop(col, axis=1)\n",
    "        # join the encoded dataframe\n",
    "        dfOHE = dfOHE.join(one_hot)\n",
    "\n",
    "        these_cols = list(one_hot.columns)\n",
    "\n",
    "        for colohe in these_cols:\n",
    "            if (dfOHE[colohe].sum() > 1000):\n",
    "                try:\n",
    "                    cm = pd.crosstab(dfOHE[colohe], dfOHE['status_group']).values # confusion matrix\n",
    "                    cv1 = cramers_corrected_stat(cm)\n",
    "                    #cv2 = cramers_stat(cm)\n",
    "                    if (cv1>0.20):\n",
    "                        print(colohe, int(cv1*100), int(dfOHE[colohe].sum()))\n",
    "                except:\n",
    "                    None\n",
    "                    \n",
    "    else:\n",
    "        print('SKIP (too many unique values to encode) : ', col)"
   ]
  },
  {
   "cell_type": "markdown",
   "metadata": {},
   "source": [
    "## Logistic Regression"
   ]
  },
  {
   "cell_type": "code",
   "execution_count": 54,
   "metadata": {
    "collapsed": false
   },
   "outputs": [
    {
     "data": {
      "text/plain": [
       "62"
      ]
     },
     "execution_count": 54,
     "metadata": {},
     "output_type": "execute_result"
    }
   ],
   "source": [
    "dfLR = df.sample(frac=1)\n",
    "dfLR_trn = dfLR[0:45000]\n",
    "dfLR_tst = dfLR[45000:]\n",
    "\n",
    "basics = ['amount_tsh','amount_tsh_zero',\n",
    "          'population','population_zero','population_one',\n",
    "          'construction_year', 'construction_year_missing', 'construction_year_quantile',\n",
    "          'date_recorded_isweekend',\n",
    "          'gps_height', 'gps_height_bad', 'longitude_bad', 'latitude_bad']\n",
    "\n",
    "LR = LogisticRegression(multi_class='ovr')\n",
    "LR.fit(dfLR_trn[basics].values, dfLR_trn['status_group_enc'].values)\n",
    "\n",
    "score = LR.score(dfLR_tst[basics].values, dfLR_tst['status_group_enc'].values)\n",
    "int(score*1000)/10"
   ]
  },
  {
   "cell_type": "code",
   "execution_count": 55,
   "metadata": {
    "collapsed": false
   },
   "outputs": [
    {
     "name": "stdout",
     "output_type": "stream",
     "text": [
      "quantity 67\n",
      "extraction_type 66\n",
      "waterpoint_type 65\n",
      "funder 63\n",
      "installer 63\n",
      "permit 62\n",
      "district_code 62\n",
      "water_quality 62\n",
      "source 62\n",
      "region 62\n",
      "basin 61\n",
      "management 61\n",
      "public_meeting 61\n",
      "payment 61\n",
      "wpt_name 61\n",
      "scheme_name 61\n",
      "scheme_management 61\n",
      "num_private 60\n"
     ]
    }
   ],
   "source": [
    "lr_scores = {}\n",
    "for col in ['basin','region','district_code']+categories:\n",
    "    \n",
    "    one_hot = pd.get_dummies(df[col], prefix=col)\n",
    "    # drop column as it is now encoded\n",
    "    dfOHE = df.drop(col, axis=1)\n",
    "    # join the encoded dataframe\n",
    "    dfOHE = dfOHE.join(one_hot)\n",
    "\n",
    "    these_cols = list(one_hot.columns)\n",
    "    #dfOHE[ these_cols ].head(10)\n",
    "    \n",
    "    dfLR = dfOHE.sample(frac=1)\n",
    "    dfLR_trn = dfLR[0:45000]\n",
    "    dfLR_tst = dfLR[45000:]\n",
    "    \n",
    "    if True:\n",
    "        these_cols = these_cols+basics # include all the \"basic\" features\n",
    "\n",
    "    LR = LogisticRegression(multi_class='ovr')\n",
    "    LR.fit(dfLR_trn[these_cols].values, dfLR_trn['status_group_enc'].values)\n",
    "\n",
    "    #LR.predict_proba(df[numerics].values)[0:10]\n",
    "    score = LR.score(dfLR_tst[these_cols].values, dfLR_tst['status_group_enc'].values)\n",
    "    #print( col, int(score*1000)/10 )\n",
    "    lr_scores[col] = int(score*1000)/10\n",
    "\n",
    "\n",
    "sorted_scores = sorted(lr_scores.items(), key=operator.itemgetter(1))\n",
    "sorted_scores.reverse()\n",
    "for k, v in sorted_scores:\n",
    "    print(k, v)"
   ]
  },
  {
   "cell_type": "code",
   "execution_count": 56,
   "metadata": {
    "collapsed": false
   },
   "outputs": [
    {
     "name": "stdout",
     "output_type": "stream",
     "text": [
      "75\n"
     ]
    }
   ],
   "source": [
    "these_cols = []\n",
    "dfOHE2 = None\n",
    "\n",
    "for col in ['basin','region','district_code']+categories:\n",
    "    \n",
    "    one_hot = pd.get_dummies(df[col], prefix=col)\n",
    "    # drop column as it is now encoded\n",
    "    if dfOHE2 is None:\n",
    "        dfOHE2 = df.drop(col, axis=1)\n",
    "    else:\n",
    "        dfOHE2 = dfOHE2.drop(col, axis=1)\n",
    "    # join the encoded dataframe\n",
    "    dfOHE2 = dfOHE2.join(one_hot)\n",
    "\n",
    "    these_cols.extend( list(one_hot.columns) )\n",
    "    \n",
    "\n",
    "dfLR2 = dfOHE2.sample(frac=1)\n",
    "dfLR2_trn = dfLR2[0:45000]\n",
    "dfLR2_tst = dfLR2[45000:]\n",
    "\n",
    "if True:\n",
    "    these_cols = these_cols+basics # include all the \"basic\" features\n",
    "\n",
    "LR = LogisticRegression(multi_class='ovr')\n",
    "LR.fit(dfLR2_trn[these_cols].values, dfLR2_trn['status_group_enc'].values)\n",
    "score = LR.score(dfLR2_tst[these_cols].values, dfLR2_tst['status_group_enc'].values)\n",
    "print( int(score*1000)/10 )"
   ]
  },
  {
   "cell_type": "code",
   "execution_count": 57,
   "metadata": {
    "collapsed": false
   },
   "outputs": [
    {
     "data": {
      "text/plain": [
       "(689, 679)"
      ]
     },
     "execution_count": 57,
     "metadata": {},
     "output_type": "execute_result"
    }
   ],
   "source": [
    "len(dfOHE2.columns.values), len(dfOHE2[these_cols].columns.values)"
   ]
  },
  {
   "cell_type": "code",
   "execution_count": 58,
   "metadata": {
    "collapsed": false
   },
   "outputs": [
    {
     "name": "stdout",
     "output_type": "stream",
     "text": [
      "75\n"
     ]
    }
   ],
   "source": [
    "more_cols = these_cols + numerics + ['latitude_bad','longitude_bad','gps_height_bad','gps_height'] + ['construction_year','construction_year_missing']\n",
    "LR = LogisticRegression(multi_class='ovr', penalty='l1', C=0.10)\n",
    "LR.fit(dfLR2_trn[more_cols].values, dfLR2_trn['status_group_enc'].values)\n",
    "score = LR.score(dfLR2_tst[more_cols].values, dfLR2_tst['status_group_enc'].values)\n",
    "print( int(score*1000)/10 )"
   ]
  },
  {
   "cell_type": "code",
   "execution_count": 59,
   "metadata": {
    "collapsed": false
   },
   "outputs": [
    {
     "data": {
      "text/plain": [
       "86"
      ]
     },
     "execution_count": 59,
     "metadata": {},
     "output_type": "execute_result"
    }
   ],
   "source": [
    "((LR.coef_.sum(axis=0)!=0)*1).sum() // 3 # number of non-null parameters "
   ]
  },
  {
   "cell_type": "code",
   "execution_count": 66,
   "metadata": {
    "collapsed": false
   },
   "outputs": [
    {
     "name": "stdout",
     "output_type": "stream",
     "text": [
      "['amount', 'basin', 'construction', 'date', 'district', 'extraction', 'funder', 'gps', 'installer', 'latitude', 'longitude', 'management', 'num', 'payment', 'permit', 'population', 'public', 'quantity', 'region', 'scheme', 'source', 'water', 'waterpoint', 'wpt']\n"
     ]
    }
   ],
   "source": [
    "cols = []\n",
    "for i, v in enumerate( LR.coef_.sum(axis=0) ):\n",
    "    if (v != 0):\n",
    "        cols.append(more_cols[i])\n",
    "        \n",
    "L = list(set([c.split('_')[0] for c in cols]))\n",
    "L.sort()\n",
    "print(L)"
   ]
  },
  {
   "cell_type": "markdown",
   "metadata": {},
   "source": [
    "## Random Forest"
   ]
  },
  {
   "cell_type": "code",
   "execution_count": 86,
   "metadata": {
    "collapsed": true
   },
   "outputs": [],
   "source": [
    "RFC = RandomForestClassifier(n_estimators=20,\n",
    "                             criterion='gini',\n",
    "                             max_depth=25,\n",
    "                             #min_samples_split=2, min_samples_leaf=1, min_weight_fraction_leaf=0.0,\n",
    "                             #max_features='auto', max_leaf_nodes=None, min_impurity_split=1e-07,\n",
    "                             #bootstrap=True, oob_score=False, n_jobs=1,\n",
    "                             class_weight=None)"
   ]
  },
  {
   "cell_type": "code",
   "execution_count": 87,
   "metadata": {
    "collapsed": false
   },
   "outputs": [
    {
     "name": "stdout",
     "output_type": "stream",
     "text": [
      "79\n"
     ]
    }
   ],
   "source": [
    "dfRFC = dfOHE2.sample(frac=1)\n",
    "dfRFC_f = dfRFC[0:45000]\n",
    "dfRFC_t = dfRFC[45000:]\n",
    "RFC.fit(dfRFC_f[more_cols].values, dfRFC_f['status_group_enc'].values)\n",
    "\n",
    "score = RFC.score(dfRFC_t[more_cols].values, dfRFC_t['status_group_enc'].values)\n",
    "print( int(score*1000)/10 )"
   ]
  },
  {
   "cell_type": "markdown",
   "metadata": {
    "collapsed": true
   },
   "source": [
    "## XGBoost"
   ]
  },
  {
   "cell_type": "code",
   "execution_count": 57,
   "metadata": {
    "collapsed": false
   },
   "outputs": [],
   "source": [
    "BC = xgb.XGBClassifier(max_depth=9, n_estimators=50, learning_rate=0.05,\n",
    "                       objective='multi:softprob')\n",
    "\n",
    "# LIST OF PARAMETERS :\n",
    "#   max_depth=3, learning_rate=0.1, n_estimators=100, silent=True,\n",
    "#   objective='binary:logistic', nthread=-1, gamma=0, min_child_weight=1, max_delta_step=0,\n",
    "#   subsample=1, colsample_bytree=1, base_score=0.5, seed=0, missing=None"
   ]
  },
  {
   "cell_type": "code",
   "execution_count": null,
   "metadata": {
    "collapsed": false
   },
   "outputs": [
    {
     "data": {
      "text/plain": [
       "XGBClassifier(base_score=0.5, colsample_bytree=1, gamma=0, learning_rate=0.05,\n",
       "       max_delta_step=0, max_depth=9, min_child_weight=1, missing=None,\n",
       "       n_estimators=50, nthread=-1, objective='multi:softprob', seed=0,\n",
       "       silent=True, subsample=1)"
      ]
     },
     "execution_count": 58,
     "metadata": {},
     "output_type": "execute_result"
    }
   ],
   "source": [
    "BC.fit(dfRFC_f[more_cols].values, dfRFC_f['status_group_enc'].values)"
   ]
  },
  {
   "cell_type": "code",
   "execution_count": 67,
   "metadata": {
    "collapsed": false
   },
   "outputs": [],
   "source": [
    "y_pred = BC.predict(dfRFC_t[more_cols].values)\n",
    "predictions = [round(value) for value in y_pred]\n",
    "\n",
    "# evaluate predictions\n",
    "from sklearn.metrics import accuracy_score\n",
    "accuracy = accuracy_score(dfRFC_t['status_group_enc'].values, predictions)"
   ]
  },
  {
   "cell_type": "code",
   "execution_count": 68,
   "metadata": {
    "collapsed": false
   },
   "outputs": [
    {
     "data": {
      "text/plain": [
       "0.77055555555555555"
      ]
     },
     "execution_count": 68,
     "metadata": {},
     "output_type": "execute_result"
    }
   ],
   "source": [
    "accuracy"
   ]
  },
  {
   "cell_type": "code",
   "execution_count": 69,
   "metadata": {
    "collapsed": false
   },
   "outputs": [
    {
     "data": {
      "text/plain": [
       "(10112, 4001, 287)"
      ]
     },
     "execution_count": 69,
     "metadata": {},
     "output_type": "execute_result"
    }
   ],
   "source": [
    "((y_pred==0)*1).sum(), ((y_pred==1)*1).sum(), ((y_pred==2)*1).sum()"
   ]
  },
  {
   "cell_type": "code",
   "execution_count": 70,
   "metadata": {
    "collapsed": false
   },
   "outputs": [
    {
     "data": {
      "text/plain": [
       "(7758, 5588, 1054)"
      ]
     },
     "execution_count": 70,
     "metadata": {},
     "output_type": "execute_result"
    }
   ],
   "source": [
    "(dfRFC_t['status_group_enc']==0).sum(), (dfRFC_t['status_group_enc']==1).sum(), (dfRFC_t['status_group_enc']==2).sum()"
   ]
  },
  {
   "cell_type": "code",
   "execution_count": null,
   "metadata": {
    "collapsed": true
   },
   "outputs": [],
   "source": []
  }
 ],
 "metadata": {
  "anaconda-cloud": {},
  "kernelspec": {
   "display_name": "Python [conda root]",
   "language": "python",
   "name": "conda-root-py"
  },
  "language_info": {
   "codemirror_mode": {
    "name": "ipython",
    "version": 2
   },
   "file_extension": ".py",
   "mimetype": "text/x-python",
   "name": "python",
   "nbconvert_exporter": "python",
   "pygments_lexer": "ipython2",
   "version": "2.7.12"
  }
 },
 "nbformat": 4,
 "nbformat_minor": 1
}

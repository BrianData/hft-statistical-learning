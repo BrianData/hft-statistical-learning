{
 "cells": [
  {
   "cell_type": "markdown",
   "metadata": {},
   "source": [
    "See : https://www.kaggle.com/c/prudential-life-insurance-assessment/data\n",
    "\n",
    "\n",
    "### Variable Description\n",
    "Id                      A unique identifier associated with an application.\n",
    "\n",
    "Product_Info_1-7        A set of normalized variables relating to the product applied for\n",
    "\n",
    "Ins_Age                 Normalized age of applicant\n",
    "\n",
    "Ht                      Normalized height of applicant\n",
    "\n",
    "Wt                      Normalized weight of applicant\n",
    "\n",
    "BMI                     Normalized BMI of applicant\n",
    "\n",
    "Employment_Info_1-6     A set of normalized variables relating to the employment history of the applicant.\n",
    "\n",
    "InsuredInfo_1-6         A set of normalized variables providing information about the applicant.\n",
    "\n",
    "Insurance_History_1-9   A set of normalized variables relating to the insurance history of the applicant.\n",
    "\n",
    "Family_Hist_1-5         A set of normalized variables relating to the family history of the applicant.\n",
    "\n",
    "Medical_History_1-41    A set of normalized variables relating to the medical history of the applicant.\n",
    "\n",
    "Medical_Keyword_1-48    A set of dummy variables relating to the presence of/absence of a medical keyword being associated with the application.\n",
    "\n",
    "**Response**            This is the target variable, an ordinal variable relating to the final decision associated with an application\n",
    "\n",
    "\n",
    "#### The following variables are all categorical (nominal) :\n",
    "Product_Info_1, Product_Info_2, Product_Info_3, Product_Info_5, Product_Info_6, Product_Info_7,\n",
    "\n",
    "Employment_Info_2, Employment_Info_3, Employment_Info_5, InsuredInfo_1, InsuredInfo_2, InsuredInfo_3,\n",
    "\n",
    "InsuredInfo_4, InsuredInfo_5, InsuredInfo_6, InsuredInfo_7,\n",
    "\n",
    "Insurance_History_1, Insurance_History_2, Insurance_History_3, Insurance_History_4, Insurance_History_7,\n",
    "\n",
    "Insurance_History_8, Insurance_History_9,\n",
    "\n",
    "Family_Hist_1,\n",
    "\n",
    "Medical_History_2, Medical_History_3, Medical_History_4, Medical_History_5, Medical_History_6, Medical_History_7,\n",
    "\n",
    "Medical_History_8, Medical_History_9, Medical_History_11, Medical_History_12, Medical_History_13,\n",
    "\n",
    "Medical_History_14, Medical_History_16, Medical_History_17, Medical_History_18, Medical_History_19,\n",
    "\n",
    "Medical_History_20, Medical_History_21, Medical_History_22, Medical_History_23, Medical_History_25,\n",
    "\n",
    "Medical_History_26, Medical_History_27, Medical_History_28, Medical_History_29, Medical_History_30,\n",
    "\n",
    "Medical_History_31, Medical_History_33, Medical_History_34, Medical_History_35, Medical_History_36,\n",
    "\n",
    "Medical_History_37, Medical_History_38, Medical_History_39, Medical_History_40, Medical_History_41\n",
    "\n",
    "\n",
    "#### The following variables are continuous :\n",
    "Product_Info_4, Ins_Age, Ht, Wt, BMI,\n",
    "\n",
    "Employment_Info_1, Employment_Info_4, Employment_Info_6,\n",
    "\n",
    "Insurance_History_5,\n",
    "\n",
    "Family_Hist_2, Family_Hist_3, Family_Hist_4, Family_Hist_5\n",
    "\n",
    "\n",
    "#### The following variables are discrete :\n",
    "Medical_History_1, Medical_History_10, Medical_History_15, Medical_History_24, Medical_History_32\n",
    "\n",
    "#### The following variables are dummy variables :\n",
    "Medical_Keyword_1-48"
   ]
  },
  {
   "cell_type": "code",
   "execution_count": 2,
   "metadata": {
    "collapsed": true
   },
   "outputs": [],
   "source": [
    "import math\n",
    "import pandas\n",
    "import numpy as np\n",
    "import matplotlib.pyplot as plt"
   ]
  },
  {
   "cell_type": "code",
   "execution_count": 64,
   "metadata": {
    "collapsed": true
   },
   "outputs": [],
   "source": [
    "# machine learning\n",
    "#from sklearn import datasets\n",
    "from sklearn.metrics import log_loss\n",
    "from sklearn.preprocessing import OneHotEncoder, MinMaxScaler, StandardScaler\n",
    "from sklearn.feature_selection import chi2\n",
    "from sklearn.feature_selection import SelectKBest\n",
    "from sklearn.linear_model import LogisticRegression\n",
    "from sklearn.svm import SVC, LinearSVC\n",
    "from sklearn.ensemble import RandomForestClassifier\n",
    "from sklearn.neighbors import KNeighborsClassifier\n",
    "from sklearn.naive_bayes import GaussianNB"
   ]
  },
  {
   "cell_type": "code",
   "execution_count": 4,
   "metadata": {
    "collapsed": false
   },
   "outputs": [],
   "source": [
    "# Keras\n",
    "#from keras.preprocessing.sequence import pad_sequences\n",
    "from keras.layers import Input, Dense, Embedding, Activation, LSTM, merge, Flatten, Dropout, Lambda\n",
    "from keras.layers import RepeatVector, Reshape\n",
    "from keras.models import Model, Sequential\n",
    "#from keras.engine.topology import Merge\n",
    "from keras.layers.normalization import BatchNormalization\n",
    "from keras.optimizers import SGD, RMSprop, Adam\n",
    "#from keras.layers.convolutional import *\n",
    "#from keras.utils.data_utils import get_file\n",
    "#\n",
    "from keras import backend as K"
   ]
  },
  {
   "cell_type": "code",
   "execution_count": 5,
   "metadata": {
    "collapsed": false
   },
   "outputs": [],
   "source": [
    "import xgboost as xgb"
   ]
  },
  {
   "cell_type": "code",
   "execution_count": 6,
   "metadata": {
    "collapsed": false
   },
   "outputs": [],
   "source": [
    "from metrics import quadratic_weighted_kappa"
   ]
  },
  {
   "cell_type": "code",
   "execution_count": 7,
   "metadata": {
    "collapsed": false
   },
   "outputs": [],
   "source": [
    "df0 = pandas.read_csv(\"../data/train.csv.gz\")"
   ]
  },
  {
   "cell_type": "code",
   "execution_count": 8,
   "metadata": {
    "collapsed": false
   },
   "outputs": [],
   "source": [
    "# WARNING : shuffle to better split the train/test sets\n",
    "df = df0.sample(frac=1)"
   ]
  },
  {
   "cell_type": "code",
   "execution_count": 9,
   "metadata": {
    "collapsed": false
   },
   "outputs": [],
   "source": [
    "df['BMI_Age'] = df['BMI'] * df['Ins_Age']\n",
    "\n",
    "med_keyword_columns = df.columns[df.columns.str.startswith('Medical_Keyword_')]\n",
    "df['Med_Keywords_Count'] = df[med_keyword_columns].sum(axis=1)"
   ]
  },
  {
   "cell_type": "code",
   "execution_count": 10,
   "metadata": {
    "collapsed": false,
    "scrolled": false
   },
   "outputs": [],
   "source": [
    "#df.describe().transpose()"
   ]
  },
  {
   "cell_type": "markdown",
   "metadata": {},
   "source": [
    "### Continuous variables\n",
    "##### Product_Info_4, Ins_Age, Ht, Wt, BMI\n",
    "##### Employment_Info_1, Employment_Info_4, Employment_Info_6\n",
    "##### Insurance_History_5\n",
    "##### Family_Hist_2, Family_Hist_3, Family_Hist_4, Family_Hist_5"
   ]
  },
  {
   "cell_type": "code",
   "execution_count": 11,
   "metadata": {
    "collapsed": false
   },
   "outputs": [
    {
     "data": {
      "text/html": [
       "<div>\n",
       "<table border=\"1\" class=\"dataframe\">\n",
       "  <thead>\n",
       "    <tr style=\"text-align: right;\">\n",
       "      <th></th>\n",
       "      <th>count</th>\n",
       "      <th>mean</th>\n",
       "      <th>std</th>\n",
       "      <th>min</th>\n",
       "      <th>25%</th>\n",
       "      <th>50%</th>\n",
       "      <th>75%</th>\n",
       "      <th>max</th>\n",
       "    </tr>\n",
       "  </thead>\n",
       "  <tbody>\n",
       "    <tr>\n",
       "      <th>Product_Info_4</th>\n",
       "      <td>59381</td>\n",
       "      <td>0.328952</td>\n",
       "      <td>0.282562</td>\n",
       "      <td>0</td>\n",
       "      <td>0.076923</td>\n",
       "      <td>0.230769</td>\n",
       "      <td>0.487179</td>\n",
       "      <td>1.000000</td>\n",
       "    </tr>\n",
       "    <tr>\n",
       "      <th>Ins_Age</th>\n",
       "      <td>59381</td>\n",
       "      <td>0.405567</td>\n",
       "      <td>0.197190</td>\n",
       "      <td>0</td>\n",
       "      <td>0.238806</td>\n",
       "      <td>0.402985</td>\n",
       "      <td>0.567164</td>\n",
       "      <td>1.000000</td>\n",
       "    </tr>\n",
       "    <tr>\n",
       "      <th>Ht</th>\n",
       "      <td>59381</td>\n",
       "      <td>0.707283</td>\n",
       "      <td>0.074239</td>\n",
       "      <td>0</td>\n",
       "      <td>0.654545</td>\n",
       "      <td>0.709091</td>\n",
       "      <td>0.763636</td>\n",
       "      <td>1.000000</td>\n",
       "    </tr>\n",
       "    <tr>\n",
       "      <th>Wt</th>\n",
       "      <td>59381</td>\n",
       "      <td>0.292587</td>\n",
       "      <td>0.089037</td>\n",
       "      <td>0</td>\n",
       "      <td>0.225941</td>\n",
       "      <td>0.288703</td>\n",
       "      <td>0.345188</td>\n",
       "      <td>1.000000</td>\n",
       "    </tr>\n",
       "    <tr>\n",
       "      <th>BMI</th>\n",
       "      <td>59381</td>\n",
       "      <td>0.469462</td>\n",
       "      <td>0.122213</td>\n",
       "      <td>0</td>\n",
       "      <td>0.385517</td>\n",
       "      <td>0.451349</td>\n",
       "      <td>0.532858</td>\n",
       "      <td>1.000000</td>\n",
       "    </tr>\n",
       "    <tr>\n",
       "      <th>BMI_Age</th>\n",
       "      <td>59381</td>\n",
       "      <td>0.193702</td>\n",
       "      <td>0.111500</td>\n",
       "      <td>0</td>\n",
       "      <td>0.104285</td>\n",
       "      <td>0.183607</td>\n",
       "      <td>0.267714</td>\n",
       "      <td>0.805970</td>\n",
       "    </tr>\n",
       "    <tr>\n",
       "      <th>Med_Keywords_Count</th>\n",
       "      <td>59381</td>\n",
       "      <td>1.264765</td>\n",
       "      <td>1.480236</td>\n",
       "      <td>0</td>\n",
       "      <td>0.000000</td>\n",
       "      <td>1.000000</td>\n",
       "      <td>2.000000</td>\n",
       "      <td>16.000000</td>\n",
       "    </tr>\n",
       "    <tr>\n",
       "      <th>Employment_Info_1</th>\n",
       "      <td>59362</td>\n",
       "      <td>0.077582</td>\n",
       "      <td>0.082347</td>\n",
       "      <td>0</td>\n",
       "      <td>0.035000</td>\n",
       "      <td>0.060000</td>\n",
       "      <td>0.100000</td>\n",
       "      <td>1.000000</td>\n",
       "    </tr>\n",
       "    <tr>\n",
       "      <th>Employment_Info_4</th>\n",
       "      <td>52602</td>\n",
       "      <td>0.006283</td>\n",
       "      <td>0.032816</td>\n",
       "      <td>0</td>\n",
       "      <td>0.000000</td>\n",
       "      <td>0.000000</td>\n",
       "      <td>0.000000</td>\n",
       "      <td>1.000000</td>\n",
       "    </tr>\n",
       "    <tr>\n",
       "      <th>Employment_Info_6</th>\n",
       "      <td>48527</td>\n",
       "      <td>0.361469</td>\n",
       "      <td>0.349551</td>\n",
       "      <td>0</td>\n",
       "      <td>0.060000</td>\n",
       "      <td>0.250000</td>\n",
       "      <td>0.550000</td>\n",
       "      <td>1.000000</td>\n",
       "    </tr>\n",
       "    <tr>\n",
       "      <th>Insurance_History_5</th>\n",
       "      <td>33985</td>\n",
       "      <td>0.001733</td>\n",
       "      <td>0.007338</td>\n",
       "      <td>0</td>\n",
       "      <td>0.000400</td>\n",
       "      <td>0.000973</td>\n",
       "      <td>0.002000</td>\n",
       "      <td>1.000000</td>\n",
       "    </tr>\n",
       "    <tr>\n",
       "      <th>Family_Hist_2</th>\n",
       "      <td>30725</td>\n",
       "      <td>0.474550</td>\n",
       "      <td>0.154959</td>\n",
       "      <td>0</td>\n",
       "      <td>0.362319</td>\n",
       "      <td>0.463768</td>\n",
       "      <td>0.579710</td>\n",
       "      <td>1.000000</td>\n",
       "    </tr>\n",
       "    <tr>\n",
       "      <th>Family_Hist_3</th>\n",
       "      <td>25140</td>\n",
       "      <td>0.497737</td>\n",
       "      <td>0.140187</td>\n",
       "      <td>0</td>\n",
       "      <td>0.401961</td>\n",
       "      <td>0.519608</td>\n",
       "      <td>0.598039</td>\n",
       "      <td>1.000000</td>\n",
       "    </tr>\n",
       "    <tr>\n",
       "      <th>Family_Hist_4</th>\n",
       "      <td>40197</td>\n",
       "      <td>0.444890</td>\n",
       "      <td>0.163012</td>\n",
       "      <td>0</td>\n",
       "      <td>0.323944</td>\n",
       "      <td>0.422535</td>\n",
       "      <td>0.563380</td>\n",
       "      <td>0.943662</td>\n",
       "    </tr>\n",
       "    <tr>\n",
       "      <th>Family_Hist_5</th>\n",
       "      <td>17570</td>\n",
       "      <td>0.484635</td>\n",
       "      <td>0.129200</td>\n",
       "      <td>0</td>\n",
       "      <td>0.401786</td>\n",
       "      <td>0.508929</td>\n",
       "      <td>0.580357</td>\n",
       "      <td>1.000000</td>\n",
       "    </tr>\n",
       "  </tbody>\n",
       "</table>\n",
       "</div>"
      ],
      "text/plain": [
       "                     count      mean       std  min       25%       50%  \\\n",
       "Product_Info_4       59381  0.328952  0.282562    0  0.076923  0.230769   \n",
       "Ins_Age              59381  0.405567  0.197190    0  0.238806  0.402985   \n",
       "Ht                   59381  0.707283  0.074239    0  0.654545  0.709091   \n",
       "Wt                   59381  0.292587  0.089037    0  0.225941  0.288703   \n",
       "BMI                  59381  0.469462  0.122213    0  0.385517  0.451349   \n",
       "BMI_Age              59381  0.193702  0.111500    0  0.104285  0.183607   \n",
       "Med_Keywords_Count   59381  1.264765  1.480236    0  0.000000  1.000000   \n",
       "Employment_Info_1    59362  0.077582  0.082347    0  0.035000  0.060000   \n",
       "Employment_Info_4    52602  0.006283  0.032816    0  0.000000  0.000000   \n",
       "Employment_Info_6    48527  0.361469  0.349551    0  0.060000  0.250000   \n",
       "Insurance_History_5  33985  0.001733  0.007338    0  0.000400  0.000973   \n",
       "Family_Hist_2        30725  0.474550  0.154959    0  0.362319  0.463768   \n",
       "Family_Hist_3        25140  0.497737  0.140187    0  0.401961  0.519608   \n",
       "Family_Hist_4        40197  0.444890  0.163012    0  0.323944  0.422535   \n",
       "Family_Hist_5        17570  0.484635  0.129200    0  0.401786  0.508929   \n",
       "\n",
       "                          75%        max  \n",
       "Product_Info_4       0.487179   1.000000  \n",
       "Ins_Age              0.567164   1.000000  \n",
       "Ht                   0.763636   1.000000  \n",
       "Wt                   0.345188   1.000000  \n",
       "BMI                  0.532858   1.000000  \n",
       "BMI_Age              0.267714   0.805970  \n",
       "Med_Keywords_Count   2.000000  16.000000  \n",
       "Employment_Info_1    0.100000   1.000000  \n",
       "Employment_Info_4    0.000000   1.000000  \n",
       "Employment_Info_6    0.550000   1.000000  \n",
       "Insurance_History_5  0.002000   1.000000  \n",
       "Family_Hist_2        0.579710   1.000000  \n",
       "Family_Hist_3        0.598039   1.000000  \n",
       "Family_Hist_4        0.563380   0.943662  \n",
       "Family_Hist_5        0.580357   1.000000  "
      ]
     },
     "execution_count": 11,
     "metadata": {},
     "output_type": "execute_result"
    }
   ],
   "source": [
    "L = []\n",
    "L1 = ['Product_Info_4', 'Ins_Age', 'Ht', 'Wt', 'BMI', 'BMI_Age', 'Med_Keywords_Count',\n",
    "      'Employment_Info_1', 'Employment_Info_4', 'Employment_Info_6']\n",
    "L.extend(L1)\n",
    "L2 = ['Insurance_History_5', 'Family_Hist_2', 'Family_Hist_3', 'Family_Hist_4', 'Family_Hist_5']\n",
    "L.extend(L2)\n",
    "df[L].describe().transpose()"
   ]
  },
  {
   "cell_type": "code",
   "execution_count": 12,
   "metadata": {
    "collapsed": true
   },
   "outputs": [],
   "source": [
    "### note that some variables are not defined everywhere"
   ]
  },
  {
   "cell_type": "code",
   "execution_count": 13,
   "metadata": {
    "collapsed": false
   },
   "outputs": [
    {
     "data": {
      "text/html": [
       "<div>\n",
       "<table border=\"1\" class=\"dataframe\">\n",
       "  <thead>\n",
       "    <tr style=\"text-align: right;\">\n",
       "      <th></th>\n",
       "      <th>count</th>\n",
       "      <th>mean</th>\n",
       "      <th>std</th>\n",
       "      <th>min</th>\n",
       "      <th>25%</th>\n",
       "      <th>50%</th>\n",
       "      <th>75%</th>\n",
       "      <th>max</th>\n",
       "    </tr>\n",
       "  </thead>\n",
       "  <tbody>\n",
       "    <tr>\n",
       "      <th>Product_Info_4</th>\n",
       "      <td>59381</td>\n",
       "      <td>0.328952</td>\n",
       "      <td>0.282562</td>\n",
       "      <td>0</td>\n",
       "      <td>0.076923</td>\n",
       "      <td>0.230769</td>\n",
       "      <td>0.487179</td>\n",
       "      <td>1.00000</td>\n",
       "    </tr>\n",
       "    <tr>\n",
       "      <th>Ins_Age</th>\n",
       "      <td>59381</td>\n",
       "      <td>0.405567</td>\n",
       "      <td>0.197190</td>\n",
       "      <td>0</td>\n",
       "      <td>0.238806</td>\n",
       "      <td>0.402985</td>\n",
       "      <td>0.567164</td>\n",
       "      <td>1.00000</td>\n",
       "    </tr>\n",
       "    <tr>\n",
       "      <th>Ht</th>\n",
       "      <td>59381</td>\n",
       "      <td>0.707283</td>\n",
       "      <td>0.074239</td>\n",
       "      <td>0</td>\n",
       "      <td>0.654545</td>\n",
       "      <td>0.709091</td>\n",
       "      <td>0.763636</td>\n",
       "      <td>1.00000</td>\n",
       "    </tr>\n",
       "    <tr>\n",
       "      <th>Wt</th>\n",
       "      <td>59381</td>\n",
       "      <td>0.292587</td>\n",
       "      <td>0.089037</td>\n",
       "      <td>0</td>\n",
       "      <td>0.225941</td>\n",
       "      <td>0.288703</td>\n",
       "      <td>0.345188</td>\n",
       "      <td>1.00000</td>\n",
       "    </tr>\n",
       "    <tr>\n",
       "      <th>BMI</th>\n",
       "      <td>59381</td>\n",
       "      <td>0.469462</td>\n",
       "      <td>0.122213</td>\n",
       "      <td>0</td>\n",
       "      <td>0.385517</td>\n",
       "      <td>0.451349</td>\n",
       "      <td>0.532858</td>\n",
       "      <td>1.00000</td>\n",
       "    </tr>\n",
       "    <tr>\n",
       "      <th>BMI_Age</th>\n",
       "      <td>59381</td>\n",
       "      <td>0.193702</td>\n",
       "      <td>0.111500</td>\n",
       "      <td>0</td>\n",
       "      <td>0.104285</td>\n",
       "      <td>0.183607</td>\n",
       "      <td>0.267714</td>\n",
       "      <td>0.80597</td>\n",
       "    </tr>\n",
       "    <tr>\n",
       "      <th>Med_Keywords_Count</th>\n",
       "      <td>59381</td>\n",
       "      <td>1.264765</td>\n",
       "      <td>1.480236</td>\n",
       "      <td>0</td>\n",
       "      <td>0.000000</td>\n",
       "      <td>1.000000</td>\n",
       "      <td>2.000000</td>\n",
       "      <td>16.00000</td>\n",
       "    </tr>\n",
       "  </tbody>\n",
       "</table>\n",
       "</div>"
      ],
      "text/plain": [
       "                    count      mean       std  min       25%       50%  \\\n",
       "Product_Info_4      59381  0.328952  0.282562    0  0.076923  0.230769   \n",
       "Ins_Age             59381  0.405567  0.197190    0  0.238806  0.402985   \n",
       "Ht                  59381  0.707283  0.074239    0  0.654545  0.709091   \n",
       "Wt                  59381  0.292587  0.089037    0  0.225941  0.288703   \n",
       "BMI                 59381  0.469462  0.122213    0  0.385517  0.451349   \n",
       "BMI_Age             59381  0.193702  0.111500    0  0.104285  0.183607   \n",
       "Med_Keywords_Count  59381  1.264765  1.480236    0  0.000000  1.000000   \n",
       "\n",
       "                         75%       max  \n",
       "Product_Info_4      0.487179   1.00000  \n",
       "Ins_Age             0.567164   1.00000  \n",
       "Ht                  0.763636   1.00000  \n",
       "Wt                  0.345188   1.00000  \n",
       "BMI                 0.532858   1.00000  \n",
       "BMI_Age             0.267714   0.80597  \n",
       "Med_Keywords_Count  2.000000  16.00000  "
      ]
     },
     "execution_count": 13,
     "metadata": {},
     "output_type": "execute_result"
    }
   ],
   "source": [
    "L1 = ['Product_Info_4', 'Ins_Age', 'Ht', 'Wt', 'BMI','BMI_Age', 'Med_Keywords_Count']\n",
    "df[L1].describe().transpose()"
   ]
  },
  {
   "cell_type": "code",
   "execution_count": 14,
   "metadata": {
    "collapsed": false
   },
   "outputs": [
    {
     "name": "stdout",
     "output_type": "stream",
     "text": [
      "('Employment_Info_1', 0.07758209953084576)\n",
      "('Employment_Info_4', 0.006282674324930456)\n",
      "('Employment_Info_6', 0.36146880400148845)\n",
      "('Insurance_History_5', 0.001733063699930494)\n",
      "('Family_Hist_2', 0.474550064271798)\n",
      "('Family_Hist_3', 0.49773737657983136)\n",
      "('Family_Hist_4', 0.4448902535379512)\n",
      "('Family_Hist_5', 0.48463492966550975)\n"
     ]
    }
   ],
   "source": [
    "for l in L:\n",
    "    if not(l in L1):\n",
    "        print(l, df[l].mean())\n",
    "        df[l].fillna((df[l].mean()), inplace=True)"
   ]
  },
  {
   "cell_type": "code",
   "execution_count": 15,
   "metadata": {
    "collapsed": false
   },
   "outputs": [
    {
     "data": {
      "text/html": [
       "<div>\n",
       "<table border=\"1\" class=\"dataframe\">\n",
       "  <thead>\n",
       "    <tr style=\"text-align: right;\">\n",
       "      <th></th>\n",
       "      <th>count</th>\n",
       "      <th>mean</th>\n",
       "      <th>std</th>\n",
       "      <th>min</th>\n",
       "      <th>25%</th>\n",
       "      <th>50%</th>\n",
       "      <th>75%</th>\n",
       "      <th>max</th>\n",
       "    </tr>\n",
       "  </thead>\n",
       "  <tbody>\n",
       "    <tr>\n",
       "      <th>Product_Info_4</th>\n",
       "      <td>59381</td>\n",
       "      <td>0.328952</td>\n",
       "      <td>0.282562</td>\n",
       "      <td>0</td>\n",
       "      <td>0.076923</td>\n",
       "      <td>0.230769</td>\n",
       "      <td>0.487179</td>\n",
       "      <td>1.000000</td>\n",
       "    </tr>\n",
       "    <tr>\n",
       "      <th>Ins_Age</th>\n",
       "      <td>59381</td>\n",
       "      <td>0.405567</td>\n",
       "      <td>0.197190</td>\n",
       "      <td>0</td>\n",
       "      <td>0.238806</td>\n",
       "      <td>0.402985</td>\n",
       "      <td>0.567164</td>\n",
       "      <td>1.000000</td>\n",
       "    </tr>\n",
       "    <tr>\n",
       "      <th>Ht</th>\n",
       "      <td>59381</td>\n",
       "      <td>0.707283</td>\n",
       "      <td>0.074239</td>\n",
       "      <td>0</td>\n",
       "      <td>0.654545</td>\n",
       "      <td>0.709091</td>\n",
       "      <td>0.763636</td>\n",
       "      <td>1.000000</td>\n",
       "    </tr>\n",
       "    <tr>\n",
       "      <th>Wt</th>\n",
       "      <td>59381</td>\n",
       "      <td>0.292587</td>\n",
       "      <td>0.089037</td>\n",
       "      <td>0</td>\n",
       "      <td>0.225941</td>\n",
       "      <td>0.288703</td>\n",
       "      <td>0.345188</td>\n",
       "      <td>1.000000</td>\n",
       "    </tr>\n",
       "    <tr>\n",
       "      <th>BMI</th>\n",
       "      <td>59381</td>\n",
       "      <td>0.469462</td>\n",
       "      <td>0.122213</td>\n",
       "      <td>0</td>\n",
       "      <td>0.385517</td>\n",
       "      <td>0.451349</td>\n",
       "      <td>0.532858</td>\n",
       "      <td>1.000000</td>\n",
       "    </tr>\n",
       "    <tr>\n",
       "      <th>BMI_Age</th>\n",
       "      <td>59381</td>\n",
       "      <td>0.193702</td>\n",
       "      <td>0.111500</td>\n",
       "      <td>0</td>\n",
       "      <td>0.104285</td>\n",
       "      <td>0.183607</td>\n",
       "      <td>0.267714</td>\n",
       "      <td>0.805970</td>\n",
       "    </tr>\n",
       "    <tr>\n",
       "      <th>Med_Keywords_Count</th>\n",
       "      <td>59381</td>\n",
       "      <td>1.264765</td>\n",
       "      <td>1.480236</td>\n",
       "      <td>0</td>\n",
       "      <td>0.000000</td>\n",
       "      <td>1.000000</td>\n",
       "      <td>2.000000</td>\n",
       "      <td>16.000000</td>\n",
       "    </tr>\n",
       "    <tr>\n",
       "      <th>Employment_Info_1</th>\n",
       "      <td>59381</td>\n",
       "      <td>0.077582</td>\n",
       "      <td>0.082334</td>\n",
       "      <td>0</td>\n",
       "      <td>0.035000</td>\n",
       "      <td>0.060000</td>\n",
       "      <td>0.100000</td>\n",
       "      <td>1.000000</td>\n",
       "    </tr>\n",
       "    <tr>\n",
       "      <th>Employment_Info_4</th>\n",
       "      <td>59381</td>\n",
       "      <td>0.006283</td>\n",
       "      <td>0.030887</td>\n",
       "      <td>0</td>\n",
       "      <td>0.000000</td>\n",
       "      <td>0.000000</td>\n",
       "      <td>0.000000</td>\n",
       "      <td>1.000000</td>\n",
       "    </tr>\n",
       "    <tr>\n",
       "      <th>Employment_Info_6</th>\n",
       "      <td>59381</td>\n",
       "      <td>0.361469</td>\n",
       "      <td>0.315993</td>\n",
       "      <td>0</td>\n",
       "      <td>0.100000</td>\n",
       "      <td>0.350000</td>\n",
       "      <td>0.500000</td>\n",
       "      <td>1.000000</td>\n",
       "    </tr>\n",
       "    <tr>\n",
       "      <th>Insurance_History_5</th>\n",
       "      <td>59381</td>\n",
       "      <td>0.001733</td>\n",
       "      <td>0.005551</td>\n",
       "      <td>0</td>\n",
       "      <td>0.000667</td>\n",
       "      <td>0.001733</td>\n",
       "      <td>0.001733</td>\n",
       "      <td>1.000000</td>\n",
       "    </tr>\n",
       "    <tr>\n",
       "      <th>Family_Hist_2</th>\n",
       "      <td>59381</td>\n",
       "      <td>0.474550</td>\n",
       "      <td>0.111464</td>\n",
       "      <td>0</td>\n",
       "      <td>0.449275</td>\n",
       "      <td>0.474550</td>\n",
       "      <td>0.474550</td>\n",
       "      <td>1.000000</td>\n",
       "    </tr>\n",
       "    <tr>\n",
       "      <th>Family_Hist_3</th>\n",
       "      <td>59381</td>\n",
       "      <td>0.497737</td>\n",
       "      <td>0.091214</td>\n",
       "      <td>0</td>\n",
       "      <td>0.497737</td>\n",
       "      <td>0.497737</td>\n",
       "      <td>0.497737</td>\n",
       "      <td>1.000000</td>\n",
       "    </tr>\n",
       "    <tr>\n",
       "      <th>Family_Hist_4</th>\n",
       "      <td>59381</td>\n",
       "      <td>0.444890</td>\n",
       "      <td>0.134119</td>\n",
       "      <td>0</td>\n",
       "      <td>0.380282</td>\n",
       "      <td>0.444890</td>\n",
       "      <td>0.492958</td>\n",
       "      <td>0.943662</td>\n",
       "    </tr>\n",
       "    <tr>\n",
       "      <th>Family_Hist_5</th>\n",
       "      <td>59381</td>\n",
       "      <td>0.484635</td>\n",
       "      <td>0.070277</td>\n",
       "      <td>0</td>\n",
       "      <td>0.484635</td>\n",
       "      <td>0.484635</td>\n",
       "      <td>0.484635</td>\n",
       "      <td>1.000000</td>\n",
       "    </tr>\n",
       "  </tbody>\n",
       "</table>\n",
       "</div>"
      ],
      "text/plain": [
       "                     count      mean       std  min       25%       50%  \\\n",
       "Product_Info_4       59381  0.328952  0.282562    0  0.076923  0.230769   \n",
       "Ins_Age              59381  0.405567  0.197190    0  0.238806  0.402985   \n",
       "Ht                   59381  0.707283  0.074239    0  0.654545  0.709091   \n",
       "Wt                   59381  0.292587  0.089037    0  0.225941  0.288703   \n",
       "BMI                  59381  0.469462  0.122213    0  0.385517  0.451349   \n",
       "BMI_Age              59381  0.193702  0.111500    0  0.104285  0.183607   \n",
       "Med_Keywords_Count   59381  1.264765  1.480236    0  0.000000  1.000000   \n",
       "Employment_Info_1    59381  0.077582  0.082334    0  0.035000  0.060000   \n",
       "Employment_Info_4    59381  0.006283  0.030887    0  0.000000  0.000000   \n",
       "Employment_Info_6    59381  0.361469  0.315993    0  0.100000  0.350000   \n",
       "Insurance_History_5  59381  0.001733  0.005551    0  0.000667  0.001733   \n",
       "Family_Hist_2        59381  0.474550  0.111464    0  0.449275  0.474550   \n",
       "Family_Hist_3        59381  0.497737  0.091214    0  0.497737  0.497737   \n",
       "Family_Hist_4        59381  0.444890  0.134119    0  0.380282  0.444890   \n",
       "Family_Hist_5        59381  0.484635  0.070277    0  0.484635  0.484635   \n",
       "\n",
       "                          75%        max  \n",
       "Product_Info_4       0.487179   1.000000  \n",
       "Ins_Age              0.567164   1.000000  \n",
       "Ht                   0.763636   1.000000  \n",
       "Wt                   0.345188   1.000000  \n",
       "BMI                  0.532858   1.000000  \n",
       "BMI_Age              0.267714   0.805970  \n",
       "Med_Keywords_Count   2.000000  16.000000  \n",
       "Employment_Info_1    0.100000   1.000000  \n",
       "Employment_Info_4    0.000000   1.000000  \n",
       "Employment_Info_6    0.500000   1.000000  \n",
       "Insurance_History_5  0.001733   1.000000  \n",
       "Family_Hist_2        0.474550   1.000000  \n",
       "Family_Hist_3        0.497737   1.000000  \n",
       "Family_Hist_4        0.492958   0.943662  \n",
       "Family_Hist_5        0.484635   1.000000  "
      ]
     },
     "execution_count": 15,
     "metadata": {},
     "output_type": "execute_result"
    }
   ],
   "source": [
    "df[L].describe().transpose()"
   ]
  },
  {
   "cell_type": "code",
   "execution_count": 16,
   "metadata": {
    "collapsed": false
   },
   "outputs": [],
   "source": [
    "X = df[L].as_matrix()\n",
    "Y = df['Response'].as_matrix()"
   ]
  },
  {
   "cell_type": "code",
   "execution_count": 17,
   "metadata": {
    "collapsed": false
   },
   "outputs": [
    {
     "data": {
      "text/plain": [
       "LogisticRegression(C=100000.0, class_weight=None, dual=False,\n",
       "          fit_intercept=True, intercept_scaling=1, max_iter=100,\n",
       "          multi_class='ovr', n_jobs=1, penalty='l2', random_state=None,\n",
       "          solver='liblinear', tol=0.0001, verbose=0, warm_start=False)"
      ]
     },
     "execution_count": 17,
     "metadata": {},
     "output_type": "execute_result"
    }
   ],
   "source": [
    "logreg = LogisticRegression(C=1e5)\n",
    "logreg.fit(X, Y)"
   ]
  },
  {
   "cell_type": "code",
   "execution_count": 18,
   "metadata": {
    "collapsed": false
   },
   "outputs": [
    {
     "data": {
      "text/plain": [
       "0.42387295599602565"
      ]
     },
     "execution_count": 18,
     "metadata": {},
     "output_type": "execute_result"
    }
   ],
   "source": [
    "# WARNING : check how Logistic handles more than 2 classes\n",
    "len( [1 for y, ym in zip(Y, logreg.predict(X)) if y==ym] ) / float(len(Y))"
   ]
  },
  {
   "cell_type": "code",
   "execution_count": 19,
   "metadata": {
    "collapsed": false
   },
   "outputs": [
    {
     "data": {
      "text/plain": [
       "KNeighborsClassifier(algorithm='auto', leaf_size=30, metric='minkowski',\n",
       "           metric_params=None, n_jobs=1, n_neighbors=5, p=2,\n",
       "           weights='uniform')"
      ]
     },
     "execution_count": 19,
     "metadata": {},
     "output_type": "execute_result"
    }
   ],
   "source": [
    "knn = KNeighborsClassifier()\n",
    "knn.fit(X, Y) "
   ]
  },
  {
   "cell_type": "code",
   "execution_count": 20,
   "metadata": {
    "collapsed": false
   },
   "outputs": [
    {
     "data": {
      "text/plain": [
       "0.5600444586652297"
      ]
     },
     "execution_count": 20,
     "metadata": {},
     "output_type": "execute_result"
    }
   ],
   "source": [
    "len( [1 for y, ym in zip(Y, knn.predict(X)) if y==ym] ) / float(len(Y))"
   ]
  },
  {
   "cell_type": "code",
   "execution_count": 21,
   "metadata": {
    "collapsed": false
   },
   "outputs": [
    {
     "name": "stdout",
     "output_type": "stream",
     "text": [
      "[  1.18717250e+04   7.16825284e+02   6.06691775e+02   4.85966874e+02\n",
      "   4.04887633e+02   3.46416302e+02   1.43154971e+02   4.10930796e+01\n",
      "   3.18766690e+01   1.62815912e+01   1.39388607e+01   1.12703663e+01\n",
      "   2.33509673e+00   1.00745802e+00   5.66677733e-01]\n"
     ]
    }
   ],
   "source": [
    "c2val, c2prob = chi2(X, Y)\n",
    "c2val.sort()\n",
    "c2val = np.fliplr([c2val])[0]\n",
    "print c2val"
   ]
  },
  {
   "cell_type": "code",
   "execution_count": 22,
   "metadata": {
    "collapsed": false
   },
   "outputs": [
    {
     "name": "stdout",
     "output_type": "stream",
     "text": [
      "(59381, 15)\n",
      "(59381, 2)\n"
     ]
    }
   ],
   "source": [
    "print X.shape\n",
    "X_new = SelectKBest(chi2, k=2).fit_transform(X, Y)\n",
    "print X_new.shape"
   ]
  },
  {
   "cell_type": "markdown",
   "metadata": {},
   "source": [
    "### Turn categorical variables into dummies with OneHotEncoding\n",
    "\n",
    "List of variables:\n",
    "\n",
    "Product_Info_1, Product_Info_2, Product_Info_3, Product_Info_5, Product_Info_6, Product_Info_7,\n",
    "Employment_Info_2, Employment_Info_3, Employment_Info_5, InsuredInfo_1, InsuredInfo_2, InsuredInfo_3,\n",
    "InsuredInfo_4, InsuredInfo_5, InsuredInfo_6, InsuredInfo_7,\n",
    "Insurance_History_1, Insurance_History_2, Insurance_History_3, Insurance_History_4, Insurance_History_7,\n",
    "Insurance_History_8, Insurance_History_9,\n",
    "Family_Hist_1,\n",
    "Medical_History_2, Medical_History_3, Medical_History_4, Medical_History_5, Medical_History_6, Medical_History_7,\n",
    "Medical_History_8, Medical_History_9, Medical_History_11, Medical_History_12, Medical_History_13,\n",
    "Medical_History_14, Medical_History_16, Medical_History_17, Medical_History_18, Medical_History_19,\n",
    "Medical_History_20, Medical_History_21, Medical_History_22, Medical_History_23, Medical_History_25,\n",
    "Medical_History_26, Medical_History_27, Medical_History_28, Medical_History_29, Medical_History_30,\n",
    "Medical_History_31, Medical_History_33, Medical_History_34, Medical_History_35, Medical_History_36,\n",
    "Medical_History_37, Medical_History_38, Medical_History_39, Medical_History_40, Medical_History_41\n"
   ]
  },
  {
   "cell_type": "code",
   "execution_count": 23,
   "metadata": {
    "collapsed": false
   },
   "outputs": [
    {
     "name": "stdout",
     "output_type": "stream",
     "text": [
      "['Product_Info_1', 'Product_Info_2', 'Product_Info_3', 'Product_Info_5', 'Product_Info_6', 'Product_Info_7', 'Employment_Info_2', 'Employment_Info_3', 'Employment_Info_5', 'InsuredInfo_1']\n"
     ]
    }
   ],
   "source": [
    "catstring = 'Product_Info_1, Product_Info_2, Product_Info_3, Product_Info_5, Product_Info_6, Product_Info_7, '\n",
    "catstring+= 'Employment_Info_2, Employment_Info_3, Employment_Info_5, '\n",
    "catstring+= 'InsuredInfo_1, InsuredInfo_2, InsuredInfo_3, InsuredInfo_4, InsuredInfo_5, InsuredInfo_6, InsuredInfo_7, '\n",
    "catstring+= 'Insurance_History_1, Insurance_History_2, Insurance_History_3, Insurance_History_4, Insurance_History_7, '\n",
    "catstring+= 'Insurance_History_8, Insurance_History_9, '\n",
    "catstring+= 'Family_Hist_1, '\n",
    "catstring+= 'Medical_History_2, Medical_History_3, Medical_History_4, Medical_History_5, Medical_History_6, '\n",
    "catstring+= 'Medical_History_7, Medical_History_8, Medical_History_9, Medical_History_11, Medical_History_12, '\n",
    "catstring+= 'Medical_History_13, Medical_History_14, Medical_History_16, Medical_History_17, Medical_History_18, '\n",
    "catstring+= 'Medical_History_19, Medical_History_20, Medical_History_21, Medical_History_22, Medical_History_23, '\n",
    "catstring+= 'Medical_History_25, Medical_History_26, Medical_History_27, Medical_History_28, Medical_History_29, '\n",
    "catstring+= 'Medical_History_30, Medical_History_31, Medical_History_33, Medical_History_34, Medical_History_35, '\n",
    "catstring+= 'Medical_History_36, Medical_History_37, Medical_History_38, Medical_History_39, Medical_History_40, '\n",
    "catstring+= 'Medical_History_41'\n",
    "categories = catstring.replace(' ','').split(',')\n",
    "print categories[0:10]"
   ]
  },
  {
   "cell_type": "code",
   "execution_count": 24,
   "metadata": {
    "collapsed": false
   },
   "outputs": [
    {
     "data": {
      "text/html": [
       "<div>\n",
       "<table border=\"1\" class=\"dataframe\">\n",
       "  <thead>\n",
       "    <tr style=\"text-align: right;\">\n",
       "      <th></th>\n",
       "      <th>count</th>\n",
       "      <th>mean</th>\n",
       "      <th>std</th>\n",
       "      <th>min</th>\n",
       "      <th>25%</th>\n",
       "      <th>50%</th>\n",
       "      <th>75%</th>\n",
       "      <th>max</th>\n",
       "    </tr>\n",
       "  </thead>\n",
       "  <tbody>\n",
       "    <tr>\n",
       "      <th>Product_Info_1</th>\n",
       "      <td>59381</td>\n",
       "      <td>1.026355</td>\n",
       "      <td>0.160191</td>\n",
       "      <td>1</td>\n",
       "      <td>1</td>\n",
       "      <td>1</td>\n",
       "      <td>1</td>\n",
       "      <td>2</td>\n",
       "    </tr>\n",
       "    <tr>\n",
       "      <th>Product_Info_3</th>\n",
       "      <td>59381</td>\n",
       "      <td>24.415655</td>\n",
       "      <td>5.072885</td>\n",
       "      <td>1</td>\n",
       "      <td>26</td>\n",
       "      <td>26</td>\n",
       "      <td>26</td>\n",
       "      <td>38</td>\n",
       "    </tr>\n",
       "    <tr>\n",
       "      <th>Product_Info_5</th>\n",
       "      <td>59381</td>\n",
       "      <td>2.006955</td>\n",
       "      <td>0.083107</td>\n",
       "      <td>2</td>\n",
       "      <td>2</td>\n",
       "      <td>2</td>\n",
       "      <td>2</td>\n",
       "      <td>3</td>\n",
       "    </tr>\n",
       "    <tr>\n",
       "      <th>Product_Info_6</th>\n",
       "      <td>59381</td>\n",
       "      <td>2.673599</td>\n",
       "      <td>0.739103</td>\n",
       "      <td>1</td>\n",
       "      <td>3</td>\n",
       "      <td>3</td>\n",
       "      <td>3</td>\n",
       "      <td>3</td>\n",
       "    </tr>\n",
       "    <tr>\n",
       "      <th>Product_Info_7</th>\n",
       "      <td>59381</td>\n",
       "      <td>1.043583</td>\n",
       "      <td>0.291949</td>\n",
       "      <td>1</td>\n",
       "      <td>1</td>\n",
       "      <td>1</td>\n",
       "      <td>1</td>\n",
       "      <td>3</td>\n",
       "    </tr>\n",
       "    <tr>\n",
       "      <th>Employment_Info_2</th>\n",
       "      <td>59381</td>\n",
       "      <td>8.641821</td>\n",
       "      <td>4.227082</td>\n",
       "      <td>1</td>\n",
       "      <td>9</td>\n",
       "      <td>9</td>\n",
       "      <td>9</td>\n",
       "      <td>38</td>\n",
       "    </tr>\n",
       "    <tr>\n",
       "      <th>Employment_Info_3</th>\n",
       "      <td>59381</td>\n",
       "      <td>1.300904</td>\n",
       "      <td>0.715034</td>\n",
       "      <td>1</td>\n",
       "      <td>1</td>\n",
       "      <td>1</td>\n",
       "      <td>1</td>\n",
       "      <td>3</td>\n",
       "    </tr>\n",
       "    <tr>\n",
       "      <th>Employment_Info_5</th>\n",
       "      <td>59381</td>\n",
       "      <td>2.142958</td>\n",
       "      <td>0.350033</td>\n",
       "      <td>2</td>\n",
       "      <td>2</td>\n",
       "      <td>2</td>\n",
       "      <td>2</td>\n",
       "      <td>3</td>\n",
       "    </tr>\n",
       "    <tr>\n",
       "      <th>InsuredInfo_1</th>\n",
       "      <td>59381</td>\n",
       "      <td>1.209326</td>\n",
       "      <td>0.417939</td>\n",
       "      <td>1</td>\n",
       "      <td>1</td>\n",
       "      <td>1</td>\n",
       "      <td>1</td>\n",
       "      <td>3</td>\n",
       "    </tr>\n",
       "    <tr>\n",
       "      <th>InsuredInfo_2</th>\n",
       "      <td>59381</td>\n",
       "      <td>2.007427</td>\n",
       "      <td>0.085858</td>\n",
       "      <td>2</td>\n",
       "      <td>2</td>\n",
       "      <td>2</td>\n",
       "      <td>2</td>\n",
       "      <td>3</td>\n",
       "    </tr>\n",
       "    <tr>\n",
       "      <th>InsuredInfo_3</th>\n",
       "      <td>59381</td>\n",
       "      <td>5.835840</td>\n",
       "      <td>2.674536</td>\n",
       "      <td>1</td>\n",
       "      <td>3</td>\n",
       "      <td>6</td>\n",
       "      <td>8</td>\n",
       "      <td>11</td>\n",
       "    </tr>\n",
       "    <tr>\n",
       "      <th>InsuredInfo_4</th>\n",
       "      <td>59381</td>\n",
       "      <td>2.883666</td>\n",
       "      <td>0.320627</td>\n",
       "      <td>2</td>\n",
       "      <td>3</td>\n",
       "      <td>3</td>\n",
       "      <td>3</td>\n",
       "      <td>3</td>\n",
       "    </tr>\n",
       "    <tr>\n",
       "      <th>InsuredInfo_5</th>\n",
       "      <td>59381</td>\n",
       "      <td>1.027180</td>\n",
       "      <td>0.231566</td>\n",
       "      <td>1</td>\n",
       "      <td>1</td>\n",
       "      <td>1</td>\n",
       "      <td>1</td>\n",
       "      <td>3</td>\n",
       "    </tr>\n",
       "    <tr>\n",
       "      <th>InsuredInfo_6</th>\n",
       "      <td>59381</td>\n",
       "      <td>1.409188</td>\n",
       "      <td>0.491688</td>\n",
       "      <td>1</td>\n",
       "      <td>1</td>\n",
       "      <td>1</td>\n",
       "      <td>2</td>\n",
       "      <td>2</td>\n",
       "    </tr>\n",
       "    <tr>\n",
       "      <th>InsuredInfo_7</th>\n",
       "      <td>59381</td>\n",
       "      <td>1.038531</td>\n",
       "      <td>0.274915</td>\n",
       "      <td>1</td>\n",
       "      <td>1</td>\n",
       "      <td>1</td>\n",
       "      <td>1</td>\n",
       "      <td>3</td>\n",
       "    </tr>\n",
       "    <tr>\n",
       "      <th>Insurance_History_1</th>\n",
       "      <td>59381</td>\n",
       "      <td>1.727606</td>\n",
       "      <td>0.445195</td>\n",
       "      <td>1</td>\n",
       "      <td>1</td>\n",
       "      <td>2</td>\n",
       "      <td>2</td>\n",
       "      <td>2</td>\n",
       "    </tr>\n",
       "    <tr>\n",
       "      <th>Insurance_History_2</th>\n",
       "      <td>59381</td>\n",
       "      <td>1.055792</td>\n",
       "      <td>0.329328</td>\n",
       "      <td>1</td>\n",
       "      <td>1</td>\n",
       "      <td>1</td>\n",
       "      <td>1</td>\n",
       "      <td>3</td>\n",
       "    </tr>\n",
       "    <tr>\n",
       "      <th>Insurance_History_3</th>\n",
       "      <td>59381</td>\n",
       "      <td>2.146983</td>\n",
       "      <td>0.989139</td>\n",
       "      <td>1</td>\n",
       "      <td>1</td>\n",
       "      <td>3</td>\n",
       "      <td>3</td>\n",
       "      <td>3</td>\n",
       "    </tr>\n",
       "    <tr>\n",
       "      <th>Insurance_History_4</th>\n",
       "      <td>59381</td>\n",
       "      <td>1.958707</td>\n",
       "      <td>0.945739</td>\n",
       "      <td>1</td>\n",
       "      <td>1</td>\n",
       "      <td>2</td>\n",
       "      <td>3</td>\n",
       "      <td>3</td>\n",
       "    </tr>\n",
       "    <tr>\n",
       "      <th>Insurance_History_7</th>\n",
       "      <td>59381</td>\n",
       "      <td>1.901989</td>\n",
       "      <td>0.971223</td>\n",
       "      <td>1</td>\n",
       "      <td>1</td>\n",
       "      <td>1</td>\n",
       "      <td>3</td>\n",
       "      <td>3</td>\n",
       "    </tr>\n",
       "    <tr>\n",
       "      <th>Insurance_History_8</th>\n",
       "      <td>59381</td>\n",
       "      <td>2.048484</td>\n",
       "      <td>0.755149</td>\n",
       "      <td>1</td>\n",
       "      <td>1</td>\n",
       "      <td>2</td>\n",
       "      <td>3</td>\n",
       "      <td>3</td>\n",
       "    </tr>\n",
       "    <tr>\n",
       "      <th>Insurance_History_9</th>\n",
       "      <td>59381</td>\n",
       "      <td>2.419360</td>\n",
       "      <td>0.509577</td>\n",
       "      <td>1</td>\n",
       "      <td>2</td>\n",
       "      <td>2</td>\n",
       "      <td>3</td>\n",
       "      <td>3</td>\n",
       "    </tr>\n",
       "    <tr>\n",
       "      <th>Family_Hist_1</th>\n",
       "      <td>59381</td>\n",
       "      <td>2.686230</td>\n",
       "      <td>0.483159</td>\n",
       "      <td>1</td>\n",
       "      <td>2</td>\n",
       "      <td>3</td>\n",
       "      <td>3</td>\n",
       "      <td>3</td>\n",
       "    </tr>\n",
       "    <tr>\n",
       "      <th>Medical_History_2</th>\n",
       "      <td>59381</td>\n",
       "      <td>253.987100</td>\n",
       "      <td>178.621154</td>\n",
       "      <td>1</td>\n",
       "      <td>112</td>\n",
       "      <td>162</td>\n",
       "      <td>418</td>\n",
       "      <td>648</td>\n",
       "    </tr>\n",
       "    <tr>\n",
       "      <th>Medical_History_3</th>\n",
       "      <td>59381</td>\n",
       "      <td>2.102171</td>\n",
       "      <td>0.303098</td>\n",
       "      <td>1</td>\n",
       "      <td>2</td>\n",
       "      <td>2</td>\n",
       "      <td>2</td>\n",
       "      <td>3</td>\n",
       "    </tr>\n",
       "    <tr>\n",
       "      <th>Medical_History_4</th>\n",
       "      <td>59381</td>\n",
       "      <td>1.654873</td>\n",
       "      <td>0.475414</td>\n",
       "      <td>1</td>\n",
       "      <td>1</td>\n",
       "      <td>2</td>\n",
       "      <td>2</td>\n",
       "      <td>2</td>\n",
       "    </tr>\n",
       "    <tr>\n",
       "      <th>Medical_History_5</th>\n",
       "      <td>59381</td>\n",
       "      <td>1.007359</td>\n",
       "      <td>0.085864</td>\n",
       "      <td>1</td>\n",
       "      <td>1</td>\n",
       "      <td>1</td>\n",
       "      <td>1</td>\n",
       "      <td>3</td>\n",
       "    </tr>\n",
       "    <tr>\n",
       "      <th>Medical_History_6</th>\n",
       "      <td>59381</td>\n",
       "      <td>2.889897</td>\n",
       "      <td>0.456128</td>\n",
       "      <td>1</td>\n",
       "      <td>3</td>\n",
       "      <td>3</td>\n",
       "      <td>3</td>\n",
       "      <td>3</td>\n",
       "    </tr>\n",
       "    <tr>\n",
       "      <th>Medical_History_7</th>\n",
       "      <td>59381</td>\n",
       "      <td>2.012277</td>\n",
       "      <td>0.172360</td>\n",
       "      <td>1</td>\n",
       "      <td>2</td>\n",
       "      <td>2</td>\n",
       "      <td>2</td>\n",
       "      <td>3</td>\n",
       "    </tr>\n",
       "    <tr>\n",
       "      <th>Medical_History_8</th>\n",
       "      <td>59381</td>\n",
       "      <td>2.044088</td>\n",
       "      <td>0.291353</td>\n",
       "      <td>1</td>\n",
       "      <td>2</td>\n",
       "      <td>2</td>\n",
       "      <td>2</td>\n",
       "      <td>3</td>\n",
       "    </tr>\n",
       "    <tr>\n",
       "      <th>Medical_History_9</th>\n",
       "      <td>59381</td>\n",
       "      <td>1.769943</td>\n",
       "      <td>0.421032</td>\n",
       "      <td>1</td>\n",
       "      <td>2</td>\n",
       "      <td>2</td>\n",
       "      <td>2</td>\n",
       "      <td>3</td>\n",
       "    </tr>\n",
       "    <tr>\n",
       "      <th>Medical_History_11</th>\n",
       "      <td>59381</td>\n",
       "      <td>2.993836</td>\n",
       "      <td>0.095340</td>\n",
       "      <td>1</td>\n",
       "      <td>3</td>\n",
       "      <td>3</td>\n",
       "      <td>3</td>\n",
       "      <td>3</td>\n",
       "    </tr>\n",
       "    <tr>\n",
       "      <th>Medical_History_12</th>\n",
       "      <td>59381</td>\n",
       "      <td>2.056601</td>\n",
       "      <td>0.231153</td>\n",
       "      <td>1</td>\n",
       "      <td>2</td>\n",
       "      <td>2</td>\n",
       "      <td>2</td>\n",
       "      <td>3</td>\n",
       "    </tr>\n",
       "    <tr>\n",
       "      <th>Medical_History_13</th>\n",
       "      <td>59381</td>\n",
       "      <td>2.768141</td>\n",
       "      <td>0.640259</td>\n",
       "      <td>1</td>\n",
       "      <td>3</td>\n",
       "      <td>3</td>\n",
       "      <td>3</td>\n",
       "      <td>3</td>\n",
       "    </tr>\n",
       "    <tr>\n",
       "      <th>Medical_History_14</th>\n",
       "      <td>59381</td>\n",
       "      <td>2.968542</td>\n",
       "      <td>0.197715</td>\n",
       "      <td>1</td>\n",
       "      <td>3</td>\n",
       "      <td>3</td>\n",
       "      <td>3</td>\n",
       "      <td>3</td>\n",
       "    </tr>\n",
       "    <tr>\n",
       "      <th>Medical_History_16</th>\n",
       "      <td>59381</td>\n",
       "      <td>1.327529</td>\n",
       "      <td>0.740118</td>\n",
       "      <td>1</td>\n",
       "      <td>1</td>\n",
       "      <td>1</td>\n",
       "      <td>1</td>\n",
       "      <td>3</td>\n",
       "    </tr>\n",
       "    <tr>\n",
       "      <th>Medical_History_17</th>\n",
       "      <td>59381</td>\n",
       "      <td>2.978006</td>\n",
       "      <td>0.146778</td>\n",
       "      <td>1</td>\n",
       "      <td>3</td>\n",
       "      <td>3</td>\n",
       "      <td>3</td>\n",
       "      <td>3</td>\n",
       "    </tr>\n",
       "    <tr>\n",
       "      <th>Medical_History_18</th>\n",
       "      <td>59381</td>\n",
       "      <td>1.053536</td>\n",
       "      <td>0.225848</td>\n",
       "      <td>1</td>\n",
       "      <td>1</td>\n",
       "      <td>1</td>\n",
       "      <td>1</td>\n",
       "      <td>3</td>\n",
       "    </tr>\n",
       "    <tr>\n",
       "      <th>Medical_History_19</th>\n",
       "      <td>59381</td>\n",
       "      <td>1.034455</td>\n",
       "      <td>0.182859</td>\n",
       "      <td>1</td>\n",
       "      <td>1</td>\n",
       "      <td>1</td>\n",
       "      <td>1</td>\n",
       "      <td>3</td>\n",
       "    </tr>\n",
       "    <tr>\n",
       "      <th>Medical_History_20</th>\n",
       "      <td>59381</td>\n",
       "      <td>1.985079</td>\n",
       "      <td>0.121375</td>\n",
       "      <td>1</td>\n",
       "      <td>2</td>\n",
       "      <td>2</td>\n",
       "      <td>2</td>\n",
       "      <td>3</td>\n",
       "    </tr>\n",
       "    <tr>\n",
       "      <th>Medical_History_21</th>\n",
       "      <td>59381</td>\n",
       "      <td>1.108991</td>\n",
       "      <td>0.311847</td>\n",
       "      <td>1</td>\n",
       "      <td>1</td>\n",
       "      <td>1</td>\n",
       "      <td>1</td>\n",
       "      <td>3</td>\n",
       "    </tr>\n",
       "    <tr>\n",
       "      <th>Medical_History_22</th>\n",
       "      <td>59381</td>\n",
       "      <td>1.981644</td>\n",
       "      <td>0.134236</td>\n",
       "      <td>1</td>\n",
       "      <td>2</td>\n",
       "      <td>2</td>\n",
       "      <td>2</td>\n",
       "      <td>2</td>\n",
       "    </tr>\n",
       "    <tr>\n",
       "      <th>Medical_History_23</th>\n",
       "      <td>59381</td>\n",
       "      <td>2.528115</td>\n",
       "      <td>0.849170</td>\n",
       "      <td>1</td>\n",
       "      <td>3</td>\n",
       "      <td>3</td>\n",
       "      <td>3</td>\n",
       "      <td>3</td>\n",
       "    </tr>\n",
       "    <tr>\n",
       "      <th>Medical_History_25</th>\n",
       "      <td>59381</td>\n",
       "      <td>1.194961</td>\n",
       "      <td>0.406082</td>\n",
       "      <td>1</td>\n",
       "      <td>1</td>\n",
       "      <td>1</td>\n",
       "      <td>1</td>\n",
       "      <td>3</td>\n",
       "    </tr>\n",
       "    <tr>\n",
       "      <th>Medical_History_26</th>\n",
       "      <td>59381</td>\n",
       "      <td>2.808979</td>\n",
       "      <td>0.393237</td>\n",
       "      <td>1</td>\n",
       "      <td>3</td>\n",
       "      <td>3</td>\n",
       "      <td>3</td>\n",
       "      <td>3</td>\n",
       "    </tr>\n",
       "    <tr>\n",
       "      <th>Medical_History_27</th>\n",
       "      <td>59381</td>\n",
       "      <td>2.980213</td>\n",
       "      <td>0.197652</td>\n",
       "      <td>1</td>\n",
       "      <td>3</td>\n",
       "      <td>3</td>\n",
       "      <td>3</td>\n",
       "      <td>3</td>\n",
       "    </tr>\n",
       "    <tr>\n",
       "      <th>Medical_History_28</th>\n",
       "      <td>59381</td>\n",
       "      <td>1.067210</td>\n",
       "      <td>0.250589</td>\n",
       "      <td>1</td>\n",
       "      <td>1</td>\n",
       "      <td>1</td>\n",
       "      <td>1</td>\n",
       "      <td>3</td>\n",
       "    </tr>\n",
       "    <tr>\n",
       "      <th>Medical_History_29</th>\n",
       "      <td>59381</td>\n",
       "      <td>2.542699</td>\n",
       "      <td>0.839904</td>\n",
       "      <td>1</td>\n",
       "      <td>3</td>\n",
       "      <td>3</td>\n",
       "      <td>3</td>\n",
       "      <td>3</td>\n",
       "    </tr>\n",
       "    <tr>\n",
       "      <th>Medical_History_30</th>\n",
       "      <td>59381</td>\n",
       "      <td>2.040771</td>\n",
       "      <td>0.198100</td>\n",
       "      <td>1</td>\n",
       "      <td>2</td>\n",
       "      <td>2</td>\n",
       "      <td>2</td>\n",
       "      <td>3</td>\n",
       "    </tr>\n",
       "    <tr>\n",
       "      <th>Medical_History_31</th>\n",
       "      <td>59381</td>\n",
       "      <td>2.985265</td>\n",
       "      <td>0.170989</td>\n",
       "      <td>1</td>\n",
       "      <td>3</td>\n",
       "      <td>3</td>\n",
       "      <td>3</td>\n",
       "      <td>3</td>\n",
       "    </tr>\n",
       "    <tr>\n",
       "      <th>Medical_History_33</th>\n",
       "      <td>59381</td>\n",
       "      <td>2.804618</td>\n",
       "      <td>0.593798</td>\n",
       "      <td>1</td>\n",
       "      <td>3</td>\n",
       "      <td>3</td>\n",
       "      <td>3</td>\n",
       "      <td>3</td>\n",
       "    </tr>\n",
       "    <tr>\n",
       "      <th>Medical_History_34</th>\n",
       "      <td>59381</td>\n",
       "      <td>2.689076</td>\n",
       "      <td>0.724661</td>\n",
       "      <td>1</td>\n",
       "      <td>3</td>\n",
       "      <td>3</td>\n",
       "      <td>3</td>\n",
       "      <td>3</td>\n",
       "    </tr>\n",
       "    <tr>\n",
       "      <th>Medical_History_35</th>\n",
       "      <td>59381</td>\n",
       "      <td>1.002055</td>\n",
       "      <td>0.063806</td>\n",
       "      <td>1</td>\n",
       "      <td>1</td>\n",
       "      <td>1</td>\n",
       "      <td>1</td>\n",
       "      <td>3</td>\n",
       "    </tr>\n",
       "    <tr>\n",
       "      <th>Medical_History_36</th>\n",
       "      <td>59381</td>\n",
       "      <td>2.179468</td>\n",
       "      <td>0.412633</td>\n",
       "      <td>1</td>\n",
       "      <td>2</td>\n",
       "      <td>2</td>\n",
       "      <td>2</td>\n",
       "      <td>3</td>\n",
       "    </tr>\n",
       "    <tr>\n",
       "      <th>Medical_History_37</th>\n",
       "      <td>59381</td>\n",
       "      <td>1.938398</td>\n",
       "      <td>0.240574</td>\n",
       "      <td>1</td>\n",
       "      <td>2</td>\n",
       "      <td>2</td>\n",
       "      <td>2</td>\n",
       "      <td>3</td>\n",
       "    </tr>\n",
       "    <tr>\n",
       "      <th>Medical_History_38</th>\n",
       "      <td>59381</td>\n",
       "      <td>1.004850</td>\n",
       "      <td>0.069474</td>\n",
       "      <td>1</td>\n",
       "      <td>1</td>\n",
       "      <td>1</td>\n",
       "      <td>1</td>\n",
       "      <td>2</td>\n",
       "    </tr>\n",
       "    <tr>\n",
       "      <th>Medical_History_39</th>\n",
       "      <td>59381</td>\n",
       "      <td>2.830720</td>\n",
       "      <td>0.556665</td>\n",
       "      <td>1</td>\n",
       "      <td>3</td>\n",
       "      <td>3</td>\n",
       "      <td>3</td>\n",
       "      <td>3</td>\n",
       "    </tr>\n",
       "    <tr>\n",
       "      <th>Medical_History_40</th>\n",
       "      <td>59381</td>\n",
       "      <td>2.967599</td>\n",
       "      <td>0.252427</td>\n",
       "      <td>1</td>\n",
       "      <td>3</td>\n",
       "      <td>3</td>\n",
       "      <td>3</td>\n",
       "      <td>3</td>\n",
       "    </tr>\n",
       "    <tr>\n",
       "      <th>Medical_History_41</th>\n",
       "      <td>59381</td>\n",
       "      <td>1.641064</td>\n",
       "      <td>0.933361</td>\n",
       "      <td>1</td>\n",
       "      <td>1</td>\n",
       "      <td>1</td>\n",
       "      <td>3</td>\n",
       "      <td>3</td>\n",
       "    </tr>\n",
       "  </tbody>\n",
       "</table>\n",
       "</div>"
      ],
      "text/plain": [
       "                     count        mean         std  min  25%  50%  75%  max\n",
       "Product_Info_1       59381    1.026355    0.160191    1    1    1    1    2\n",
       "Product_Info_3       59381   24.415655    5.072885    1   26   26   26   38\n",
       "Product_Info_5       59381    2.006955    0.083107    2    2    2    2    3\n",
       "Product_Info_6       59381    2.673599    0.739103    1    3    3    3    3\n",
       "Product_Info_7       59381    1.043583    0.291949    1    1    1    1    3\n",
       "Employment_Info_2    59381    8.641821    4.227082    1    9    9    9   38\n",
       "Employment_Info_3    59381    1.300904    0.715034    1    1    1    1    3\n",
       "Employment_Info_5    59381    2.142958    0.350033    2    2    2    2    3\n",
       "InsuredInfo_1        59381    1.209326    0.417939    1    1    1    1    3\n",
       "InsuredInfo_2        59381    2.007427    0.085858    2    2    2    2    3\n",
       "InsuredInfo_3        59381    5.835840    2.674536    1    3    6    8   11\n",
       "InsuredInfo_4        59381    2.883666    0.320627    2    3    3    3    3\n",
       "InsuredInfo_5        59381    1.027180    0.231566    1    1    1    1    3\n",
       "InsuredInfo_6        59381    1.409188    0.491688    1    1    1    2    2\n",
       "InsuredInfo_7        59381    1.038531    0.274915    1    1    1    1    3\n",
       "Insurance_History_1  59381    1.727606    0.445195    1    1    2    2    2\n",
       "Insurance_History_2  59381    1.055792    0.329328    1    1    1    1    3\n",
       "Insurance_History_3  59381    2.146983    0.989139    1    1    3    3    3\n",
       "Insurance_History_4  59381    1.958707    0.945739    1    1    2    3    3\n",
       "Insurance_History_7  59381    1.901989    0.971223    1    1    1    3    3\n",
       "Insurance_History_8  59381    2.048484    0.755149    1    1    2    3    3\n",
       "Insurance_History_9  59381    2.419360    0.509577    1    2    2    3    3\n",
       "Family_Hist_1        59381    2.686230    0.483159    1    2    3    3    3\n",
       "Medical_History_2    59381  253.987100  178.621154    1  112  162  418  648\n",
       "Medical_History_3    59381    2.102171    0.303098    1    2    2    2    3\n",
       "Medical_History_4    59381    1.654873    0.475414    1    1    2    2    2\n",
       "Medical_History_5    59381    1.007359    0.085864    1    1    1    1    3\n",
       "Medical_History_6    59381    2.889897    0.456128    1    3    3    3    3\n",
       "Medical_History_7    59381    2.012277    0.172360    1    2    2    2    3\n",
       "Medical_History_8    59381    2.044088    0.291353    1    2    2    2    3\n",
       "Medical_History_9    59381    1.769943    0.421032    1    2    2    2    3\n",
       "Medical_History_11   59381    2.993836    0.095340    1    3    3    3    3\n",
       "Medical_History_12   59381    2.056601    0.231153    1    2    2    2    3\n",
       "Medical_History_13   59381    2.768141    0.640259    1    3    3    3    3\n",
       "Medical_History_14   59381    2.968542    0.197715    1    3    3    3    3\n",
       "Medical_History_16   59381    1.327529    0.740118    1    1    1    1    3\n",
       "Medical_History_17   59381    2.978006    0.146778    1    3    3    3    3\n",
       "Medical_History_18   59381    1.053536    0.225848    1    1    1    1    3\n",
       "Medical_History_19   59381    1.034455    0.182859    1    1    1    1    3\n",
       "Medical_History_20   59381    1.985079    0.121375    1    2    2    2    3\n",
       "Medical_History_21   59381    1.108991    0.311847    1    1    1    1    3\n",
       "Medical_History_22   59381    1.981644    0.134236    1    2    2    2    2\n",
       "Medical_History_23   59381    2.528115    0.849170    1    3    3    3    3\n",
       "Medical_History_25   59381    1.194961    0.406082    1    1    1    1    3\n",
       "Medical_History_26   59381    2.808979    0.393237    1    3    3    3    3\n",
       "Medical_History_27   59381    2.980213    0.197652    1    3    3    3    3\n",
       "Medical_History_28   59381    1.067210    0.250589    1    1    1    1    3\n",
       "Medical_History_29   59381    2.542699    0.839904    1    3    3    3    3\n",
       "Medical_History_30   59381    2.040771    0.198100    1    2    2    2    3\n",
       "Medical_History_31   59381    2.985265    0.170989    1    3    3    3    3\n",
       "Medical_History_33   59381    2.804618    0.593798    1    3    3    3    3\n",
       "Medical_History_34   59381    2.689076    0.724661    1    3    3    3    3\n",
       "Medical_History_35   59381    1.002055    0.063806    1    1    1    1    3\n",
       "Medical_History_36   59381    2.179468    0.412633    1    2    2    2    3\n",
       "Medical_History_37   59381    1.938398    0.240574    1    2    2    2    3\n",
       "Medical_History_38   59381    1.004850    0.069474    1    1    1    1    2\n",
       "Medical_History_39   59381    2.830720    0.556665    1    3    3    3    3\n",
       "Medical_History_40   59381    2.967599    0.252427    1    3    3    3    3\n",
       "Medical_History_41   59381    1.641064    0.933361    1    1    1    3    3"
      ]
     },
     "execution_count": 24,
     "metadata": {},
     "output_type": "execute_result"
    }
   ],
   "source": [
    "df[categories].describe().transpose()"
   ]
  },
  {
   "cell_type": "markdown",
   "metadata": {},
   "source": [
    "### WARNING : Product_Info_2 is not numeric"
   ]
  },
  {
   "cell_type": "code",
   "execution_count": 25,
   "metadata": {
    "collapsed": false
   },
   "outputs": [
    {
     "name": "stdout",
     "output_type": "stream",
     "text": [
      "Product_Info_2    59381\n",
      "dtype: int64\n"
     ]
    },
    {
     "data": {
      "text/html": [
       "<div>\n",
       "<table border=\"1\" class=\"dataframe\">\n",
       "  <thead>\n",
       "    <tr style=\"text-align: right;\">\n",
       "      <th></th>\n",
       "      <th>Product_Info_2</th>\n",
       "    </tr>\n",
       "  </thead>\n",
       "  <tbody>\n",
       "    <tr>\n",
       "      <th>55857</th>\n",
       "      <td>D4</td>\n",
       "    </tr>\n",
       "    <tr>\n",
       "      <th>7958</th>\n",
       "      <td>B2</td>\n",
       "    </tr>\n",
       "    <tr>\n",
       "      <th>32651</th>\n",
       "      <td>D3</td>\n",
       "    </tr>\n",
       "    <tr>\n",
       "      <th>7293</th>\n",
       "      <td>D3</td>\n",
       "    </tr>\n",
       "    <tr>\n",
       "      <th>7342</th>\n",
       "      <td>D3</td>\n",
       "    </tr>\n",
       "  </tbody>\n",
       "</table>\n",
       "</div>"
      ],
      "text/plain": [
       "      Product_Info_2\n",
       "55857             D4\n",
       "7958              B2\n",
       "32651             D3\n",
       "7293              D3\n",
       "7342              D3"
      ]
     },
     "execution_count": 25,
     "metadata": {},
     "output_type": "execute_result"
    }
   ],
   "source": [
    "print( df[['Product_Info_2']].count() )\n",
    "df[['Product_Info_2']].head(5)"
   ]
  },
  {
   "cell_type": "code",
   "execution_count": 26,
   "metadata": {
    "collapsed": false
   },
   "outputs": [],
   "source": [
    "# Found at :\n",
    "# https://www.kaggle.com/marcellonegro/prudential-life-insurance-assessment/xgb-offset0501/run/137585/code\n",
    "df['Product_Info_2_char'] = df.Product_Info_2.str[0]\n",
    "df['Product_Info_2_num'] = df.Product_Info_2.str[1]\n",
    "# factorize categorical variables\n",
    "df['Product_Info_2'] = pandas.factorize(df['Product_Info_2'])[0]\n",
    "df['Product_Info_2_char'] = pandas.factorize(df['Product_Info_2_char'])[0]\n",
    "df['Product_Info_2_num'] = pandas.factorize(df['Product_Info_2_num'])[0]\n",
    "df[['Product_Info_2','Product_Info_2_char','Product_Info_2_num']].head(5)\n",
    "\n",
    "categories.append('Product_Info_2_char')\n",
    "categories.append('Product_Info_2_num')"
   ]
  },
  {
   "cell_type": "code",
   "execution_count": 27,
   "metadata": {
    "collapsed": false
   },
   "outputs": [
    {
     "name": "stdout",
     "output_type": "stream",
     "text": [
      "(59381, 842)\n",
      "(59381, 8)\n"
     ]
    }
   ],
   "source": [
    "encX = OneHotEncoder()\n",
    "# remove Product_Info_2 as it is not numeric (should convert it separately)\n",
    "#Xcat = df[categories].drop('Product_Info_2', 1).as_matrix()\n",
    "Xcat = df[categories].as_matrix()\n",
    "#print Xcat.shape\n",
    "#print df[categories].head()\n",
    "encX.fit(Xcat)\n",
    "Xohe = encX.transform(Xcat).toarray()\n",
    "print Xohe.shape\n",
    "\n",
    "# as Y has 9 categories it can be usefull to treat them separately\n",
    "encY = OneHotEncoder()\n",
    "encY.fit(Y.reshape(-1, 1)) # reshape as Y is a vector and OHE requires a matrix\n",
    "Yohe = encY.transform(Y.reshape(-1, 1))\n",
    "print Yohe.shape"
   ]
  },
  {
   "cell_type": "markdown",
   "metadata": {},
   "source": [
    "#### We can remove low occurence one-hot columns to reduce dimension"
   ]
  },
  {
   "cell_type": "code",
   "execution_count": 28,
   "metadata": {
    "collapsed": false
   },
   "outputs": [
    {
     "name": "stdout",
     "output_type": "stream",
     "text": [
      "308\n",
      "(59381, 308)\n"
     ]
    }
   ],
   "source": [
    "column_test = (np.sum(Xohe, axis=0) > 25) # tweak filter setting\n",
    "print(np.sum(column_test*1))\n",
    "Xohe_trim = Xohe[:,column_test]\n",
    "print(Xohe_trim.shape)"
   ]
  },
  {
   "cell_type": "markdown",
   "metadata": {},
   "source": [
    "### Discrete variables / WARNING still need to include these"
   ]
  },
  {
   "cell_type": "code",
   "execution_count": 29,
   "metadata": {
    "collapsed": false
   },
   "outputs": [
    {
     "name": "stdout",
     "output_type": "stream",
     "text": [
      "(59381, 842)\n"
     ]
    }
   ],
   "source": [
    "discstring = 'Medical_History_1, Medical_History_10, Medical_History_15, Medical_History_24, Medical_History_32'\n",
    "discretes = discstring.replace(' ', '').split(',')\n",
    "\n",
    "missing_disc_indic = -1\n",
    "for discrete in discretes:\n",
    "    # WARNING : shall fill with most frequent modality ?\n",
    "    df[discrete].fillna(missing_disc_indic, inplace=True)\n",
    "    #df[discrete] = pandas.factorize(df[discrete])[0]\n",
    "    df[discrete] = df[discrete] - missing_disc_indic # TO AVOID NEGATIVE VALUES\n",
    "\n",
    "Xdisc = df[discretes].as_matrix()\n",
    "\n",
    "if True:\n",
    "    encD = OneHotEncoder()\n",
    "    encD.fit(Xdisc)\n",
    "    Xdisc_ohe = encD.transform(Xdisc).toarray()\n",
    "    print Xdisc_ohe.shape"
   ]
  },
  {
   "cell_type": "code",
   "execution_count": 30,
   "metadata": {
    "collapsed": false
   },
   "outputs": [
    {
     "name": "stdout",
     "output_type": "stream",
     "text": [
      "379\n",
      "(59381, 379)\n"
     ]
    }
   ],
   "source": [
    "column_test = (np.sum(Xdisc_ohe, axis=0) > 10) # tweak filter setting\n",
    "print(np.sum(column_test*1))\n",
    "Xdisc_ohe_trim = Xdisc_ohe[:,column_test]\n",
    "print(Xdisc_ohe_trim.shape)"
   ]
  },
  {
   "cell_type": "code",
   "execution_count": 31,
   "metadata": {
    "collapsed": false
   },
   "outputs": [
    {
     "data": {
      "text/html": [
       "<div>\n",
       "<table border=\"1\" class=\"dataframe\">\n",
       "  <thead>\n",
       "    <tr style=\"text-align: right;\">\n",
       "      <th></th>\n",
       "      <th>count</th>\n",
       "      <th>mean</th>\n",
       "      <th>std</th>\n",
       "      <th>min</th>\n",
       "      <th>25%</th>\n",
       "      <th>50%</th>\n",
       "      <th>75%</th>\n",
       "      <th>max</th>\n",
       "    </tr>\n",
       "  </thead>\n",
       "  <tbody>\n",
       "    <tr>\n",
       "      <th>Medical_History_1</th>\n",
       "      <td>59381</td>\n",
       "      <td>7.620586</td>\n",
       "      <td>12.431334</td>\n",
       "      <td>0</td>\n",
       "      <td>2</td>\n",
       "      <td>4</td>\n",
       "      <td>9</td>\n",
       "      <td>241</td>\n",
       "    </tr>\n",
       "    <tr>\n",
       "      <th>Medical_History_10</th>\n",
       "      <td>59381</td>\n",
       "      <td>1.333086</td>\n",
       "      <td>17.216604</td>\n",
       "      <td>0</td>\n",
       "      <td>0</td>\n",
       "      <td>0</td>\n",
       "      <td>0</td>\n",
       "      <td>241</td>\n",
       "    </tr>\n",
       "    <tr>\n",
       "      <th>Medical_History_15</th>\n",
       "      <td>59381</td>\n",
       "      <td>31.063657</td>\n",
       "      <td>72.986443</td>\n",
       "      <td>0</td>\n",
       "      <td>0</td>\n",
       "      <td>0</td>\n",
       "      <td>0</td>\n",
       "      <td>241</td>\n",
       "    </tr>\n",
       "    <tr>\n",
       "      <th>Medical_History_24</th>\n",
       "      <td>59381</td>\n",
       "      <td>3.305215</td>\n",
       "      <td>23.464397</td>\n",
       "      <td>0</td>\n",
       "      <td>0</td>\n",
       "      <td>0</td>\n",
       "      <td>0</td>\n",
       "      <td>241</td>\n",
       "    </tr>\n",
       "    <tr>\n",
       "      <th>Medical_History_32</th>\n",
       "      <td>59381</td>\n",
       "      <td>0.241710</td>\n",
       "      <td>5.567613</td>\n",
       "      <td>0</td>\n",
       "      <td>0</td>\n",
       "      <td>0</td>\n",
       "      <td>0</td>\n",
       "      <td>241</td>\n",
       "    </tr>\n",
       "  </tbody>\n",
       "</table>\n",
       "</div>"
      ],
      "text/plain": [
       "                    count       mean        std  min  25%  50%  75%  max\n",
       "Medical_History_1   59381   7.620586  12.431334    0    2    4    9  241\n",
       "Medical_History_10  59381   1.333086  17.216604    0    0    0    0  241\n",
       "Medical_History_15  59381  31.063657  72.986443    0    0    0    0  241\n",
       "Medical_History_24  59381   3.305215  23.464397    0    0    0    0  241\n",
       "Medical_History_32  59381   0.241710   5.567613    0    0    0    0  241"
      ]
     },
     "execution_count": 31,
     "metadata": {},
     "output_type": "execute_result"
    }
   ],
   "source": [
    "df[discretes].describe().transpose()"
   ]
  },
  {
   "cell_type": "code",
   "execution_count": 32,
   "metadata": {
    "collapsed": false
   },
   "outputs": [
    {
     "data": {
      "text/html": [
       "<div>\n",
       "<table border=\"1\" class=\"dataframe\">\n",
       "  <thead>\n",
       "    <tr style=\"text-align: right;\">\n",
       "      <th></th>\n",
       "      <th>Medical_History_1</th>\n",
       "      <th>Medical_History_10</th>\n",
       "      <th>Medical_History_15</th>\n",
       "      <th>Medical_History_24</th>\n",
       "      <th>Medical_History_32</th>\n",
       "    </tr>\n",
       "  </thead>\n",
       "  <tbody>\n",
       "    <tr>\n",
       "      <th>55857</th>\n",
       "      <td>5</td>\n",
       "      <td>0</td>\n",
       "      <td>99</td>\n",
       "      <td>0</td>\n",
       "      <td>0</td>\n",
       "    </tr>\n",
       "    <tr>\n",
       "      <th>7958</th>\n",
       "      <td>0</td>\n",
       "      <td>0</td>\n",
       "      <td>0</td>\n",
       "      <td>0</td>\n",
       "      <td>0</td>\n",
       "    </tr>\n",
       "    <tr>\n",
       "      <th>32651</th>\n",
       "      <td>9</td>\n",
       "      <td>0</td>\n",
       "      <td>0</td>\n",
       "      <td>22</td>\n",
       "      <td>0</td>\n",
       "    </tr>\n",
       "    <tr>\n",
       "      <th>7293</th>\n",
       "      <td>4</td>\n",
       "      <td>0</td>\n",
       "      <td>0</td>\n",
       "      <td>0</td>\n",
       "      <td>0</td>\n",
       "    </tr>\n",
       "    <tr>\n",
       "      <th>7342</th>\n",
       "      <td>2</td>\n",
       "      <td>0</td>\n",
       "      <td>0</td>\n",
       "      <td>0</td>\n",
       "      <td>0</td>\n",
       "    </tr>\n",
       "    <tr>\n",
       "      <th>31674</th>\n",
       "      <td>13</td>\n",
       "      <td>0</td>\n",
       "      <td>0</td>\n",
       "      <td>0</td>\n",
       "      <td>0</td>\n",
       "    </tr>\n",
       "    <tr>\n",
       "      <th>31458</th>\n",
       "      <td>0</td>\n",
       "      <td>0</td>\n",
       "      <td>0</td>\n",
       "      <td>0</td>\n",
       "      <td>0</td>\n",
       "    </tr>\n",
       "    <tr>\n",
       "      <th>24261</th>\n",
       "      <td>4</td>\n",
       "      <td>0</td>\n",
       "      <td>52</td>\n",
       "      <td>0</td>\n",
       "      <td>0</td>\n",
       "    </tr>\n",
       "    <tr>\n",
       "      <th>18173</th>\n",
       "      <td>0</td>\n",
       "      <td>0</td>\n",
       "      <td>0</td>\n",
       "      <td>0</td>\n",
       "      <td>0</td>\n",
       "    </tr>\n",
       "    <tr>\n",
       "      <th>53252</th>\n",
       "      <td>0</td>\n",
       "      <td>0</td>\n",
       "      <td>0</td>\n",
       "      <td>0</td>\n",
       "      <td>0</td>\n",
       "    </tr>\n",
       "  </tbody>\n",
       "</table>\n",
       "</div>"
      ],
      "text/plain": [
       "       Medical_History_1  Medical_History_10  Medical_History_15  \\\n",
       "55857                  5                   0                  99   \n",
       "7958                   0                   0                   0   \n",
       "32651                  9                   0                   0   \n",
       "7293                   4                   0                   0   \n",
       "7342                   2                   0                   0   \n",
       "31674                 13                   0                   0   \n",
       "31458                  0                   0                   0   \n",
       "24261                  4                   0                  52   \n",
       "18173                  0                   0                   0   \n",
       "53252                  0                   0                   0   \n",
       "\n",
       "       Medical_History_24  Medical_History_32  \n",
       "55857                   0                   0  \n",
       "7958                    0                   0  \n",
       "32651                  22                   0  \n",
       "7293                    0                   0  \n",
       "7342                    0                   0  \n",
       "31674                   0                   0  \n",
       "31458                   0                   0  \n",
       "24261                   0                   0  \n",
       "18173                   0                   0  \n",
       "53252                   0                   0  "
      ]
     },
     "execution_count": 32,
     "metadata": {},
     "output_type": "execute_result"
    }
   ],
   "source": [
    "df[discretes].head(10)"
   ]
  },
  {
   "cell_type": "markdown",
   "metadata": {},
   "source": [
    "### Dummy variables"
   ]
  },
  {
   "cell_type": "code",
   "execution_count": 33,
   "metadata": {
    "collapsed": false
   },
   "outputs": [],
   "source": [
    "dummies = ['Medical_Keyword_'+str(i) for i in range(1,49)]"
   ]
  },
  {
   "cell_type": "code",
   "execution_count": 34,
   "metadata": {
    "collapsed": false
   },
   "outputs": [
    {
     "data": {
      "text/html": [
       "<div>\n",
       "<table border=\"1\" class=\"dataframe\">\n",
       "  <thead>\n",
       "    <tr style=\"text-align: right;\">\n",
       "      <th></th>\n",
       "      <th>count</th>\n",
       "      <th>mean</th>\n",
       "      <th>std</th>\n",
       "      <th>min</th>\n",
       "      <th>25%</th>\n",
       "      <th>50%</th>\n",
       "      <th>75%</th>\n",
       "      <th>max</th>\n",
       "    </tr>\n",
       "  </thead>\n",
       "  <tbody>\n",
       "    <tr>\n",
       "      <th>Medical_Keyword_1</th>\n",
       "      <td>59381</td>\n",
       "      <td>0.042000</td>\n",
       "      <td>0.200591</td>\n",
       "      <td>0</td>\n",
       "      <td>0</td>\n",
       "      <td>0</td>\n",
       "      <td>0</td>\n",
       "      <td>1</td>\n",
       "    </tr>\n",
       "    <tr>\n",
       "      <th>Medical_Keyword_2</th>\n",
       "      <td>59381</td>\n",
       "      <td>0.008942</td>\n",
       "      <td>0.094141</td>\n",
       "      <td>0</td>\n",
       "      <td>0</td>\n",
       "      <td>0</td>\n",
       "      <td>0</td>\n",
       "      <td>1</td>\n",
       "    </tr>\n",
       "    <tr>\n",
       "      <th>Medical_Keyword_3</th>\n",
       "      <td>59381</td>\n",
       "      <td>0.049275</td>\n",
       "      <td>0.216443</td>\n",
       "      <td>0</td>\n",
       "      <td>0</td>\n",
       "      <td>0</td>\n",
       "      <td>0</td>\n",
       "      <td>1</td>\n",
       "    </tr>\n",
       "    <tr>\n",
       "      <th>Medical_Keyword_4</th>\n",
       "      <td>59381</td>\n",
       "      <td>0.014550</td>\n",
       "      <td>0.119744</td>\n",
       "      <td>0</td>\n",
       "      <td>0</td>\n",
       "      <td>0</td>\n",
       "      <td>0</td>\n",
       "      <td>1</td>\n",
       "    </tr>\n",
       "    <tr>\n",
       "      <th>Medical_Keyword_5</th>\n",
       "      <td>59381</td>\n",
       "      <td>0.008622</td>\n",
       "      <td>0.092456</td>\n",
       "      <td>0</td>\n",
       "      <td>0</td>\n",
       "      <td>0</td>\n",
       "      <td>0</td>\n",
       "      <td>1</td>\n",
       "    </tr>\n",
       "    <tr>\n",
       "      <th>Medical_Keyword_6</th>\n",
       "      <td>59381</td>\n",
       "      <td>0.012597</td>\n",
       "      <td>0.111526</td>\n",
       "      <td>0</td>\n",
       "      <td>0</td>\n",
       "      <td>0</td>\n",
       "      <td>0</td>\n",
       "      <td>1</td>\n",
       "    </tr>\n",
       "    <tr>\n",
       "      <th>Medical_Keyword_7</th>\n",
       "      <td>59381</td>\n",
       "      <td>0.013910</td>\n",
       "      <td>0.117119</td>\n",
       "      <td>0</td>\n",
       "      <td>0</td>\n",
       "      <td>0</td>\n",
       "      <td>0</td>\n",
       "      <td>1</td>\n",
       "    </tr>\n",
       "    <tr>\n",
       "      <th>Medical_Keyword_8</th>\n",
       "      <td>59381</td>\n",
       "      <td>0.010407</td>\n",
       "      <td>0.101485</td>\n",
       "      <td>0</td>\n",
       "      <td>0</td>\n",
       "      <td>0</td>\n",
       "      <td>0</td>\n",
       "      <td>1</td>\n",
       "    </tr>\n",
       "    <tr>\n",
       "      <th>Medical_Keyword_9</th>\n",
       "      <td>59381</td>\n",
       "      <td>0.006652</td>\n",
       "      <td>0.081289</td>\n",
       "      <td>0</td>\n",
       "      <td>0</td>\n",
       "      <td>0</td>\n",
       "      <td>0</td>\n",
       "      <td>1</td>\n",
       "    </tr>\n",
       "    <tr>\n",
       "      <th>Medical_Keyword_10</th>\n",
       "      <td>59381</td>\n",
       "      <td>0.036459</td>\n",
       "      <td>0.187432</td>\n",
       "      <td>0</td>\n",
       "      <td>0</td>\n",
       "      <td>0</td>\n",
       "      <td>0</td>\n",
       "      <td>1</td>\n",
       "    </tr>\n",
       "    <tr>\n",
       "      <th>Medical_Keyword_11</th>\n",
       "      <td>59381</td>\n",
       "      <td>0.058015</td>\n",
       "      <td>0.233774</td>\n",
       "      <td>0</td>\n",
       "      <td>0</td>\n",
       "      <td>0</td>\n",
       "      <td>0</td>\n",
       "      <td>1</td>\n",
       "    </tr>\n",
       "    <tr>\n",
       "      <th>Medical_Keyword_12</th>\n",
       "      <td>59381</td>\n",
       "      <td>0.010003</td>\n",
       "      <td>0.099515</td>\n",
       "      <td>0</td>\n",
       "      <td>0</td>\n",
       "      <td>0</td>\n",
       "      <td>0</td>\n",
       "      <td>1</td>\n",
       "    </tr>\n",
       "    <tr>\n",
       "      <th>Medical_Keyword_13</th>\n",
       "      <td>59381</td>\n",
       "      <td>0.005962</td>\n",
       "      <td>0.076981</td>\n",
       "      <td>0</td>\n",
       "      <td>0</td>\n",
       "      <td>0</td>\n",
       "      <td>0</td>\n",
       "      <td>1</td>\n",
       "    </tr>\n",
       "    <tr>\n",
       "      <th>Medical_Keyword_14</th>\n",
       "      <td>59381</td>\n",
       "      <td>0.007848</td>\n",
       "      <td>0.088239</td>\n",
       "      <td>0</td>\n",
       "      <td>0</td>\n",
       "      <td>0</td>\n",
       "      <td>0</td>\n",
       "      <td>1</td>\n",
       "    </tr>\n",
       "    <tr>\n",
       "      <th>Medical_Keyword_15</th>\n",
       "      <td>59381</td>\n",
       "      <td>0.190465</td>\n",
       "      <td>0.392671</td>\n",
       "      <td>0</td>\n",
       "      <td>0</td>\n",
       "      <td>0</td>\n",
       "      <td>0</td>\n",
       "      <td>1</td>\n",
       "    </tr>\n",
       "    <tr>\n",
       "      <th>Medical_Keyword_16</th>\n",
       "      <td>59381</td>\n",
       "      <td>0.012715</td>\n",
       "      <td>0.112040</td>\n",
       "      <td>0</td>\n",
       "      <td>0</td>\n",
       "      <td>0</td>\n",
       "      <td>0</td>\n",
       "      <td>1</td>\n",
       "    </tr>\n",
       "    <tr>\n",
       "      <th>Medical_Keyword_17</th>\n",
       "      <td>59381</td>\n",
       "      <td>0.009161</td>\n",
       "      <td>0.095275</td>\n",
       "      <td>0</td>\n",
       "      <td>0</td>\n",
       "      <td>0</td>\n",
       "      <td>0</td>\n",
       "      <td>1</td>\n",
       "    </tr>\n",
       "    <tr>\n",
       "      <th>Medical_Keyword_18</th>\n",
       "      <td>59381</td>\n",
       "      <td>0.007494</td>\n",
       "      <td>0.086244</td>\n",
       "      <td>0</td>\n",
       "      <td>0</td>\n",
       "      <td>0</td>\n",
       "      <td>0</td>\n",
       "      <td>1</td>\n",
       "    </tr>\n",
       "    <tr>\n",
       "      <th>Medical_Keyword_19</th>\n",
       "      <td>59381</td>\n",
       "      <td>0.009296</td>\n",
       "      <td>0.095967</td>\n",
       "      <td>0</td>\n",
       "      <td>0</td>\n",
       "      <td>0</td>\n",
       "      <td>0</td>\n",
       "      <td>1</td>\n",
       "    </tr>\n",
       "    <tr>\n",
       "      <th>Medical_Keyword_20</th>\n",
       "      <td>59381</td>\n",
       "      <td>0.008134</td>\n",
       "      <td>0.089821</td>\n",
       "      <td>0</td>\n",
       "      <td>0</td>\n",
       "      <td>0</td>\n",
       "      <td>0</td>\n",
       "      <td>1</td>\n",
       "    </tr>\n",
       "    <tr>\n",
       "      <th>Medical_Keyword_21</th>\n",
       "      <td>59381</td>\n",
       "      <td>0.014601</td>\n",
       "      <td>0.119949</td>\n",
       "      <td>0</td>\n",
       "      <td>0</td>\n",
       "      <td>0</td>\n",
       "      <td>0</td>\n",
       "      <td>1</td>\n",
       "    </tr>\n",
       "    <tr>\n",
       "      <th>Medical_Keyword_22</th>\n",
       "      <td>59381</td>\n",
       "      <td>0.037167</td>\n",
       "      <td>0.189172</td>\n",
       "      <td>0</td>\n",
       "      <td>0</td>\n",
       "      <td>0</td>\n",
       "      <td>0</td>\n",
       "      <td>1</td>\n",
       "    </tr>\n",
       "    <tr>\n",
       "      <th>Medical_Keyword_23</th>\n",
       "      <td>59381</td>\n",
       "      <td>0.097775</td>\n",
       "      <td>0.297013</td>\n",
       "      <td>0</td>\n",
       "      <td>0</td>\n",
       "      <td>0</td>\n",
       "      <td>0</td>\n",
       "      <td>1</td>\n",
       "    </tr>\n",
       "    <tr>\n",
       "      <th>Medical_Keyword_24</th>\n",
       "      <td>59381</td>\n",
       "      <td>0.018895</td>\n",
       "      <td>0.136155</td>\n",
       "      <td>0</td>\n",
       "      <td>0</td>\n",
       "      <td>0</td>\n",
       "      <td>0</td>\n",
       "      <td>1</td>\n",
       "    </tr>\n",
       "    <tr>\n",
       "      <th>Medical_Keyword_25</th>\n",
       "      <td>59381</td>\n",
       "      <td>0.089456</td>\n",
       "      <td>0.285404</td>\n",
       "      <td>0</td>\n",
       "      <td>0</td>\n",
       "      <td>0</td>\n",
       "      <td>0</td>\n",
       "      <td>1</td>\n",
       "    </tr>\n",
       "    <tr>\n",
       "      <th>Medical_Keyword_26</th>\n",
       "      <td>59381</td>\n",
       "      <td>0.013439</td>\n",
       "      <td>0.115145</td>\n",
       "      <td>0</td>\n",
       "      <td>0</td>\n",
       "      <td>0</td>\n",
       "      <td>0</td>\n",
       "      <td>1</td>\n",
       "    </tr>\n",
       "    <tr>\n",
       "      <th>Medical_Keyword_27</th>\n",
       "      <td>59381</td>\n",
       "      <td>0.011856</td>\n",
       "      <td>0.108237</td>\n",
       "      <td>0</td>\n",
       "      <td>0</td>\n",
       "      <td>0</td>\n",
       "      <td>0</td>\n",
       "      <td>1</td>\n",
       "    </tr>\n",
       "    <tr>\n",
       "      <th>Medical_Keyword_28</th>\n",
       "      <td>59381</td>\n",
       "      <td>0.014937</td>\n",
       "      <td>0.121304</td>\n",
       "      <td>0</td>\n",
       "      <td>0</td>\n",
       "      <td>0</td>\n",
       "      <td>0</td>\n",
       "      <td>1</td>\n",
       "    </tr>\n",
       "    <tr>\n",
       "      <th>Medical_Keyword_29</th>\n",
       "      <td>59381</td>\n",
       "      <td>0.011755</td>\n",
       "      <td>0.107780</td>\n",
       "      <td>0</td>\n",
       "      <td>0</td>\n",
       "      <td>0</td>\n",
       "      <td>0</td>\n",
       "      <td>1</td>\n",
       "    </tr>\n",
       "    <tr>\n",
       "      <th>Medical_Keyword_30</th>\n",
       "      <td>59381</td>\n",
       "      <td>0.025042</td>\n",
       "      <td>0.156253</td>\n",
       "      <td>0</td>\n",
       "      <td>0</td>\n",
       "      <td>0</td>\n",
       "      <td>0</td>\n",
       "      <td>1</td>\n",
       "    </tr>\n",
       "    <tr>\n",
       "      <th>Medical_Keyword_31</th>\n",
       "      <td>59381</td>\n",
       "      <td>0.010896</td>\n",
       "      <td>0.103813</td>\n",
       "      <td>0</td>\n",
       "      <td>0</td>\n",
       "      <td>0</td>\n",
       "      <td>0</td>\n",
       "      <td>1</td>\n",
       "    </tr>\n",
       "    <tr>\n",
       "      <th>Medical_Keyword_32</th>\n",
       "      <td>59381</td>\n",
       "      <td>0.021168</td>\n",
       "      <td>0.143947</td>\n",
       "      <td>0</td>\n",
       "      <td>0</td>\n",
       "      <td>0</td>\n",
       "      <td>0</td>\n",
       "      <td>1</td>\n",
       "    </tr>\n",
       "    <tr>\n",
       "      <th>Medical_Keyword_33</th>\n",
       "      <td>59381</td>\n",
       "      <td>0.022836</td>\n",
       "      <td>0.149380</td>\n",
       "      <td>0</td>\n",
       "      <td>0</td>\n",
       "      <td>0</td>\n",
       "      <td>0</td>\n",
       "      <td>1</td>\n",
       "    </tr>\n",
       "    <tr>\n",
       "      <th>Medical_Keyword_34</th>\n",
       "      <td>59381</td>\n",
       "      <td>0.020646</td>\n",
       "      <td>0.142198</td>\n",
       "      <td>0</td>\n",
       "      <td>0</td>\n",
       "      <td>0</td>\n",
       "      <td>0</td>\n",
       "      <td>1</td>\n",
       "    </tr>\n",
       "    <tr>\n",
       "      <th>Medical_Keyword_35</th>\n",
       "      <td>59381</td>\n",
       "      <td>0.006938</td>\n",
       "      <td>0.083007</td>\n",
       "      <td>0</td>\n",
       "      <td>0</td>\n",
       "      <td>0</td>\n",
       "      <td>0</td>\n",
       "      <td>1</td>\n",
       "    </tr>\n",
       "    <tr>\n",
       "      <th>Medical_Keyword_36</th>\n",
       "      <td>59381</td>\n",
       "      <td>0.010407</td>\n",
       "      <td>0.101485</td>\n",
       "      <td>0</td>\n",
       "      <td>0</td>\n",
       "      <td>0</td>\n",
       "      <td>0</td>\n",
       "      <td>1</td>\n",
       "    </tr>\n",
       "    <tr>\n",
       "      <th>Medical_Keyword_37</th>\n",
       "      <td>59381</td>\n",
       "      <td>0.066587</td>\n",
       "      <td>0.249307</td>\n",
       "      <td>0</td>\n",
       "      <td>0</td>\n",
       "      <td>0</td>\n",
       "      <td>0</td>\n",
       "      <td>1</td>\n",
       "    </tr>\n",
       "    <tr>\n",
       "      <th>Medical_Keyword_38</th>\n",
       "      <td>59381</td>\n",
       "      <td>0.006837</td>\n",
       "      <td>0.082405</td>\n",
       "      <td>0</td>\n",
       "      <td>0</td>\n",
       "      <td>0</td>\n",
       "      <td>0</td>\n",
       "      <td>1</td>\n",
       "    </tr>\n",
       "    <tr>\n",
       "      <th>Medical_Keyword_39</th>\n",
       "      <td>59381</td>\n",
       "      <td>0.013658</td>\n",
       "      <td>0.116066</td>\n",
       "      <td>0</td>\n",
       "      <td>0</td>\n",
       "      <td>0</td>\n",
       "      <td>0</td>\n",
       "      <td>1</td>\n",
       "    </tr>\n",
       "    <tr>\n",
       "      <th>Medical_Keyword_40</th>\n",
       "      <td>59381</td>\n",
       "      <td>0.056954</td>\n",
       "      <td>0.231757</td>\n",
       "      <td>0</td>\n",
       "      <td>0</td>\n",
       "      <td>0</td>\n",
       "      <td>0</td>\n",
       "      <td>1</td>\n",
       "    </tr>\n",
       "    <tr>\n",
       "      <th>Medical_Keyword_41</th>\n",
       "      <td>59381</td>\n",
       "      <td>0.010054</td>\n",
       "      <td>0.099764</td>\n",
       "      <td>0</td>\n",
       "      <td>0</td>\n",
       "      <td>0</td>\n",
       "      <td>0</td>\n",
       "      <td>1</td>\n",
       "    </tr>\n",
       "    <tr>\n",
       "      <th>Medical_Keyword_42</th>\n",
       "      <td>59381</td>\n",
       "      <td>0.045536</td>\n",
       "      <td>0.208479</td>\n",
       "      <td>0</td>\n",
       "      <td>0</td>\n",
       "      <td>0</td>\n",
       "      <td>0</td>\n",
       "      <td>1</td>\n",
       "    </tr>\n",
       "    <tr>\n",
       "      <th>Medical_Keyword_43</th>\n",
       "      <td>59381</td>\n",
       "      <td>0.010710</td>\n",
       "      <td>0.102937</td>\n",
       "      <td>0</td>\n",
       "      <td>0</td>\n",
       "      <td>0</td>\n",
       "      <td>0</td>\n",
       "      <td>1</td>\n",
       "    </tr>\n",
       "    <tr>\n",
       "      <th>Medical_Keyword_44</th>\n",
       "      <td>59381</td>\n",
       "      <td>0.007528</td>\n",
       "      <td>0.086436</td>\n",
       "      <td>0</td>\n",
       "      <td>0</td>\n",
       "      <td>0</td>\n",
       "      <td>0</td>\n",
       "      <td>1</td>\n",
       "    </tr>\n",
       "    <tr>\n",
       "      <th>Medical_Keyword_45</th>\n",
       "      <td>59381</td>\n",
       "      <td>0.013691</td>\n",
       "      <td>0.116207</td>\n",
       "      <td>0</td>\n",
       "      <td>0</td>\n",
       "      <td>0</td>\n",
       "      <td>0</td>\n",
       "      <td>1</td>\n",
       "    </tr>\n",
       "    <tr>\n",
       "      <th>Medical_Keyword_46</th>\n",
       "      <td>59381</td>\n",
       "      <td>0.008488</td>\n",
       "      <td>0.091737</td>\n",
       "      <td>0</td>\n",
       "      <td>0</td>\n",
       "      <td>0</td>\n",
       "      <td>0</td>\n",
       "      <td>1</td>\n",
       "    </tr>\n",
       "    <tr>\n",
       "      <th>Medical_Keyword_47</th>\n",
       "      <td>59381</td>\n",
       "      <td>0.019905</td>\n",
       "      <td>0.139676</td>\n",
       "      <td>0</td>\n",
       "      <td>0</td>\n",
       "      <td>0</td>\n",
       "      <td>0</td>\n",
       "      <td>1</td>\n",
       "    </tr>\n",
       "    <tr>\n",
       "      <th>Medical_Keyword_48</th>\n",
       "      <td>59381</td>\n",
       "      <td>0.054496</td>\n",
       "      <td>0.226995</td>\n",
       "      <td>0</td>\n",
       "      <td>0</td>\n",
       "      <td>0</td>\n",
       "      <td>0</td>\n",
       "      <td>1</td>\n",
       "    </tr>\n",
       "  </tbody>\n",
       "</table>\n",
       "</div>"
      ],
      "text/plain": [
       "                    count      mean       std  min  25%  50%  75%  max\n",
       "Medical_Keyword_1   59381  0.042000  0.200591    0    0    0    0    1\n",
       "Medical_Keyword_2   59381  0.008942  0.094141    0    0    0    0    1\n",
       "Medical_Keyword_3   59381  0.049275  0.216443    0    0    0    0    1\n",
       "Medical_Keyword_4   59381  0.014550  0.119744    0    0    0    0    1\n",
       "Medical_Keyword_5   59381  0.008622  0.092456    0    0    0    0    1\n",
       "Medical_Keyword_6   59381  0.012597  0.111526    0    0    0    0    1\n",
       "Medical_Keyword_7   59381  0.013910  0.117119    0    0    0    0    1\n",
       "Medical_Keyword_8   59381  0.010407  0.101485    0    0    0    0    1\n",
       "Medical_Keyword_9   59381  0.006652  0.081289    0    0    0    0    1\n",
       "Medical_Keyword_10  59381  0.036459  0.187432    0    0    0    0    1\n",
       "Medical_Keyword_11  59381  0.058015  0.233774    0    0    0    0    1\n",
       "Medical_Keyword_12  59381  0.010003  0.099515    0    0    0    0    1\n",
       "Medical_Keyword_13  59381  0.005962  0.076981    0    0    0    0    1\n",
       "Medical_Keyword_14  59381  0.007848  0.088239    0    0    0    0    1\n",
       "Medical_Keyword_15  59381  0.190465  0.392671    0    0    0    0    1\n",
       "Medical_Keyword_16  59381  0.012715  0.112040    0    0    0    0    1\n",
       "Medical_Keyword_17  59381  0.009161  0.095275    0    0    0    0    1\n",
       "Medical_Keyword_18  59381  0.007494  0.086244    0    0    0    0    1\n",
       "Medical_Keyword_19  59381  0.009296  0.095967    0    0    0    0    1\n",
       "Medical_Keyword_20  59381  0.008134  0.089821    0    0    0    0    1\n",
       "Medical_Keyword_21  59381  0.014601  0.119949    0    0    0    0    1\n",
       "Medical_Keyword_22  59381  0.037167  0.189172    0    0    0    0    1\n",
       "Medical_Keyword_23  59381  0.097775  0.297013    0    0    0    0    1\n",
       "Medical_Keyword_24  59381  0.018895  0.136155    0    0    0    0    1\n",
       "Medical_Keyword_25  59381  0.089456  0.285404    0    0    0    0    1\n",
       "Medical_Keyword_26  59381  0.013439  0.115145    0    0    0    0    1\n",
       "Medical_Keyword_27  59381  0.011856  0.108237    0    0    0    0    1\n",
       "Medical_Keyword_28  59381  0.014937  0.121304    0    0    0    0    1\n",
       "Medical_Keyword_29  59381  0.011755  0.107780    0    0    0    0    1\n",
       "Medical_Keyword_30  59381  0.025042  0.156253    0    0    0    0    1\n",
       "Medical_Keyword_31  59381  0.010896  0.103813    0    0    0    0    1\n",
       "Medical_Keyword_32  59381  0.021168  0.143947    0    0    0    0    1\n",
       "Medical_Keyword_33  59381  0.022836  0.149380    0    0    0    0    1\n",
       "Medical_Keyword_34  59381  0.020646  0.142198    0    0    0    0    1\n",
       "Medical_Keyword_35  59381  0.006938  0.083007    0    0    0    0    1\n",
       "Medical_Keyword_36  59381  0.010407  0.101485    0    0    0    0    1\n",
       "Medical_Keyword_37  59381  0.066587  0.249307    0    0    0    0    1\n",
       "Medical_Keyword_38  59381  0.006837  0.082405    0    0    0    0    1\n",
       "Medical_Keyword_39  59381  0.013658  0.116066    0    0    0    0    1\n",
       "Medical_Keyword_40  59381  0.056954  0.231757    0    0    0    0    1\n",
       "Medical_Keyword_41  59381  0.010054  0.099764    0    0    0    0    1\n",
       "Medical_Keyword_42  59381  0.045536  0.208479    0    0    0    0    1\n",
       "Medical_Keyword_43  59381  0.010710  0.102937    0    0    0    0    1\n",
       "Medical_Keyword_44  59381  0.007528  0.086436    0    0    0    0    1\n",
       "Medical_Keyword_45  59381  0.013691  0.116207    0    0    0    0    1\n",
       "Medical_Keyword_46  59381  0.008488  0.091737    0    0    0    0    1\n",
       "Medical_Keyword_47  59381  0.019905  0.139676    0    0    0    0    1\n",
       "Medical_Keyword_48  59381  0.054496  0.226995    0    0    0    0    1"
      ]
     },
     "execution_count": 34,
     "metadata": {},
     "output_type": "execute_result"
    }
   ],
   "source": [
    "df[dummies].describe().transpose()"
   ]
  },
  {
   "cell_type": "code",
   "execution_count": 35,
   "metadata": {
    "collapsed": true
   },
   "outputs": [],
   "source": [
    "Xdummies = df[dummies].as_matrix()"
   ]
  },
  {
   "cell_type": "markdown",
   "metadata": {},
   "source": [
    "### Merge"
   ]
  },
  {
   "cell_type": "code",
   "execution_count": 36,
   "metadata": {
    "collapsed": true
   },
   "outputs": [],
   "source": [
    "if False: # non trimmed one-hot\n",
    "    Xmerge = np.concatenate((X, Xohe, Xdummies, Xdisc), axis=1)\n",
    "else:\n",
    "    Xmerge = np.concatenate((X, Xohe_trim, Xdummies), axis=1)\n",
    "# Xdisc\n",
    "# Xdisc_ohe\n",
    "# Xdisc_ohe_trim ?"
   ]
  },
  {
   "cell_type": "code",
   "execution_count": 37,
   "metadata": {
    "collapsed": false
   },
   "outputs": [
    {
     "data": {
      "text/plain": [
       "(59381, 371)"
      ]
     },
     "execution_count": 37,
     "metadata": {},
     "output_type": "execute_result"
    }
   ],
   "source": [
    "Xmerge.shape"
   ]
  },
  {
   "cell_type": "markdown",
   "metadata": {},
   "source": [
    "### chi2 selection"
   ]
  },
  {
   "cell_type": "code",
   "execution_count": 44,
   "metadata": {
    "collapsed": false
   },
   "outputs": [
    {
     "name": "stdout",
     "output_type": "stream",
     "text": [
      "0.654986522911\n",
      "(59381, 20)\n",
      "0.654986522911\n",
      "(59381, 30)\n",
      "0.654986522911\n",
      "(59381, 40)\n",
      "0.654986522911\n",
      "(59381, 50)\n"
     ]
    }
   ],
   "source": [
    "def getbests(Xarray, Yarray, nbkeep=20):\n",
    "    c2val, c2prob = chi2(Xarray, Yarray)\n",
    "    print len([j for j, p in enumerate(c2prob) if p<0.01]) / float(len(c2prob))\n",
    "    aux = c2val.tolist()\n",
    "    aux.sort()\n",
    "    aux.reverse()\n",
    "    minc2val = aux[nbkeep]\n",
    "    return [j for j, cv in enumerate(c2val) if cv>minc2val]\n",
    "\n",
    "bests20 = getbests(Xmerge, Y, 20)\n",
    "Xbests20 = Xmerge[:,bests20]\n",
    "print Xbests20.shape\n",
    "\n",
    "bests30 = getbests(Xmerge, Y, 30)\n",
    "Xbests30 = Xmerge[:,bests30]\n",
    "print Xbests30.shape\n",
    "\n",
    "bests40 = getbests(Xmerge, Y, 40)\n",
    "Xbests40 = Xmerge[:,bests40]\n",
    "print Xbests40.shape\n",
    "\n",
    "bests50 = getbests(Xmerge, Y, 50)\n",
    "Xbests50 = Xmerge[:,bests50]\n",
    "print Xbests50.shape"
   ]
  },
  {
   "cell_type": "markdown",
   "metadata": {},
   "source": [
    "### XGBoost (installed from pip)\n",
    "see this link :\n",
    "https://www.kaggle.com/zeroblue/prudential-life-insurance-assessment/xgboost-with-optimized-offsets/code"
   ]
  },
  {
   "cell_type": "code",
   "execution_count": 48,
   "metadata": {
    "collapsed": false
   },
   "outputs": [],
   "source": [
    "columns_to_drop = ['Id', 'Response'] #, 'Medical_History_10','Medical_History_24']\n",
    "xgb_num_rounds = 720\n",
    "num_classes = 8\n",
    "missing_indicator = -1000\n",
    "\n",
    "def get_params():\n",
    "    \n",
    "    params = {}\n",
    "    params[\"objective\"] = \"reg:linear\"     \n",
    "    params[\"eta\"] = 0.05\n",
    "    params[\"min_child_weight\"] = 360\n",
    "    params[\"subsample\"] = 0.85\n",
    "    params[\"colsample_bytree\"] = 0.3\n",
    "    params[\"silent\"] = 1\n",
    "    params[\"max_depth\"] = 7\n",
    "    plst = list(params.items())\n",
    "\n",
    "    return plst\n",
    "\n",
    "\n",
    "xgtrain = xgb.DMatrix(df.drop(columns_to_drop, axis=1), df['Response'].values, \n",
    "                        missing=missing_indicator)\n",
    "#xgtest = xgb.DMatrix(test.drop(columns_to_drop, axis=1), label=test['Response'].values, \n",
    "#                        missing=missing_indicator)    \n",
    "\n",
    "plst = get_params()\n",
    "\n",
    "# train model\n",
    "xgbmodel = xgb.train(plst, xgtrain, xgb_num_rounds) "
   ]
  },
  {
   "cell_type": "code",
   "execution_count": 59,
   "metadata": {
    "collapsed": false
   },
   "outputs": [],
   "source": [
    "train_preds = xgbmodel.predict(xgtrain, ntree_limit=xgbmodel.best_iteration)"
   ]
  },
  {
   "cell_type": "code",
   "execution_count": 60,
   "metadata": {
    "collapsed": false
   },
   "outputs": [
    {
     "data": {
      "text/plain": [
       "0.6284677739916824"
      ]
     },
     "execution_count": 60,
     "metadata": {},
     "output_type": "execute_result"
    }
   ],
   "source": [
    "quadratic_weighted_kappa(train_preds, df['Response'].as_matrix()) # Kaggle metric"
   ]
  },
  {
   "cell_type": "markdown",
   "metadata": {},
   "source": [
    "### KNN"
   ]
  },
  {
   "cell_type": "code",
   "execution_count": 38,
   "metadata": {
    "collapsed": false
   },
   "outputs": [
    {
     "data": {
      "text/plain": [
       "KNeighborsClassifier(algorithm='auto', leaf_size=30, metric='minkowski',\n",
       "           metric_params=None, n_jobs=1, n_neighbors=5, p=2,\n",
       "           weights='uniform')"
      ]
     },
     "execution_count": 38,
     "metadata": {},
     "output_type": "execute_result"
    }
   ],
   "source": [
    "knn2 = KNeighborsClassifier()\n",
    "Xknntrain = Xbests20[range(0,50000), :]\n",
    "Yknntrain = Y[range(0,50000)]\n",
    "Xknntest = Xbests20[range(50000,59000), :]\n",
    "Yknntest = Y[range(50000,59000)]\n",
    "knn2.fit(Xknntrain, Yknntrain) # lower the \"bests\" threshold to include more variables ... but KNN will slow drastically"
   ]
  },
  {
   "cell_type": "code",
   "execution_count": 40,
   "metadata": {
    "collapsed": false
   },
   "outputs": [
    {
     "name": "stdout",
     "output_type": "stream",
     "text": [
      "0.38398\n",
      "0.350111111111\n"
     ]
    },
    {
     "data": {
      "text/plain": [
       "(50000,)"
      ]
     },
     "execution_count": 40,
     "metadata": {},
     "output_type": "execute_result"
    }
   ],
   "source": [
    "#len( [1 for y, ym in zip(Y, knn2.predict(Xbests30)) if y==ym] ) / float(len(Y))\n",
    "print knn2.score(Xknntrain, Yknntrain)\n",
    "print knn2.score(Xknntest, Yknntest)"
   ]
  },
  {
   "cell_type": "code",
   "execution_count": 41,
   "metadata": {
    "collapsed": false
   },
   "outputs": [
    {
     "data": {
      "text/plain": [
       "0.37173411184282823"
      ]
     },
     "execution_count": 41,
     "metadata": {},
     "output_type": "execute_result"
    }
   ],
   "source": [
    "quadratic_weighted_kappa(knn2.predict(Xknntrain), Yknntrain) # Kaggle metric"
   ]
  },
  {
   "cell_type": "code",
   "execution_count": 97,
   "metadata": {
    "collapsed": false
   },
   "outputs": [
    {
     "data": {
      "text/plain": [
       "array([ 0.10468,  0.11138,  0.01672,  0.02384,  0.09156,  0.18796,\n",
       "        0.1364 ,  0.32746])"
      ]
     },
     "execution_count": 97,
     "metadata": {},
     "output_type": "execute_result"
    }
   ],
   "source": [
    "# split the set into different Y classes to measure their importance\n",
    "np.mean(encY.transform(Yknntrain.reshape(-1, 1)).toarray(), axis=0)"
   ]
  },
  {
   "cell_type": "markdown",
   "metadata": {},
   "source": [
    "### SVC"
   ]
  },
  {
   "cell_type": "code",
   "execution_count": 42,
   "metadata": {
    "collapsed": false
   },
   "outputs": [
    {
     "name": "stdout",
     "output_type": "stream",
     "text": [
      "0.7669\n",
      "0.766842105263\n"
     ]
    }
   ],
   "source": [
    "classcol = 7\n",
    "#model = LogisticRegression()\n",
    "#model = KNeighborsClassifier()\n",
    "#model = RandomForestClassifier(n_estimators=50)\n",
    "#model = GaussianNB()\n",
    "model = SVC()\n",
    "Xrftrain = Xbests40[range(0,40000), :]\n",
    "Yrftrain = Y[range(0,40000)]\n",
    "Xrftest = Xbests40[range(40000,59000), :]\n",
    "Yrftest = Y[range(40000,59000)]\n",
    "colYrftrain = encY.transform(Yrftrain.reshape(-1, 1)).getcol(classcol).toarray().flatten()\n",
    "colYrftest = encY.transform(Yrftest.reshape(-1, 1)).getcol(classcol).toarray().flatten()\n",
    "model.fit(Xrftrain, colYrftrain)"
   ]
  },
  {
   "cell_type": "code",
   "execution_count": 44,
   "metadata": {
    "collapsed": false
   },
   "outputs": [
    {
     "name": "stdout",
     "output_type": "stream",
     "text": [
      "0.7669\n",
      "0.766842105263\n"
     ]
    }
   ],
   "source": [
    "print model.score(Xrftrain, colYrftrain)\n",
    "print model.score(Xrftest, colYrftest)"
   ]
  },
  {
   "cell_type": "code",
   "execution_count": 43,
   "metadata": {
    "collapsed": false
   },
   "outputs": [
    {
     "data": {
      "text/plain": [
       "0.4662162472193002"
      ]
     },
     "execution_count": 43,
     "metadata": {},
     "output_type": "execute_result"
    }
   ],
   "source": [
    "quadratic_weighted_kappa(model.predict(Xrftrain), colYrftrain) # Kaggle metric"
   ]
  },
  {
   "cell_type": "markdown",
   "metadata": {},
   "source": [
    "### Random Forests"
   ]
  },
  {
   "cell_type": "code",
   "execution_count": 45,
   "metadata": {
    "collapsed": false
   },
   "outputs": [
    {
     "data": {
      "text/plain": [
       "RandomForestClassifier(bootstrap=True, class_weight=None, criterion='gini',\n",
       "            max_depth=None, max_features='auto', max_leaf_nodes=None,\n",
       "            min_samples_leaf=1, min_samples_split=2,\n",
       "            min_weight_fraction_leaf=0.0, n_estimators=50, n_jobs=1,\n",
       "            oob_score=False, random_state=None, verbose=0,\n",
       "            warm_start=False)"
      ]
     },
     "execution_count": 45,
     "metadata": {},
     "output_type": "execute_result"
    }
   ],
   "source": [
    "random_forest = RandomForestClassifier(n_estimators=50)\n",
    "Xrftrain = Xbests20[range(0,50000), :]\n",
    "Yrftrain = Y[range(0,50000)]\n",
    "Xrftest = Xbests20[range(50000,59000), :]\n",
    "Yrftest = Y[range(50000,59000)]\n",
    "random_forest.fit(Xrftrain, Yrftrain)"
   ]
  },
  {
   "cell_type": "code",
   "execution_count": 46,
   "metadata": {
    "collapsed": false
   },
   "outputs": [
    {
     "name": "stdout",
     "output_type": "stream",
     "text": [
      "0.48264\n",
      "0.429111111111\n"
     ]
    }
   ],
   "source": [
    "#Y_pred = random_forest.predict(X)\n",
    "print random_forest.score(Xrftrain, Yrftrain)\n",
    "print random_forest.score(Xrftest, Yrftest)"
   ]
  },
  {
   "cell_type": "code",
   "execution_count": 48,
   "metadata": {
    "collapsed": false
   },
   "outputs": [
    {
     "data": {
      "text/plain": [
       "0.40940047759552234"
      ]
     },
     "execution_count": 48,
     "metadata": {},
     "output_type": "execute_result"
    }
   ],
   "source": [
    "quadratic_weighted_kappa(random_forest.predict(Xrftrain), Yrftrain) # Kaggle metric"
   ]
  },
  {
   "cell_type": "markdown",
   "metadata": {
    "collapsed": true
   },
   "source": [
    "### Neural Network (with Keras)"
   ]
  },
  {
   "cell_type": "code",
   "execution_count": 38,
   "metadata": {
    "collapsed": false
   },
   "outputs": [
    {
     "data": {
      "text/plain": [
       "((59381, 371), (59381, 8))"
      ]
     },
     "execution_count": 38,
     "metadata": {},
     "output_type": "execute_result"
    }
   ],
   "source": [
    "Xmerge.shape, Yohe.toarray().shape # WARNING : to_array"
   ]
  },
  {
   "cell_type": "code",
   "execution_count": 39,
   "metadata": {
    "collapsed": true
   },
   "outputs": [],
   "source": [
    "nn_input_dim = Xmerge.shape[1]"
   ]
  },
  {
   "cell_type": "code",
   "execution_count": 40,
   "metadata": {
    "collapsed": false
   },
   "outputs": [],
   "source": [
    "if True:\n",
    "    min_max_scaler = MinMaxScaler() # WARNING : is it correct for binary variables ?\n",
    "    Xmerge_prepro = min_max_scaler.fit_transform(Xmerge)\n",
    "else:\n",
    "    std_scaler = StandardScaler().fit(Xmerge)\n",
    "    Xmerge_prepro = std_scaler.transform(Xmerge)"
   ]
  },
  {
   "cell_type": "code",
   "execution_count": 41,
   "metadata": {
    "collapsed": true
   },
   "outputs": [],
   "source": [
    "Xnn_train = Xmerge_prepro[0:45000]\n",
    "Xnn_valid = Xmerge_prepro[45000:]\n",
    "\n",
    "Ynn_train = Yohe.toarray()[0:45000]\n",
    "Ynn_valid = Yohe.toarray()[45000:]"
   ]
  },
  {
   "cell_type": "markdown",
   "metadata": {},
   "source": [
    "### Stand alone Neural Network i.e. no mixture"
   ]
  },
  {
   "cell_type": "code",
   "execution_count": 89,
   "metadata": {
    "collapsed": false
   },
   "outputs": [],
   "source": [
    "model = Sequential()\n",
    "model.add( Dense(500, init='glorot_uniform', activation='relu', input_dim=nn_input_dim) )\n",
    "model.add( BatchNormalization() )\n",
    "model.add( Dropout(0.4) )\n",
    "model.add( Dense(200, activation='sigmoid') )\n",
    "model.add( BatchNormalization() )\n",
    "model.add( Dropout(0.4) )\n",
    "model.add( Dense(100, activation='sigmoid') )\n",
    "model.add( BatchNormalization() )\n",
    "model.add( Dropout(0.4) )\n",
    "model.add( Dense(8, activation='softmax') )\n",
    "model.compile(optimizer=Adam(1e-3), loss='categorical_crossentropy', metrics=['accuracy'])"
   ]
  },
  {
   "cell_type": "code",
   "execution_count": 92,
   "metadata": {
    "collapsed": false
   },
   "outputs": [
    {
     "name": "stdout",
     "output_type": "stream",
     "text": [
      "Train on 45000 samples, validate on 14381 samples\n",
      "Epoch 1/10\n",
      "45000/45000 [==============================] - 6s - loss: 1.2841 - acc: 0.5326 - val_loss: 1.3131 - val_acc: 0.5237\n",
      "Epoch 2/10\n",
      "45000/45000 [==============================] - 6s - loss: 1.2751 - acc: 0.5373 - val_loss: 1.3141 - val_acc: 0.5237\n",
      "Epoch 3/10\n",
      "45000/45000 [==============================] - 6s - loss: 1.2662 - acc: 0.5373 - val_loss: 1.3089 - val_acc: 0.5249\n",
      "Epoch 4/10\n",
      "45000/45000 [==============================] - 6s - loss: 1.2624 - acc: 0.5413 - val_loss: 1.3089 - val_acc: 0.5267\n",
      "Epoch 5/10\n",
      "45000/45000 [==============================] - 6s - loss: 1.2538 - acc: 0.5456 - val_loss: 1.3097 - val_acc: 0.5269\n",
      "Epoch 6/10\n",
      "45000/45000 [==============================] - 6s - loss: 1.2440 - acc: 0.5472 - val_loss: 1.3074 - val_acc: 0.5283\n",
      "Epoch 7/10\n",
      "45000/45000 [==============================] - 6s - loss: 1.2399 - acc: 0.5503 - val_loss: 1.3062 - val_acc: 0.5287\n",
      "Epoch 8/10\n",
      "45000/45000 [==============================] - 6s - loss: 1.2333 - acc: 0.5525 - val_loss: 1.3072 - val_acc: 0.5279\n",
      "Epoch 9/10\n",
      "45000/45000 [==============================] - 6s - loss: 1.2308 - acc: 0.5522 - val_loss: 1.3067 - val_acc: 0.5308\n",
      "Epoch 10/10\n",
      "45000/45000 [==============================] - 6s - loss: 1.2271 - acc: 0.5529 - val_loss: 1.3022 - val_acc: 0.5296\n"
     ]
    },
    {
     "data": {
      "text/plain": [
       "<keras.callbacks.History at 0x7f8f1fbbbd50>"
      ]
     },
     "execution_count": 92,
     "metadata": {},
     "output_type": "execute_result"
    }
   ],
   "source": [
    "model.optimizer.lr = 1e-4\n",
    "# train 30 times (at least)\n",
    "model.fit(Xnn_train, Ynn_train, nb_epoch=10, batch_size=64, validation_data=(Xnn_valid, Ynn_valid), verbose=1)"
   ]
  },
  {
   "cell_type": "markdown",
   "metadata": {},
   "source": [
    "### GATED MIXTURE OF EXPERTS\n",
    "#### A custom loss function seems tricky to implement in Keras\n",
    "#### so we implement a NN that takes X,Y as input and returns the Errors as output.\n",
    "#### The fit function will have a dummy null output target so that the fit minimizes the Error function."
   ]
  },
  {
   "cell_type": "code",
   "execution_count": 113,
   "metadata": {
    "collapsed": false
   },
   "outputs": [],
   "source": [
    "NM = 2\n",
    "\n",
    "inputs = Input(shape=(nn_input_dim,))\n",
    "\n",
    "outputs = Input(shape=(8,))\n",
    "\n",
    "predictions = []\n",
    "for i in range(NM):\n",
    "    if True:\n",
    "        xi = Dense(500, init='glorot_uniform', activation='relu')(inputs)\n",
    "        xi = BatchNormalization()(xi)\n",
    "        xi = Dropout(0.40)(xi)\n",
    "        xi = Dense(200, activation='relu')(xi)\n",
    "        xi = BatchNormalization()(xi)\n",
    "        xi = Dropout(0.40)(xi)\n",
    "        xi = Dense(100, activation='relu')(xi)\n",
    "        xi = BatchNormalization()(xi)\n",
    "        xi = Dropout(0.40)(xi)\n",
    "        predictions.append( Dense(8, activation='softmax')(xi) )\n",
    "\n",
    "\n",
    "predmat = Reshape((NM,8))( merge(predictions, mode='concat', concat_axis=1) ) # .summary to check axis\n",
    "\n",
    "deltas = merge([RepeatVector(NM)(outputs), predmat], output_shape=(NM,8), mode=lambda x: -(x[0] * K.log(x[1])))\n",
    "\n",
    "deltasums = Lambda(lambda x: K.sum(x, axis=2), output_shape=lambda s: (s[0], s[1]))(deltas)# .summary to check axis\n",
    "\n",
    "hinton_trick = True # see \"Adaptive Mixtures of Local Experts\"\n",
    "if hinton_trick:\n",
    "    Hinton1 = Lambda(lambda x: K.exp(-x), output_shape=lambda s: s)\n",
    "    deltasums = Hinton1(deltasums)\n",
    "\n",
    "gate = Dense(100, activation='relu')(inputs)\n",
    "gate = BatchNormalization()(gate)\n",
    "gate = Dropout(0.40)(gate)\n",
    "gate = Dense(NM, activation='softmax')(gate)\n",
    "\n",
    "errors = merge([gate, deltasums], mode='dot')\n",
    "if hinton_trick:\n",
    "    Hinton2 = Lambda(lambda x: -K.log(x), output_shape=lambda s: s)    \n",
    "    errors = Hinton2(errors)\n",
    "\n",
    "# a model for training only\n",
    "modelG_train = Model(input=[inputs, outputs], output=errors)\n",
    "\n",
    "predavg = merge([gate, Reshape((8,2))(predmat)], mode='dot') # WARNING : not sure about that one !\n",
    "\n",
    "# a model for prediction / WARNING : share weights with \"train\" ???\n",
    "modelG_pred = Model(input=inputs, output=[predavg, predmat, gate])\n",
    "\n",
    "# INFO :\n",
    "# CE is positive and we want to minimize it\n",
    "# if dummy_target = 0 then MAE = Mean(CrossEntropy)\n",
    "modelG_train.compile(optimizer=Adam(1e-3), loss='mean_absolute_error')"
   ]
  },
  {
   "cell_type": "code",
   "execution_count": 114,
   "metadata": {
    "collapsed": false,
    "scrolled": true
   },
   "outputs": [],
   "source": [
    "#modelG_train.summary() # useful when debugging tensor shapes"
   ]
  },
  {
   "cell_type": "code",
   "execution_count": 115,
   "metadata": {
    "collapsed": false
   },
   "outputs": [],
   "source": [
    "#modelG_pred.summary() # useful when debugging tensor shapes"
   ]
  },
  {
   "cell_type": "code",
   "execution_count": 122,
   "metadata": {
    "collapsed": false
   },
   "outputs": [
    {
     "name": "stdout",
     "output_type": "stream",
     "text": [
      "Train on 45000 samples, validate on 14381 samples\n",
      "Epoch 1/5\n",
      "45000/45000 [==============================] - 21s - loss: 1.5650 - val_loss: 1.4164\n",
      "Epoch 2/5\n",
      "45000/45000 [==============================] - 22s - loss: 1.5232 - val_loss: 1.3998\n",
      "Epoch 3/5\n",
      "45000/45000 [==============================] - 22s - loss: 1.4943 - val_loss: 1.3731\n",
      "Epoch 4/5\n",
      "45000/45000 [==============================] - 22s - loss: 1.4710 - val_loss: 1.3631\n",
      "Epoch 5/5\n",
      "45000/45000 [==============================] - 22s - loss: 1.4458 - val_loss: 1.3465\n"
     ]
    },
    {
     "data": {
      "text/plain": [
       "<keras.callbacks.History at 0x7f6c9cacd1d0>"
      ]
     },
     "execution_count": 122,
     "metadata": {},
     "output_type": "execute_result"
    }
   ],
   "source": [
    "modelG_train.optimizer.lr = 1e-4\n",
    "# train 30 times (at least)\n",
    "Yg_train_dummy = Ynn_train[:,0]*0\n",
    "Yg_valid_dummy = Ynn_valid[:,0]*0\n",
    "modelG_train.fit([Xnn_train, Ynn_train], Yg_train_dummy,\n",
    "                 validation_data=([Xnn_valid, Ynn_valid], Yg_valid_dummy),\n",
    "                 nb_epoch=5, batch_size=64, verbose=1)"
   ]
  },
  {
   "cell_type": "code",
   "execution_count": 66,
   "metadata": {
    "collapsed": false
   },
   "outputs": [
    {
     "name": "stdout",
     "output_type": "stream",
     "text": [
      "[ 0.19560926  0.13277987]\n",
      "[ 0.8672201   0.80439073]\n"
     ]
    }
   ],
   "source": [
    "# to check the mixing is not degenerate\n",
    "print( np.min(modelG_pred.predict(Xnn_train[0:5000,:])[2], axis=0) )\n",
    "print( np.max(modelG_pred.predict(Xnn_train[0:5000,:])[2], axis=0) )"
   ]
  },
  {
   "cell_type": "code",
   "execution_count": 67,
   "metadata": {
    "collapsed": false
   },
   "outputs": [
    {
     "data": {
      "text/plain": [
       "array([[ 9,  0, 13, 27,  5,  0,  8, 37],\n",
       "       [ 0,  0,  0, 65,  1,  0,  1, 59],\n",
       "       [ 3, 13, 19, 22,  3,  9, 18, 27],\n",
       "       [ 0,  0,  0, 67,  3,  0,  4, 53],\n",
       "       [ 5,  1, 28,  2,  4,  1, 18, 26],\n",
       "       [10,  3, 16, 18,  9,  7, 21, 11],\n",
       "       [ 4,  2, 18, 14,  2,  5, 13, 15],\n",
       "       [ 8,  2,  7, 27,  4,  2,  2, 35],\n",
       "       [11,  1, 21, 17,  6,  0,  7, 38],\n",
       "       [ 2,  2, 28, 15,  3,  2, 13, 30]])"
      ]
     },
     "execution_count": 67,
     "metadata": {},
     "output_type": "execute_result"
    }
   ],
   "source": [
    "# round up forecasted probabilities\n",
    "(modelG_pred.predict(Xnn_train[5000:5010,:])[0]*100).astype(int)"
   ]
  },
  {
   "cell_type": "code",
   "execution_count": 120,
   "metadata": {
    "collapsed": false
   },
   "outputs": [
    {
     "data": {
      "text/plain": [
       "2.2577395473433866"
      ]
     },
     "execution_count": 120,
     "metadata": {},
     "output_type": "execute_result"
    }
   ],
   "source": [
    "# there is a bug with 0-th index output as CE is too large\n",
    "log_loss(Ynn_train, modelG_pred.predict(Xnn_train)[0], eps=1e-3, normalize=True)"
   ]
  },
  {
   "cell_type": "code",
   "execution_count": 121,
   "metadata": {
    "collapsed": false
   },
   "outputs": [
    {
     "data": {
      "text/plain": [
       "2.195573056306388"
      ]
     },
     "execution_count": 121,
     "metadata": {},
     "output_type": "execute_result"
    }
   ],
   "source": [
    "# there is a bug with 0-th index output as CE is too large\n",
    "-np.mean(np.log(np.sum(Ynn_train * modelG_pred.predict(Xnn_train)[0], axis=1))) # log out of sum is fine"
   ]
  },
  {
   "cell_type": "code",
   "execution_count": 123,
   "metadata": {
    "collapsed": false
   },
   "outputs": [],
   "source": [
    "preds = modelG_pred.predict(Xnn_train)"
   ]
  },
  {
   "cell_type": "code",
   "execution_count": 124,
   "metadata": {
    "collapsed": false
   },
   "outputs": [],
   "source": [
    "Ypred = np.sum(preds[1] * np.tile(np.expand_dims(preds[2],2), (1, 1, 8)), axis=1)"
   ]
  },
  {
   "cell_type": "code",
   "execution_count": 125,
   "metadata": {
    "collapsed": false
   },
   "outputs": [
    {
     "data": {
      "text/plain": [
       "1.317130311183603"
      ]
     },
     "execution_count": 125,
     "metadata": {},
     "output_type": "execute_result"
    }
   ],
   "source": [
    "# this CE value is consistent so 1-th and 2-th index seem fine\n",
    "-np.mean(np.log(np.sum(Ynn_train * Ypred, axis=1)))"
   ]
  },
  {
   "cell_type": "code",
   "execution_count": null,
   "metadata": {
    "collapsed": true
   },
   "outputs": [],
   "source": []
  }
 ],
 "metadata": {
  "kernelspec": {
   "display_name": "Python 2",
   "language": "python",
   "name": "python2"
  },
  "language_info": {
   "codemirror_mode": {
    "name": "ipython",
    "version": 2
   },
   "file_extension": ".py",
   "mimetype": "text/x-python",
   "name": "python",
   "nbconvert_exporter": "python",
   "pygments_lexer": "ipython2",
   "version": "2.7.11"
  }
 },
 "nbformat": 4,
 "nbformat_minor": 0
}
